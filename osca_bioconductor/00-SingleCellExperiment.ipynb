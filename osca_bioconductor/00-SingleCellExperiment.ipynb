{
 "cells": [
  {
   "cell_type": "code",
   "execution_count": 1,
   "metadata": {
    "vscode": {
     "languageId": "r"
    }
   },
   "outputs": [
    {
     "name": "stderr",
     "output_type": "stream",
     "text": [
      "Loading required package: SummarizedExperiment\n",
      "\n",
      "Loading required package: MatrixGenerics\n",
      "\n",
      "Loading required package: matrixStats\n",
      "\n",
      "\n",
      "Attaching package: ‘MatrixGenerics’\n",
      "\n",
      "\n",
      "The following objects are masked from ‘package:matrixStats’:\n",
      "\n",
      "    colAlls, colAnyNAs, colAnys, colAvgsPerRowSet, colCollapse,\n",
      "    colCounts, colCummaxs, colCummins, colCumprods, colCumsums,\n",
      "    colDiffs, colIQRDiffs, colIQRs, colLogSumExps, colMadDiffs,\n",
      "    colMads, colMaxs, colMeans2, colMedians, colMins, colOrderStats,\n",
      "    colProds, colQuantiles, colRanges, colRanks, colSdDiffs, colSds,\n",
      "    colSums2, colTabulates, colVarDiffs, colVars, colWeightedMads,\n",
      "    colWeightedMeans, colWeightedMedians, colWeightedSds,\n",
      "    colWeightedVars, rowAlls, rowAnyNAs, rowAnys, rowAvgsPerColSet,\n",
      "    rowCollapse, rowCounts, rowCummaxs, rowCummins, rowCumprods,\n",
      "    rowCumsums, rowDiffs, rowIQRDiffs, rowIQRs, rowLogSumExps,\n",
      "    rowMadDiffs, rowMads, rowMaxs, rowMeans2, rowMedians, rowMins,\n",
      "    rowOrderStats, rowProds, rowQuantiles, rowRanges, rowRanks,\n",
      "    rowSdDiffs, rowSds, rowSums2, rowTabulates, rowVarDiffs, rowVars,\n",
      "    rowWeightedMads, rowWeightedMeans, rowWeightedMedians,\n",
      "    rowWeightedSds, rowWeightedVars\n",
      "\n",
      "\n",
      "Loading required package: GenomicRanges\n",
      "\n",
      "Loading required package: stats4\n",
      "\n",
      "Loading required package: BiocGenerics\n",
      "\n",
      "\n",
      "Attaching package: ‘BiocGenerics’\n",
      "\n",
      "\n",
      "The following objects are masked from ‘package:stats’:\n",
      "\n",
      "    IQR, mad, sd, var, xtabs\n",
      "\n",
      "\n",
      "The following objects are masked from ‘package:base’:\n",
      "\n",
      "    anyDuplicated, aperm, append, as.data.frame, basename, cbind,\n",
      "    colnames, dirname, do.call, duplicated, eval, evalq, Filter, Find,\n",
      "    get, grep, grepl, intersect, is.unsorted, lapply, Map, mapply,\n",
      "    match, mget, order, paste, pmax, pmax.int, pmin, pmin.int,\n",
      "    Position, rank, rbind, Reduce, rownames, sapply, setdiff, sort,\n",
      "    table, tapply, union, unique, unsplit, which.max, which.min\n",
      "\n",
      "\n",
      "Loading required package: S4Vectors\n",
      "\n",
      "\n",
      "Attaching package: ‘S4Vectors’\n",
      "\n",
      "\n",
      "The following objects are masked from ‘package:base’:\n",
      "\n",
      "    expand.grid, I, unname\n",
      "\n",
      "\n",
      "Loading required package: IRanges\n",
      "\n",
      "Loading required package: GenomeInfoDb\n",
      "\n",
      "Loading required package: Biobase\n",
      "\n",
      "Welcome to Bioconductor\n",
      "\n",
      "    Vignettes contain introductory material; view with\n",
      "    'browseVignettes()'. To cite Bioconductor, see\n",
      "    'citation(\"Biobase\")', and for packages 'citation(\"pkgname\")'.\n",
      "\n",
      "\n",
      "\n",
      "Attaching package: ‘Biobase’\n",
      "\n",
      "\n",
      "The following object is masked from ‘package:MatrixGenerics’:\n",
      "\n",
      "    rowMedians\n",
      "\n",
      "\n",
      "The following objects are masked from ‘package:matrixStats’:\n",
      "\n",
      "    anyMissing, rowMedians\n",
      "\n",
      "\n"
     ]
    }
   ],
   "source": [
    "library(SingleCellExperiment)"
   ]
  },
  {
   "cell_type": "code",
   "execution_count": 9,
   "metadata": {
    "vscode": {
     "languageId": "r"
    }
   },
   "outputs": [],
   "source": [
    "mat <- read.delim(\"dataset/counts_Calero_20160113.tsv\",\n",
    "    header=TRUE, row.names=1, check.names=FALSE)\n",
    "\n",
    "# Only considering endogenous genes for now.\n",
    "spike.mat <- mat[grepl(\"^ERCC-\", rownames(mat)),] \n",
    "mat <- mat[grepl(\"^ENSMUSG\", rownames(mat)),] \n",
    "\n",
    "# Splitting off the gene length column.\n",
    "gene.length <- mat[,1]\n",
    "mat <- as.matrix(mat[,-1]) "
   ]
  },
  {
   "cell_type": "code",
   "execution_count": 10,
   "metadata": {
    "vscode": {
     "languageId": "r"
    }
   },
   "outputs": [
    {
     "data": {
      "text/html": [
       "<style>\n",
       ".list-inline {list-style: none; margin:0; padding: 0}\n",
       ".list-inline>li {display: inline-block}\n",
       ".list-inline>li:not(:last-child)::after {content: \"\\00b7\"; padding: 0 .5ex}\n",
       "</style>\n",
       "<ol class=list-inline><li>46603</li><li>96</li></ol>\n"
      ],
      "text/latex": [
       "\\begin{enumerate*}\n",
       "\\item 46603\n",
       "\\item 96\n",
       "\\end{enumerate*}\n"
      ],
      "text/markdown": [
       "1. 46603\n",
       "2. 96\n",
       "\n",
       "\n"
      ],
      "text/plain": [
       "[1] 46603    96"
      ]
     },
     "metadata": {},
     "output_type": "display_data"
    }
   ],
   "source": [
    "dim(mat)"
   ]
  },
  {
   "cell_type": "markdown",
   "metadata": {},
   "source": [
    "# Storing primary experimental data"
   ]
  },
  {
   "cell_type": "markdown",
   "metadata": {},
   "source": [
    "##  Filling the assays slot"
   ]
  },
  {
   "cell_type": "code",
   "execution_count": 15,
   "metadata": {
    "vscode": {
     "languageId": "r"
    }
   },
   "outputs": [
    {
     "data": {
      "text/plain": [
       "class: SingleCellExperiment \n",
       "dim: 46603 96 \n",
       "metadata(0):\n",
       "assays(1): counts\n",
       "rownames(46603): ENSMUSG00000102693 ENSMUSG00000064842 ...\n",
       "  ENSMUSG00000096730 ENSMUSG00000095742\n",
       "rowData names(0):\n",
       "colnames(96): SLX-9555.N701_S502.C89V9ANXX.s_1.r_1\n",
       "  SLX-9555.N701_S503.C89V9ANXX.s_1.r_1 ...\n",
       "  SLX-9555.N712_S508.C89V9ANXX.s_1.r_1\n",
       "  SLX-9555.N712_S517.C89V9ANXX.s_1.r_1\n",
       "colData names(0):\n",
       "reducedDimNames(0):\n",
       "mainExpName: NULL\n",
       "altExpNames(0):"
      ]
     },
     "metadata": {},
     "output_type": "display_data"
    }
   ],
   "source": [
    "sce <- SingleCellExperiment(assays = list(counts = mat))\n",
    "sce"
   ]
  },
  {
   "cell_type": "code",
   "execution_count": 16,
   "metadata": {
    "vscode": {
     "languageId": "r"
    }
   },
   "outputs": [
    {
     "data": {
      "text/html": [
       "<table class=\"dataframe\">\n",
       "<caption>A matrix: 46603 × 96 of type int</caption>\n",
       "<thead>\n",
       "\t<tr><th></th><th scope=col>SLX-9555.N701_S502.C89V9ANXX.s_1.r_1</th><th scope=col>SLX-9555.N701_S503.C89V9ANXX.s_1.r_1</th><th scope=col>SLX-9555.N701_S504.C89V9ANXX.s_1.r_1</th><th scope=col>SLX-9555.N701_S505.C89V9ANXX.s_1.r_1</th><th scope=col>SLX-9555.N701_S506.C89V9ANXX.s_1.r_1</th><th scope=col>SLX-9555.N701_S507.C89V9ANXX.s_1.r_1</th><th scope=col>SLX-9555.N701_S508.C89V9ANXX.s_1.r_1</th><th scope=col>SLX-9555.N701_S517.C89V9ANXX.s_1.r_1</th><th scope=col>SLX-9555.N702_S502.C89V9ANXX.s_1.r_1</th><th scope=col>SLX-9555.N702_S503.C89V9ANXX.s_1.r_1</th><th scope=col>⋯</th><th scope=col>SLX-9555.N711_S508.C89V9ANXX.s_1.r_1</th><th scope=col>SLX-9555.N711_S517.C89V9ANXX.s_1.r_1</th><th scope=col>SLX-9555.N712_S502.C89V9ANXX.s_1.r_1</th><th scope=col>SLX-9555.N712_S503.C89V9ANXX.s_1.r_1</th><th scope=col>SLX-9555.N712_S504.C89V9ANXX.s_1.r_1</th><th scope=col>SLX-9555.N712_S505.C89V9ANXX.s_1.r_1</th><th scope=col>SLX-9555.N712_S506.C89V9ANXX.s_1.r_1</th><th scope=col>SLX-9555.N712_S507.C89V9ANXX.s_1.r_1</th><th scope=col>SLX-9555.N712_S508.C89V9ANXX.s_1.r_1</th><th scope=col>SLX-9555.N712_S517.C89V9ANXX.s_1.r_1</th></tr>\n",
       "</thead>\n",
       "<tbody>\n",
       "\t<tr><th scope=row>ENSMUSG00000102693</th><td>0</td><td>0</td><td>0</td><td>0</td><td>0</td><td>0</td><td>0</td><td>0</td><td>0</td><td>0</td><td>⋯</td><td>0</td><td>0</td><td> 0</td><td>0</td><td> 0</td><td>0</td><td>0</td><td>0</td><td> 0</td><td>0</td></tr>\n",
       "\t<tr><th scope=row>ENSMUSG00000064842</th><td>0</td><td>0</td><td>0</td><td>0</td><td>0</td><td>0</td><td>0</td><td>0</td><td>0</td><td>0</td><td>⋯</td><td>0</td><td>0</td><td> 0</td><td>0</td><td> 0</td><td>0</td><td>0</td><td>0</td><td> 0</td><td>0</td></tr>\n",
       "\t<tr><th scope=row>ENSMUSG00000051951</th><td>0</td><td>0</td><td>0</td><td>0</td><td>0</td><td>0</td><td>0</td><td>0</td><td>0</td><td>0</td><td>⋯</td><td>0</td><td>0</td><td> 0</td><td>0</td><td> 0</td><td>0</td><td>0</td><td>0</td><td> 0</td><td>0</td></tr>\n",
       "\t<tr><th scope=row>ENSMUSG00000102851</th><td>0</td><td>0</td><td>0</td><td>0</td><td>0</td><td>0</td><td>0</td><td>0</td><td>0</td><td>0</td><td>⋯</td><td>0</td><td>0</td><td> 0</td><td>0</td><td> 0</td><td>0</td><td>0</td><td>0</td><td> 0</td><td>0</td></tr>\n",
       "\t<tr><th scope=row>ENSMUSG00000103377</th><td>0</td><td>0</td><td>0</td><td>0</td><td>0</td><td>0</td><td>0</td><td>0</td><td>0</td><td>0</td><td>⋯</td><td>0</td><td>0</td><td> 0</td><td>0</td><td> 0</td><td>0</td><td>0</td><td>0</td><td> 0</td><td>0</td></tr>\n",
       "\t<tr><th scope=row>ENSMUSG00000104017</th><td>0</td><td>0</td><td>0</td><td>0</td><td>0</td><td>0</td><td>0</td><td>0</td><td>0</td><td>0</td><td>⋯</td><td>0</td><td>0</td><td> 0</td><td>0</td><td> 0</td><td>0</td><td>0</td><td>0</td><td> 0</td><td>0</td></tr>\n",
       "\t<tr><th scope=row>ENSMUSG00000103025</th><td>0</td><td>0</td><td>0</td><td>0</td><td>0</td><td>0</td><td>0</td><td>0</td><td>0</td><td>0</td><td>⋯</td><td>0</td><td>0</td><td> 0</td><td>0</td><td> 0</td><td>0</td><td>0</td><td>0</td><td> 0</td><td>0</td></tr>\n",
       "\t<tr><th scope=row>ENSMUSG00000089699</th><td>0</td><td>0</td><td>0</td><td>0</td><td>0</td><td>0</td><td>0</td><td>0</td><td>0</td><td>0</td><td>⋯</td><td>0</td><td>0</td><td> 0</td><td>0</td><td> 0</td><td>0</td><td>0</td><td>0</td><td> 0</td><td>0</td></tr>\n",
       "\t<tr><th scope=row>ENSMUSG00000103201</th><td>0</td><td>0</td><td>0</td><td>0</td><td>0</td><td>0</td><td>0</td><td>0</td><td>0</td><td>0</td><td>⋯</td><td>0</td><td>0</td><td> 0</td><td>0</td><td> 0</td><td>0</td><td>0</td><td>0</td><td> 0</td><td>0</td></tr>\n",
       "\t<tr><th scope=row>ENSMUSG00000103147</th><td>0</td><td>0</td><td>0</td><td>0</td><td>0</td><td>0</td><td>0</td><td>0</td><td>0</td><td>0</td><td>⋯</td><td>0</td><td>0</td><td> 0</td><td>0</td><td> 0</td><td>0</td><td>0</td><td>0</td><td> 0</td><td>0</td></tr>\n",
       "\t<tr><th scope=row>ENSMUSG00000103161</th><td>0</td><td>0</td><td>0</td><td>0</td><td>0</td><td>0</td><td>0</td><td>0</td><td>0</td><td>0</td><td>⋯</td><td>0</td><td>0</td><td> 0</td><td>0</td><td> 0</td><td>0</td><td>0</td><td>0</td><td> 0</td><td>0</td></tr>\n",
       "\t<tr><th scope=row>ENSMUSG00000102331</th><td>0</td><td>0</td><td>0</td><td>0</td><td>0</td><td>0</td><td>0</td><td>0</td><td>0</td><td>0</td><td>⋯</td><td>0</td><td>0</td><td> 0</td><td>4</td><td> 0</td><td>0</td><td>0</td><td>0</td><td> 0</td><td>0</td></tr>\n",
       "\t<tr><th scope=row>ENSMUSG00000102348</th><td>0</td><td>0</td><td>0</td><td>0</td><td>0</td><td>0</td><td>0</td><td>0</td><td>0</td><td>0</td><td>⋯</td><td>0</td><td>0</td><td> 0</td><td>0</td><td> 0</td><td>0</td><td>0</td><td>0</td><td> 0</td><td>0</td></tr>\n",
       "\t<tr><th scope=row>ENSMUSG00000102592</th><td>0</td><td>0</td><td>0</td><td>0</td><td>0</td><td>0</td><td>0</td><td>0</td><td>0</td><td>0</td><td>⋯</td><td>0</td><td>0</td><td> 0</td><td>0</td><td> 0</td><td>0</td><td>0</td><td>0</td><td> 0</td><td>0</td></tr>\n",
       "\t<tr><th scope=row>ENSMUSG00000088333</th><td>0</td><td>0</td><td>0</td><td>0</td><td>0</td><td>0</td><td>0</td><td>0</td><td>0</td><td>0</td><td>⋯</td><td>0</td><td>0</td><td> 0</td><td>0</td><td> 0</td><td>0</td><td>0</td><td>0</td><td> 0</td><td>0</td></tr>\n",
       "\t<tr><th scope=row>ENSMUSG00000102343</th><td>0</td><td>0</td><td>0</td><td>0</td><td>0</td><td>0</td><td>0</td><td>0</td><td>0</td><td>0</td><td>⋯</td><td>0</td><td>0</td><td> 0</td><td>0</td><td> 0</td><td>0</td><td>0</td><td>0</td><td> 0</td><td>0</td></tr>\n",
       "\t<tr><th scope=row>ENSMUSG00000102948</th><td>0</td><td>0</td><td>0</td><td>0</td><td>0</td><td>0</td><td>0</td><td>0</td><td>0</td><td>0</td><td>⋯</td><td>0</td><td>0</td><td> 0</td><td>0</td><td> 0</td><td>0</td><td>0</td><td>0</td><td> 0</td><td>0</td></tr>\n",
       "\t<tr><th scope=row>ENSMUSG00000025900</th><td>0</td><td>0</td><td>0</td><td>0</td><td>0</td><td>0</td><td>0</td><td>0</td><td>0</td><td>0</td><td>⋯</td><td>0</td><td>0</td><td> 0</td><td>0</td><td> 0</td><td>0</td><td>0</td><td>0</td><td> 0</td><td>0</td></tr>\n",
       "\t<tr><th scope=row>ENSMUSG00000104123</th><td>0</td><td>0</td><td>0</td><td>0</td><td>0</td><td>0</td><td>0</td><td>0</td><td>0</td><td>0</td><td>⋯</td><td>0</td><td>0</td><td> 0</td><td>0</td><td> 0</td><td>0</td><td>0</td><td>0</td><td> 0</td><td>0</td></tr>\n",
       "\t<tr><th scope=row>ENSMUSG00000025902</th><td>0</td><td>0</td><td>0</td><td>0</td><td>0</td><td>0</td><td>0</td><td>0</td><td>0</td><td>0</td><td>⋯</td><td>0</td><td>0</td><td> 0</td><td>0</td><td> 0</td><td>0</td><td>0</td><td>0</td><td> 0</td><td>0</td></tr>\n",
       "\t<tr><th scope=row>ENSMUSG00000104238</th><td>0</td><td>0</td><td>0</td><td>0</td><td>0</td><td>0</td><td>0</td><td>0</td><td>0</td><td>0</td><td>⋯</td><td>0</td><td>0</td><td> 0</td><td>0</td><td> 0</td><td>0</td><td>0</td><td>0</td><td> 0</td><td>0</td></tr>\n",
       "\t<tr><th scope=row>ENSMUSG00000102269</th><td>2</td><td>0</td><td>0</td><td>0</td><td>3</td><td>0</td><td>0</td><td>0</td><td>0</td><td>2</td><td>⋯</td><td>0</td><td>0</td><td> 0</td><td>2</td><td> 0</td><td>0</td><td>3</td><td>2</td><td> 0</td><td>0</td></tr>\n",
       "\t<tr><th scope=row>ENSMUSG00000096126</th><td>0</td><td>0</td><td>0</td><td>0</td><td>0</td><td>0</td><td>0</td><td>0</td><td>0</td><td>0</td><td>⋯</td><td>0</td><td>0</td><td> 0</td><td>0</td><td> 0</td><td>0</td><td>0</td><td>0</td><td> 0</td><td>0</td></tr>\n",
       "\t<tr><th scope=row>ENSMUSG00000103003</th><td>0</td><td>0</td><td>0</td><td>0</td><td>0</td><td>0</td><td>0</td><td>0</td><td>0</td><td>0</td><td>⋯</td><td>0</td><td>0</td><td> 0</td><td>0</td><td> 0</td><td>0</td><td>0</td><td>0</td><td> 0</td><td>0</td></tr>\n",
       "\t<tr><th scope=row>ENSMUSG00000104328</th><td>0</td><td>0</td><td>0</td><td>0</td><td>0</td><td>0</td><td>0</td><td>0</td><td>0</td><td>0</td><td>⋯</td><td>0</td><td>0</td><td> 0</td><td>0</td><td> 0</td><td>0</td><td>0</td><td>0</td><td> 0</td><td>0</td></tr>\n",
       "\t<tr><th scope=row>ENSMUSG00000102735</th><td>0</td><td>0</td><td>0</td><td>0</td><td>0</td><td>0</td><td>0</td><td>0</td><td>0</td><td>0</td><td>⋯</td><td>0</td><td>0</td><td> 0</td><td>0</td><td> 0</td><td>0</td><td>0</td><td>0</td><td> 0</td><td>0</td></tr>\n",
       "\t<tr><th scope=row>ENSMUSG00000098104</th><td>2</td><td>4</td><td>0</td><td>7</td><td>8</td><td>8</td><td>4</td><td>2</td><td>8</td><td>2</td><td>⋯</td><td>9</td><td>5</td><td>15</td><td>8</td><td>15</td><td>0</td><td>7</td><td>5</td><td>18</td><td>1</td></tr>\n",
       "\t<tr><th scope=row>ENSMUSG00000102175</th><td>0</td><td>0</td><td>0</td><td>2</td><td>0</td><td>0</td><td>0</td><td>0</td><td>0</td><td>0</td><td>⋯</td><td>0</td><td>0</td><td> 0</td><td>0</td><td> 0</td><td>0</td><td>1</td><td>0</td><td> 0</td><td>0</td></tr>\n",
       "\t<tr><th scope=row>ENSMUSG00000088000</th><td>0</td><td>0</td><td>0</td><td>0</td><td>0</td><td>0</td><td>0</td><td>0</td><td>0</td><td>0</td><td>⋯</td><td>0</td><td>0</td><td> 0</td><td>0</td><td> 0</td><td>0</td><td>0</td><td>0</td><td> 0</td><td>0</td></tr>\n",
       "\t<tr><th scope=row>ENSMUSG00000103265</th><td>0</td><td>0</td><td>0</td><td>0</td><td>0</td><td>0</td><td>0</td><td>0</td><td>0</td><td>0</td><td>⋯</td><td>0</td><td>0</td><td> 0</td><td>0</td><td> 0</td><td>0</td><td>0</td><td>0</td><td> 0</td><td>0</td></tr>\n",
       "\t<tr><th scope=row>⋮</th><td>⋮</td><td>⋮</td><td>⋮</td><td>⋮</td><td>⋮</td><td>⋮</td><td>⋮</td><td>⋮</td><td>⋮</td><td>⋮</td><td>⋱</td><td>⋮</td><td>⋮</td><td>⋮</td><td>⋮</td><td>⋮</td><td>⋮</td><td>⋮</td><td>⋮</td><td>⋮</td><td>⋮</td></tr>\n",
       "\t<tr><th scope=row>ENSMUSG00000096728</th><td>0</td><td>0</td><td>0</td><td>0</td><td>0</td><td>0</td><td>0</td><td>0</td><td>0</td><td>0</td><td>⋯</td><td>0</td><td>0</td><td>0</td><td>0</td><td>0</td><td>0</td><td>0</td><td>0</td><td>0</td><td>0</td></tr>\n",
       "\t<tr><th scope=row>ENSMUSG00000093828</th><td>0</td><td>0</td><td>0</td><td>0</td><td>0</td><td>0</td><td>0</td><td>0</td><td>0</td><td>0</td><td>⋯</td><td>0</td><td>0</td><td>0</td><td>0</td><td>0</td><td>0</td><td>0</td><td>0</td><td>0</td><td>0</td></tr>\n",
       "\t<tr><th scope=row>ENSMUSG00000095623</th><td>0</td><td>0</td><td>0</td><td>0</td><td>0</td><td>0</td><td>0</td><td>0</td><td>0</td><td>0</td><td>⋯</td><td>0</td><td>0</td><td>0</td><td>0</td><td>0</td><td>0</td><td>0</td><td>0</td><td>0</td><td>0</td></tr>\n",
       "\t<tr><th scope=row>ENSMUSG00000094661</th><td>0</td><td>0</td><td>0</td><td>0</td><td>0</td><td>0</td><td>0</td><td>0</td><td>0</td><td>0</td><td>⋯</td><td>0</td><td>0</td><td>0</td><td>0</td><td>0</td><td>0</td><td>0</td><td>0</td><td>0</td><td>0</td></tr>\n",
       "\t<tr><th scope=row>ENSMUSG00000095320</th><td>0</td><td>0</td><td>0</td><td>0</td><td>0</td><td>0</td><td>0</td><td>0</td><td>0</td><td>0</td><td>⋯</td><td>0</td><td>0</td><td>0</td><td>0</td><td>0</td><td>0</td><td>0</td><td>0</td><td>0</td><td>0</td></tr>\n",
       "\t<tr><th scope=row>ENSMUSG00000094350</th><td>0</td><td>0</td><td>0</td><td>0</td><td>0</td><td>0</td><td>0</td><td>0</td><td>0</td><td>0</td><td>⋯</td><td>0</td><td>0</td><td>0</td><td>0</td><td>0</td><td>0</td><td>0</td><td>0</td><td>0</td><td>0</td></tr>\n",
       "\t<tr><th scope=row>ENSMUSG00000096237</th><td>0</td><td>0</td><td>0</td><td>0</td><td>0</td><td>0</td><td>0</td><td>0</td><td>0</td><td>0</td><td>⋯</td><td>0</td><td>0</td><td>0</td><td>0</td><td>0</td><td>0</td><td>0</td><td>0</td><td>0</td><td>0</td></tr>\n",
       "\t<tr><th scope=row>ENSMUSG00000094722</th><td>0</td><td>0</td><td>0</td><td>0</td><td>0</td><td>0</td><td>0</td><td>0</td><td>0</td><td>0</td><td>⋯</td><td>0</td><td>0</td><td>0</td><td>0</td><td>0</td><td>0</td><td>0</td><td>0</td><td>0</td><td>0</td></tr>\n",
       "\t<tr><th scope=row>ENSMUSG00000095728</th><td>0</td><td>0</td><td>0</td><td>0</td><td>0</td><td>0</td><td>0</td><td>0</td><td>0</td><td>0</td><td>⋯</td><td>0</td><td>0</td><td>0</td><td>0</td><td>0</td><td>0</td><td>0</td><td>0</td><td>0</td><td>0</td></tr>\n",
       "\t<tr><th scope=row>ENSMUSG00000095076</th><td>0</td><td>0</td><td>0</td><td>0</td><td>0</td><td>0</td><td>0</td><td>0</td><td>0</td><td>0</td><td>⋯</td><td>0</td><td>0</td><td>0</td><td>0</td><td>0</td><td>0</td><td>0</td><td>0</td><td>0</td><td>0</td></tr>\n",
       "\t<tr><th scope=row>ENSMUSG00000096776</th><td>0</td><td>0</td><td>0</td><td>0</td><td>0</td><td>0</td><td>0</td><td>0</td><td>0</td><td>0</td><td>⋯</td><td>0</td><td>0</td><td>0</td><td>0</td><td>0</td><td>0</td><td>0</td><td>0</td><td>0</td><td>0</td></tr>\n",
       "\t<tr><th scope=row>ENSMUSG00000096244</th><td>0</td><td>0</td><td>0</td><td>0</td><td>0</td><td>0</td><td>0</td><td>0</td><td>0</td><td>0</td><td>⋯</td><td>0</td><td>0</td><td>0</td><td>0</td><td>0</td><td>0</td><td>0</td><td>0</td><td>0</td><td>0</td></tr>\n",
       "\t<tr><th scope=row>ENSMUSG00000079800</th><td>0</td><td>0</td><td>0</td><td>0</td><td>0</td><td>0</td><td>0</td><td>0</td><td>0</td><td>0</td><td>⋯</td><td>0</td><td>0</td><td>0</td><td>0</td><td>0</td><td>0</td><td>0</td><td>0</td><td>0</td><td>0</td></tr>\n",
       "\t<tr><th scope=row>ENSMUSG00000095092</th><td>0</td><td>0</td><td>0</td><td>0</td><td>0</td><td>0</td><td>0</td><td>0</td><td>0</td><td>0</td><td>⋯</td><td>0</td><td>0</td><td>0</td><td>0</td><td>0</td><td>0</td><td>0</td><td>0</td><td>0</td><td>0</td></tr>\n",
       "\t<tr><th scope=row>ENSMUSG00000079192</th><td>0</td><td>0</td><td>0</td><td>0</td><td>0</td><td>0</td><td>0</td><td>0</td><td>0</td><td>0</td><td>⋯</td><td>0</td><td>0</td><td>0</td><td>0</td><td>0</td><td>0</td><td>0</td><td>0</td><td>0</td><td>0</td></tr>\n",
       "\t<tr><th scope=row>ENSMUSG00000079794</th><td>0</td><td>0</td><td>0</td><td>0</td><td>0</td><td>0</td><td>0</td><td>0</td><td>0</td><td>0</td><td>⋯</td><td>0</td><td>0</td><td>0</td><td>0</td><td>0</td><td>0</td><td>0</td><td>0</td><td>0</td><td>0</td></tr>\n",
       "\t<tr><th scope=row>ENSMUSG00000094799</th><td>0</td><td>0</td><td>0</td><td>0</td><td>0</td><td>0</td><td>0</td><td>0</td><td>0</td><td>0</td><td>⋯</td><td>0</td><td>0</td><td>0</td><td>0</td><td>0</td><td>0</td><td>0</td><td>0</td><td>0</td><td>0</td></tr>\n",
       "\t<tr><th scope=row>ENSMUSG00000095019</th><td>0</td><td>0</td><td>0</td><td>0</td><td>0</td><td>0</td><td>0</td><td>0</td><td>0</td><td>0</td><td>⋯</td><td>0</td><td>0</td><td>0</td><td>0</td><td>0</td><td>0</td><td>0</td><td>0</td><td>0</td><td>0</td></tr>\n",
       "\t<tr><th scope=row>ENSMUSG00000094915</th><td>0</td><td>0</td><td>0</td><td>0</td><td>0</td><td>0</td><td>0</td><td>0</td><td>0</td><td>0</td><td>⋯</td><td>0</td><td>0</td><td>0</td><td>0</td><td>0</td><td>0</td><td>0</td><td>0</td><td>0</td><td>0</td></tr>\n",
       "\t<tr><th scope=row>ENSMUSG00000079808</th><td>0</td><td>0</td><td>0</td><td>0</td><td>0</td><td>0</td><td>0</td><td>0</td><td>0</td><td>0</td><td>⋯</td><td>0</td><td>0</td><td>0</td><td>0</td><td>0</td><td>0</td><td>0</td><td>0</td><td>0</td><td>0</td></tr>\n",
       "\t<tr><th scope=row>ENSMUSG00000095041</th><td>0</td><td>0</td><td>0</td><td>0</td><td>0</td><td>0</td><td>0</td><td>0</td><td>0</td><td>0</td><td>⋯</td><td>0</td><td>0</td><td>0</td><td>0</td><td>0</td><td>0</td><td>0</td><td>0</td><td>0</td><td>0</td></tr>\n",
       "\t<tr><th scope=row>ENSMUSG00000063897</th><td>0</td><td>0</td><td>0</td><td>0</td><td>0</td><td>0</td><td>0</td><td>0</td><td>0</td><td>0</td><td>⋯</td><td>0</td><td>0</td><td>0</td><td>0</td><td>0</td><td>0</td><td>0</td><td>0</td><td>0</td><td>0</td></tr>\n",
       "\t<tr><th scope=row>ENSMUSG00000084520</th><td>0</td><td>0</td><td>0</td><td>0</td><td>0</td><td>0</td><td>0</td><td>0</td><td>0</td><td>0</td><td>⋯</td><td>0</td><td>0</td><td>0</td><td>0</td><td>0</td><td>0</td><td>0</td><td>0</td><td>0</td><td>0</td></tr>\n",
       "\t<tr><th scope=row>ENSMUSG00000099278</th><td>0</td><td>0</td><td>0</td><td>0</td><td>0</td><td>0</td><td>0</td><td>0</td><td>0</td><td>0</td><td>⋯</td><td>0</td><td>0</td><td>0</td><td>0</td><td>0</td><td>0</td><td>0</td><td>0</td><td>0</td><td>0</td></tr>\n",
       "\t<tr><th scope=row>ENSMUSG00000095434</th><td>0</td><td>0</td><td>0</td><td>0</td><td>0</td><td>0</td><td>0</td><td>0</td><td>0</td><td>0</td><td>⋯</td><td>0</td><td>0</td><td>0</td><td>0</td><td>0</td><td>0</td><td>0</td><td>0</td><td>0</td><td>0</td></tr>\n",
       "\t<tr><th scope=row>ENSMUSG00000094431</th><td>0</td><td>0</td><td>0</td><td>0</td><td>0</td><td>0</td><td>0</td><td>0</td><td>0</td><td>0</td><td>⋯</td><td>0</td><td>0</td><td>0</td><td>0</td><td>0</td><td>0</td><td>0</td><td>0</td><td>0</td><td>0</td></tr>\n",
       "\t<tr><th scope=row>ENSMUSG00000094621</th><td>0</td><td>0</td><td>0</td><td>0</td><td>0</td><td>0</td><td>0</td><td>0</td><td>0</td><td>0</td><td>⋯</td><td>0</td><td>0</td><td>0</td><td>0</td><td>0</td><td>0</td><td>0</td><td>0</td><td>0</td><td>0</td></tr>\n",
       "\t<tr><th scope=row>ENSMUSG00000098647</th><td>0</td><td>0</td><td>0</td><td>0</td><td>0</td><td>0</td><td>0</td><td>0</td><td>0</td><td>0</td><td>⋯</td><td>0</td><td>0</td><td>0</td><td>0</td><td>0</td><td>0</td><td>0</td><td>0</td><td>0</td><td>0</td></tr>\n",
       "\t<tr><th scope=row>ENSMUSG00000096730</th><td>0</td><td>0</td><td>0</td><td>0</td><td>0</td><td>0</td><td>0</td><td>0</td><td>0</td><td>0</td><td>⋯</td><td>0</td><td>0</td><td>0</td><td>0</td><td>0</td><td>0</td><td>0</td><td>0</td><td>0</td><td>0</td></tr>\n",
       "\t<tr><th scope=row>ENSMUSG00000095742</th><td>0</td><td>0</td><td>0</td><td>0</td><td>0</td><td>0</td><td>0</td><td>0</td><td>0</td><td>0</td><td>⋯</td><td>0</td><td>0</td><td>0</td><td>0</td><td>0</td><td>0</td><td>0</td><td>0</td><td>0</td><td>0</td></tr>\n",
       "</tbody>\n",
       "</table>\n"
      ],
      "text/latex": [
       "A matrix: 46603 × 96 of type int\n",
       "\\begin{tabular}{r|lllllllllllllllllllll}\n",
       "  & SLX-9555.N701\\_S502.C89V9ANXX.s\\_1.r\\_1 & SLX-9555.N701\\_S503.C89V9ANXX.s\\_1.r\\_1 & SLX-9555.N701\\_S504.C89V9ANXX.s\\_1.r\\_1 & SLX-9555.N701\\_S505.C89V9ANXX.s\\_1.r\\_1 & SLX-9555.N701\\_S506.C89V9ANXX.s\\_1.r\\_1 & SLX-9555.N701\\_S507.C89V9ANXX.s\\_1.r\\_1 & SLX-9555.N701\\_S508.C89V9ANXX.s\\_1.r\\_1 & SLX-9555.N701\\_S517.C89V9ANXX.s\\_1.r\\_1 & SLX-9555.N702\\_S502.C89V9ANXX.s\\_1.r\\_1 & SLX-9555.N702\\_S503.C89V9ANXX.s\\_1.r\\_1 & ⋯ & SLX-9555.N711\\_S508.C89V9ANXX.s\\_1.r\\_1 & SLX-9555.N711\\_S517.C89V9ANXX.s\\_1.r\\_1 & SLX-9555.N712\\_S502.C89V9ANXX.s\\_1.r\\_1 & SLX-9555.N712\\_S503.C89V9ANXX.s\\_1.r\\_1 & SLX-9555.N712\\_S504.C89V9ANXX.s\\_1.r\\_1 & SLX-9555.N712\\_S505.C89V9ANXX.s\\_1.r\\_1 & SLX-9555.N712\\_S506.C89V9ANXX.s\\_1.r\\_1 & SLX-9555.N712\\_S507.C89V9ANXX.s\\_1.r\\_1 & SLX-9555.N712\\_S508.C89V9ANXX.s\\_1.r\\_1 & SLX-9555.N712\\_S517.C89V9ANXX.s\\_1.r\\_1\\\\\n",
       "\\hline\n",
       "\tENSMUSG00000102693 & 0 & 0 & 0 & 0 & 0 & 0 & 0 & 0 & 0 & 0 & ⋯ & 0 & 0 &  0 & 0 &  0 & 0 & 0 & 0 &  0 & 0\\\\\n",
       "\tENSMUSG00000064842 & 0 & 0 & 0 & 0 & 0 & 0 & 0 & 0 & 0 & 0 & ⋯ & 0 & 0 &  0 & 0 &  0 & 0 & 0 & 0 &  0 & 0\\\\\n",
       "\tENSMUSG00000051951 & 0 & 0 & 0 & 0 & 0 & 0 & 0 & 0 & 0 & 0 & ⋯ & 0 & 0 &  0 & 0 &  0 & 0 & 0 & 0 &  0 & 0\\\\\n",
       "\tENSMUSG00000102851 & 0 & 0 & 0 & 0 & 0 & 0 & 0 & 0 & 0 & 0 & ⋯ & 0 & 0 &  0 & 0 &  0 & 0 & 0 & 0 &  0 & 0\\\\\n",
       "\tENSMUSG00000103377 & 0 & 0 & 0 & 0 & 0 & 0 & 0 & 0 & 0 & 0 & ⋯ & 0 & 0 &  0 & 0 &  0 & 0 & 0 & 0 &  0 & 0\\\\\n",
       "\tENSMUSG00000104017 & 0 & 0 & 0 & 0 & 0 & 0 & 0 & 0 & 0 & 0 & ⋯ & 0 & 0 &  0 & 0 &  0 & 0 & 0 & 0 &  0 & 0\\\\\n",
       "\tENSMUSG00000103025 & 0 & 0 & 0 & 0 & 0 & 0 & 0 & 0 & 0 & 0 & ⋯ & 0 & 0 &  0 & 0 &  0 & 0 & 0 & 0 &  0 & 0\\\\\n",
       "\tENSMUSG00000089699 & 0 & 0 & 0 & 0 & 0 & 0 & 0 & 0 & 0 & 0 & ⋯ & 0 & 0 &  0 & 0 &  0 & 0 & 0 & 0 &  0 & 0\\\\\n",
       "\tENSMUSG00000103201 & 0 & 0 & 0 & 0 & 0 & 0 & 0 & 0 & 0 & 0 & ⋯ & 0 & 0 &  0 & 0 &  0 & 0 & 0 & 0 &  0 & 0\\\\\n",
       "\tENSMUSG00000103147 & 0 & 0 & 0 & 0 & 0 & 0 & 0 & 0 & 0 & 0 & ⋯ & 0 & 0 &  0 & 0 &  0 & 0 & 0 & 0 &  0 & 0\\\\\n",
       "\tENSMUSG00000103161 & 0 & 0 & 0 & 0 & 0 & 0 & 0 & 0 & 0 & 0 & ⋯ & 0 & 0 &  0 & 0 &  0 & 0 & 0 & 0 &  0 & 0\\\\\n",
       "\tENSMUSG00000102331 & 0 & 0 & 0 & 0 & 0 & 0 & 0 & 0 & 0 & 0 & ⋯ & 0 & 0 &  0 & 4 &  0 & 0 & 0 & 0 &  0 & 0\\\\\n",
       "\tENSMUSG00000102348 & 0 & 0 & 0 & 0 & 0 & 0 & 0 & 0 & 0 & 0 & ⋯ & 0 & 0 &  0 & 0 &  0 & 0 & 0 & 0 &  0 & 0\\\\\n",
       "\tENSMUSG00000102592 & 0 & 0 & 0 & 0 & 0 & 0 & 0 & 0 & 0 & 0 & ⋯ & 0 & 0 &  0 & 0 &  0 & 0 & 0 & 0 &  0 & 0\\\\\n",
       "\tENSMUSG00000088333 & 0 & 0 & 0 & 0 & 0 & 0 & 0 & 0 & 0 & 0 & ⋯ & 0 & 0 &  0 & 0 &  0 & 0 & 0 & 0 &  0 & 0\\\\\n",
       "\tENSMUSG00000102343 & 0 & 0 & 0 & 0 & 0 & 0 & 0 & 0 & 0 & 0 & ⋯ & 0 & 0 &  0 & 0 &  0 & 0 & 0 & 0 &  0 & 0\\\\\n",
       "\tENSMUSG00000102948 & 0 & 0 & 0 & 0 & 0 & 0 & 0 & 0 & 0 & 0 & ⋯ & 0 & 0 &  0 & 0 &  0 & 0 & 0 & 0 &  0 & 0\\\\\n",
       "\tENSMUSG00000025900 & 0 & 0 & 0 & 0 & 0 & 0 & 0 & 0 & 0 & 0 & ⋯ & 0 & 0 &  0 & 0 &  0 & 0 & 0 & 0 &  0 & 0\\\\\n",
       "\tENSMUSG00000104123 & 0 & 0 & 0 & 0 & 0 & 0 & 0 & 0 & 0 & 0 & ⋯ & 0 & 0 &  0 & 0 &  0 & 0 & 0 & 0 &  0 & 0\\\\\n",
       "\tENSMUSG00000025902 & 0 & 0 & 0 & 0 & 0 & 0 & 0 & 0 & 0 & 0 & ⋯ & 0 & 0 &  0 & 0 &  0 & 0 & 0 & 0 &  0 & 0\\\\\n",
       "\tENSMUSG00000104238 & 0 & 0 & 0 & 0 & 0 & 0 & 0 & 0 & 0 & 0 & ⋯ & 0 & 0 &  0 & 0 &  0 & 0 & 0 & 0 &  0 & 0\\\\\n",
       "\tENSMUSG00000102269 & 2 & 0 & 0 & 0 & 3 & 0 & 0 & 0 & 0 & 2 & ⋯ & 0 & 0 &  0 & 2 &  0 & 0 & 3 & 2 &  0 & 0\\\\\n",
       "\tENSMUSG00000096126 & 0 & 0 & 0 & 0 & 0 & 0 & 0 & 0 & 0 & 0 & ⋯ & 0 & 0 &  0 & 0 &  0 & 0 & 0 & 0 &  0 & 0\\\\\n",
       "\tENSMUSG00000103003 & 0 & 0 & 0 & 0 & 0 & 0 & 0 & 0 & 0 & 0 & ⋯ & 0 & 0 &  0 & 0 &  0 & 0 & 0 & 0 &  0 & 0\\\\\n",
       "\tENSMUSG00000104328 & 0 & 0 & 0 & 0 & 0 & 0 & 0 & 0 & 0 & 0 & ⋯ & 0 & 0 &  0 & 0 &  0 & 0 & 0 & 0 &  0 & 0\\\\\n",
       "\tENSMUSG00000102735 & 0 & 0 & 0 & 0 & 0 & 0 & 0 & 0 & 0 & 0 & ⋯ & 0 & 0 &  0 & 0 &  0 & 0 & 0 & 0 &  0 & 0\\\\\n",
       "\tENSMUSG00000098104 & 2 & 4 & 0 & 7 & 8 & 8 & 4 & 2 & 8 & 2 & ⋯ & 9 & 5 & 15 & 8 & 15 & 0 & 7 & 5 & 18 & 1\\\\\n",
       "\tENSMUSG00000102175 & 0 & 0 & 0 & 2 & 0 & 0 & 0 & 0 & 0 & 0 & ⋯ & 0 & 0 &  0 & 0 &  0 & 0 & 1 & 0 &  0 & 0\\\\\n",
       "\tENSMUSG00000088000 & 0 & 0 & 0 & 0 & 0 & 0 & 0 & 0 & 0 & 0 & ⋯ & 0 & 0 &  0 & 0 &  0 & 0 & 0 & 0 &  0 & 0\\\\\n",
       "\tENSMUSG00000103265 & 0 & 0 & 0 & 0 & 0 & 0 & 0 & 0 & 0 & 0 & ⋯ & 0 & 0 &  0 & 0 &  0 & 0 & 0 & 0 &  0 & 0\\\\\n",
       "\t⋮ & ⋮ & ⋮ & ⋮ & ⋮ & ⋮ & ⋮ & ⋮ & ⋮ & ⋮ & ⋮ & ⋱ & ⋮ & ⋮ & ⋮ & ⋮ & ⋮ & ⋮ & ⋮ & ⋮ & ⋮ & ⋮\\\\\n",
       "\tENSMUSG00000096728 & 0 & 0 & 0 & 0 & 0 & 0 & 0 & 0 & 0 & 0 & ⋯ & 0 & 0 & 0 & 0 & 0 & 0 & 0 & 0 & 0 & 0\\\\\n",
       "\tENSMUSG00000093828 & 0 & 0 & 0 & 0 & 0 & 0 & 0 & 0 & 0 & 0 & ⋯ & 0 & 0 & 0 & 0 & 0 & 0 & 0 & 0 & 0 & 0\\\\\n",
       "\tENSMUSG00000095623 & 0 & 0 & 0 & 0 & 0 & 0 & 0 & 0 & 0 & 0 & ⋯ & 0 & 0 & 0 & 0 & 0 & 0 & 0 & 0 & 0 & 0\\\\\n",
       "\tENSMUSG00000094661 & 0 & 0 & 0 & 0 & 0 & 0 & 0 & 0 & 0 & 0 & ⋯ & 0 & 0 & 0 & 0 & 0 & 0 & 0 & 0 & 0 & 0\\\\\n",
       "\tENSMUSG00000095320 & 0 & 0 & 0 & 0 & 0 & 0 & 0 & 0 & 0 & 0 & ⋯ & 0 & 0 & 0 & 0 & 0 & 0 & 0 & 0 & 0 & 0\\\\\n",
       "\tENSMUSG00000094350 & 0 & 0 & 0 & 0 & 0 & 0 & 0 & 0 & 0 & 0 & ⋯ & 0 & 0 & 0 & 0 & 0 & 0 & 0 & 0 & 0 & 0\\\\\n",
       "\tENSMUSG00000096237 & 0 & 0 & 0 & 0 & 0 & 0 & 0 & 0 & 0 & 0 & ⋯ & 0 & 0 & 0 & 0 & 0 & 0 & 0 & 0 & 0 & 0\\\\\n",
       "\tENSMUSG00000094722 & 0 & 0 & 0 & 0 & 0 & 0 & 0 & 0 & 0 & 0 & ⋯ & 0 & 0 & 0 & 0 & 0 & 0 & 0 & 0 & 0 & 0\\\\\n",
       "\tENSMUSG00000095728 & 0 & 0 & 0 & 0 & 0 & 0 & 0 & 0 & 0 & 0 & ⋯ & 0 & 0 & 0 & 0 & 0 & 0 & 0 & 0 & 0 & 0\\\\\n",
       "\tENSMUSG00000095076 & 0 & 0 & 0 & 0 & 0 & 0 & 0 & 0 & 0 & 0 & ⋯ & 0 & 0 & 0 & 0 & 0 & 0 & 0 & 0 & 0 & 0\\\\\n",
       "\tENSMUSG00000096776 & 0 & 0 & 0 & 0 & 0 & 0 & 0 & 0 & 0 & 0 & ⋯ & 0 & 0 & 0 & 0 & 0 & 0 & 0 & 0 & 0 & 0\\\\\n",
       "\tENSMUSG00000096244 & 0 & 0 & 0 & 0 & 0 & 0 & 0 & 0 & 0 & 0 & ⋯ & 0 & 0 & 0 & 0 & 0 & 0 & 0 & 0 & 0 & 0\\\\\n",
       "\tENSMUSG00000079800 & 0 & 0 & 0 & 0 & 0 & 0 & 0 & 0 & 0 & 0 & ⋯ & 0 & 0 & 0 & 0 & 0 & 0 & 0 & 0 & 0 & 0\\\\\n",
       "\tENSMUSG00000095092 & 0 & 0 & 0 & 0 & 0 & 0 & 0 & 0 & 0 & 0 & ⋯ & 0 & 0 & 0 & 0 & 0 & 0 & 0 & 0 & 0 & 0\\\\\n",
       "\tENSMUSG00000079192 & 0 & 0 & 0 & 0 & 0 & 0 & 0 & 0 & 0 & 0 & ⋯ & 0 & 0 & 0 & 0 & 0 & 0 & 0 & 0 & 0 & 0\\\\\n",
       "\tENSMUSG00000079794 & 0 & 0 & 0 & 0 & 0 & 0 & 0 & 0 & 0 & 0 & ⋯ & 0 & 0 & 0 & 0 & 0 & 0 & 0 & 0 & 0 & 0\\\\\n",
       "\tENSMUSG00000094799 & 0 & 0 & 0 & 0 & 0 & 0 & 0 & 0 & 0 & 0 & ⋯ & 0 & 0 & 0 & 0 & 0 & 0 & 0 & 0 & 0 & 0\\\\\n",
       "\tENSMUSG00000095019 & 0 & 0 & 0 & 0 & 0 & 0 & 0 & 0 & 0 & 0 & ⋯ & 0 & 0 & 0 & 0 & 0 & 0 & 0 & 0 & 0 & 0\\\\\n",
       "\tENSMUSG00000094915 & 0 & 0 & 0 & 0 & 0 & 0 & 0 & 0 & 0 & 0 & ⋯ & 0 & 0 & 0 & 0 & 0 & 0 & 0 & 0 & 0 & 0\\\\\n",
       "\tENSMUSG00000079808 & 0 & 0 & 0 & 0 & 0 & 0 & 0 & 0 & 0 & 0 & ⋯ & 0 & 0 & 0 & 0 & 0 & 0 & 0 & 0 & 0 & 0\\\\\n",
       "\tENSMUSG00000095041 & 0 & 0 & 0 & 0 & 0 & 0 & 0 & 0 & 0 & 0 & ⋯ & 0 & 0 & 0 & 0 & 0 & 0 & 0 & 0 & 0 & 0\\\\\n",
       "\tENSMUSG00000063897 & 0 & 0 & 0 & 0 & 0 & 0 & 0 & 0 & 0 & 0 & ⋯ & 0 & 0 & 0 & 0 & 0 & 0 & 0 & 0 & 0 & 0\\\\\n",
       "\tENSMUSG00000084520 & 0 & 0 & 0 & 0 & 0 & 0 & 0 & 0 & 0 & 0 & ⋯ & 0 & 0 & 0 & 0 & 0 & 0 & 0 & 0 & 0 & 0\\\\\n",
       "\tENSMUSG00000099278 & 0 & 0 & 0 & 0 & 0 & 0 & 0 & 0 & 0 & 0 & ⋯ & 0 & 0 & 0 & 0 & 0 & 0 & 0 & 0 & 0 & 0\\\\\n",
       "\tENSMUSG00000095434 & 0 & 0 & 0 & 0 & 0 & 0 & 0 & 0 & 0 & 0 & ⋯ & 0 & 0 & 0 & 0 & 0 & 0 & 0 & 0 & 0 & 0\\\\\n",
       "\tENSMUSG00000094431 & 0 & 0 & 0 & 0 & 0 & 0 & 0 & 0 & 0 & 0 & ⋯ & 0 & 0 & 0 & 0 & 0 & 0 & 0 & 0 & 0 & 0\\\\\n",
       "\tENSMUSG00000094621 & 0 & 0 & 0 & 0 & 0 & 0 & 0 & 0 & 0 & 0 & ⋯ & 0 & 0 & 0 & 0 & 0 & 0 & 0 & 0 & 0 & 0\\\\\n",
       "\tENSMUSG00000098647 & 0 & 0 & 0 & 0 & 0 & 0 & 0 & 0 & 0 & 0 & ⋯ & 0 & 0 & 0 & 0 & 0 & 0 & 0 & 0 & 0 & 0\\\\\n",
       "\tENSMUSG00000096730 & 0 & 0 & 0 & 0 & 0 & 0 & 0 & 0 & 0 & 0 & ⋯ & 0 & 0 & 0 & 0 & 0 & 0 & 0 & 0 & 0 & 0\\\\\n",
       "\tENSMUSG00000095742 & 0 & 0 & 0 & 0 & 0 & 0 & 0 & 0 & 0 & 0 & ⋯ & 0 & 0 & 0 & 0 & 0 & 0 & 0 & 0 & 0 & 0\\\\\n",
       "\\end{tabular}\n"
      ],
      "text/markdown": [
       "\n",
       "A matrix: 46603 × 96 of type int\n",
       "\n",
       "| <!--/--> | SLX-9555.N701_S502.C89V9ANXX.s_1.r_1 | SLX-9555.N701_S503.C89V9ANXX.s_1.r_1 | SLX-9555.N701_S504.C89V9ANXX.s_1.r_1 | SLX-9555.N701_S505.C89V9ANXX.s_1.r_1 | SLX-9555.N701_S506.C89V9ANXX.s_1.r_1 | SLX-9555.N701_S507.C89V9ANXX.s_1.r_1 | SLX-9555.N701_S508.C89V9ANXX.s_1.r_1 | SLX-9555.N701_S517.C89V9ANXX.s_1.r_1 | SLX-9555.N702_S502.C89V9ANXX.s_1.r_1 | SLX-9555.N702_S503.C89V9ANXX.s_1.r_1 | ⋯ | SLX-9555.N711_S508.C89V9ANXX.s_1.r_1 | SLX-9555.N711_S517.C89V9ANXX.s_1.r_1 | SLX-9555.N712_S502.C89V9ANXX.s_1.r_1 | SLX-9555.N712_S503.C89V9ANXX.s_1.r_1 | SLX-9555.N712_S504.C89V9ANXX.s_1.r_1 | SLX-9555.N712_S505.C89V9ANXX.s_1.r_1 | SLX-9555.N712_S506.C89V9ANXX.s_1.r_1 | SLX-9555.N712_S507.C89V9ANXX.s_1.r_1 | SLX-9555.N712_S508.C89V9ANXX.s_1.r_1 | SLX-9555.N712_S517.C89V9ANXX.s_1.r_1 |\n",
       "|---|---|---|---|---|---|---|---|---|---|---|---|---|---|---|---|---|---|---|---|---|---|\n",
       "| ENSMUSG00000102693 | 0 | 0 | 0 | 0 | 0 | 0 | 0 | 0 | 0 | 0 | ⋯ | 0 | 0 |  0 | 0 |  0 | 0 | 0 | 0 |  0 | 0 |\n",
       "| ENSMUSG00000064842 | 0 | 0 | 0 | 0 | 0 | 0 | 0 | 0 | 0 | 0 | ⋯ | 0 | 0 |  0 | 0 |  0 | 0 | 0 | 0 |  0 | 0 |\n",
       "| ENSMUSG00000051951 | 0 | 0 | 0 | 0 | 0 | 0 | 0 | 0 | 0 | 0 | ⋯ | 0 | 0 |  0 | 0 |  0 | 0 | 0 | 0 |  0 | 0 |\n",
       "| ENSMUSG00000102851 | 0 | 0 | 0 | 0 | 0 | 0 | 0 | 0 | 0 | 0 | ⋯ | 0 | 0 |  0 | 0 |  0 | 0 | 0 | 0 |  0 | 0 |\n",
       "| ENSMUSG00000103377 | 0 | 0 | 0 | 0 | 0 | 0 | 0 | 0 | 0 | 0 | ⋯ | 0 | 0 |  0 | 0 |  0 | 0 | 0 | 0 |  0 | 0 |\n",
       "| ENSMUSG00000104017 | 0 | 0 | 0 | 0 | 0 | 0 | 0 | 0 | 0 | 0 | ⋯ | 0 | 0 |  0 | 0 |  0 | 0 | 0 | 0 |  0 | 0 |\n",
       "| ENSMUSG00000103025 | 0 | 0 | 0 | 0 | 0 | 0 | 0 | 0 | 0 | 0 | ⋯ | 0 | 0 |  0 | 0 |  0 | 0 | 0 | 0 |  0 | 0 |\n",
       "| ENSMUSG00000089699 | 0 | 0 | 0 | 0 | 0 | 0 | 0 | 0 | 0 | 0 | ⋯ | 0 | 0 |  0 | 0 |  0 | 0 | 0 | 0 |  0 | 0 |\n",
       "| ENSMUSG00000103201 | 0 | 0 | 0 | 0 | 0 | 0 | 0 | 0 | 0 | 0 | ⋯ | 0 | 0 |  0 | 0 |  0 | 0 | 0 | 0 |  0 | 0 |\n",
       "| ENSMUSG00000103147 | 0 | 0 | 0 | 0 | 0 | 0 | 0 | 0 | 0 | 0 | ⋯ | 0 | 0 |  0 | 0 |  0 | 0 | 0 | 0 |  0 | 0 |\n",
       "| ENSMUSG00000103161 | 0 | 0 | 0 | 0 | 0 | 0 | 0 | 0 | 0 | 0 | ⋯ | 0 | 0 |  0 | 0 |  0 | 0 | 0 | 0 |  0 | 0 |\n",
       "| ENSMUSG00000102331 | 0 | 0 | 0 | 0 | 0 | 0 | 0 | 0 | 0 | 0 | ⋯ | 0 | 0 |  0 | 4 |  0 | 0 | 0 | 0 |  0 | 0 |\n",
       "| ENSMUSG00000102348 | 0 | 0 | 0 | 0 | 0 | 0 | 0 | 0 | 0 | 0 | ⋯ | 0 | 0 |  0 | 0 |  0 | 0 | 0 | 0 |  0 | 0 |\n",
       "| ENSMUSG00000102592 | 0 | 0 | 0 | 0 | 0 | 0 | 0 | 0 | 0 | 0 | ⋯ | 0 | 0 |  0 | 0 |  0 | 0 | 0 | 0 |  0 | 0 |\n",
       "| ENSMUSG00000088333 | 0 | 0 | 0 | 0 | 0 | 0 | 0 | 0 | 0 | 0 | ⋯ | 0 | 0 |  0 | 0 |  0 | 0 | 0 | 0 |  0 | 0 |\n",
       "| ENSMUSG00000102343 | 0 | 0 | 0 | 0 | 0 | 0 | 0 | 0 | 0 | 0 | ⋯ | 0 | 0 |  0 | 0 |  0 | 0 | 0 | 0 |  0 | 0 |\n",
       "| ENSMUSG00000102948 | 0 | 0 | 0 | 0 | 0 | 0 | 0 | 0 | 0 | 0 | ⋯ | 0 | 0 |  0 | 0 |  0 | 0 | 0 | 0 |  0 | 0 |\n",
       "| ENSMUSG00000025900 | 0 | 0 | 0 | 0 | 0 | 0 | 0 | 0 | 0 | 0 | ⋯ | 0 | 0 |  0 | 0 |  0 | 0 | 0 | 0 |  0 | 0 |\n",
       "| ENSMUSG00000104123 | 0 | 0 | 0 | 0 | 0 | 0 | 0 | 0 | 0 | 0 | ⋯ | 0 | 0 |  0 | 0 |  0 | 0 | 0 | 0 |  0 | 0 |\n",
       "| ENSMUSG00000025902 | 0 | 0 | 0 | 0 | 0 | 0 | 0 | 0 | 0 | 0 | ⋯ | 0 | 0 |  0 | 0 |  0 | 0 | 0 | 0 |  0 | 0 |\n",
       "| ENSMUSG00000104238 | 0 | 0 | 0 | 0 | 0 | 0 | 0 | 0 | 0 | 0 | ⋯ | 0 | 0 |  0 | 0 |  0 | 0 | 0 | 0 |  0 | 0 |\n",
       "| ENSMUSG00000102269 | 2 | 0 | 0 | 0 | 3 | 0 | 0 | 0 | 0 | 2 | ⋯ | 0 | 0 |  0 | 2 |  0 | 0 | 3 | 2 |  0 | 0 |\n",
       "| ENSMUSG00000096126 | 0 | 0 | 0 | 0 | 0 | 0 | 0 | 0 | 0 | 0 | ⋯ | 0 | 0 |  0 | 0 |  0 | 0 | 0 | 0 |  0 | 0 |\n",
       "| ENSMUSG00000103003 | 0 | 0 | 0 | 0 | 0 | 0 | 0 | 0 | 0 | 0 | ⋯ | 0 | 0 |  0 | 0 |  0 | 0 | 0 | 0 |  0 | 0 |\n",
       "| ENSMUSG00000104328 | 0 | 0 | 0 | 0 | 0 | 0 | 0 | 0 | 0 | 0 | ⋯ | 0 | 0 |  0 | 0 |  0 | 0 | 0 | 0 |  0 | 0 |\n",
       "| ENSMUSG00000102735 | 0 | 0 | 0 | 0 | 0 | 0 | 0 | 0 | 0 | 0 | ⋯ | 0 | 0 |  0 | 0 |  0 | 0 | 0 | 0 |  0 | 0 |\n",
       "| ENSMUSG00000098104 | 2 | 4 | 0 | 7 | 8 | 8 | 4 | 2 | 8 | 2 | ⋯ | 9 | 5 | 15 | 8 | 15 | 0 | 7 | 5 | 18 | 1 |\n",
       "| ENSMUSG00000102175 | 0 | 0 | 0 | 2 | 0 | 0 | 0 | 0 | 0 | 0 | ⋯ | 0 | 0 |  0 | 0 |  0 | 0 | 1 | 0 |  0 | 0 |\n",
       "| ENSMUSG00000088000 | 0 | 0 | 0 | 0 | 0 | 0 | 0 | 0 | 0 | 0 | ⋯ | 0 | 0 |  0 | 0 |  0 | 0 | 0 | 0 |  0 | 0 |\n",
       "| ENSMUSG00000103265 | 0 | 0 | 0 | 0 | 0 | 0 | 0 | 0 | 0 | 0 | ⋯ | 0 | 0 |  0 | 0 |  0 | 0 | 0 | 0 |  0 | 0 |\n",
       "| ⋮ | ⋮ | ⋮ | ⋮ | ⋮ | ⋮ | ⋮ | ⋮ | ⋮ | ⋮ | ⋮ | ⋱ | ⋮ | ⋮ | ⋮ | ⋮ | ⋮ | ⋮ | ⋮ | ⋮ | ⋮ | ⋮ |\n",
       "| ENSMUSG00000096728 | 0 | 0 | 0 | 0 | 0 | 0 | 0 | 0 | 0 | 0 | ⋯ | 0 | 0 | 0 | 0 | 0 | 0 | 0 | 0 | 0 | 0 |\n",
       "| ENSMUSG00000093828 | 0 | 0 | 0 | 0 | 0 | 0 | 0 | 0 | 0 | 0 | ⋯ | 0 | 0 | 0 | 0 | 0 | 0 | 0 | 0 | 0 | 0 |\n",
       "| ENSMUSG00000095623 | 0 | 0 | 0 | 0 | 0 | 0 | 0 | 0 | 0 | 0 | ⋯ | 0 | 0 | 0 | 0 | 0 | 0 | 0 | 0 | 0 | 0 |\n",
       "| ENSMUSG00000094661 | 0 | 0 | 0 | 0 | 0 | 0 | 0 | 0 | 0 | 0 | ⋯ | 0 | 0 | 0 | 0 | 0 | 0 | 0 | 0 | 0 | 0 |\n",
       "| ENSMUSG00000095320 | 0 | 0 | 0 | 0 | 0 | 0 | 0 | 0 | 0 | 0 | ⋯ | 0 | 0 | 0 | 0 | 0 | 0 | 0 | 0 | 0 | 0 |\n",
       "| ENSMUSG00000094350 | 0 | 0 | 0 | 0 | 0 | 0 | 0 | 0 | 0 | 0 | ⋯ | 0 | 0 | 0 | 0 | 0 | 0 | 0 | 0 | 0 | 0 |\n",
       "| ENSMUSG00000096237 | 0 | 0 | 0 | 0 | 0 | 0 | 0 | 0 | 0 | 0 | ⋯ | 0 | 0 | 0 | 0 | 0 | 0 | 0 | 0 | 0 | 0 |\n",
       "| ENSMUSG00000094722 | 0 | 0 | 0 | 0 | 0 | 0 | 0 | 0 | 0 | 0 | ⋯ | 0 | 0 | 0 | 0 | 0 | 0 | 0 | 0 | 0 | 0 |\n",
       "| ENSMUSG00000095728 | 0 | 0 | 0 | 0 | 0 | 0 | 0 | 0 | 0 | 0 | ⋯ | 0 | 0 | 0 | 0 | 0 | 0 | 0 | 0 | 0 | 0 |\n",
       "| ENSMUSG00000095076 | 0 | 0 | 0 | 0 | 0 | 0 | 0 | 0 | 0 | 0 | ⋯ | 0 | 0 | 0 | 0 | 0 | 0 | 0 | 0 | 0 | 0 |\n",
       "| ENSMUSG00000096776 | 0 | 0 | 0 | 0 | 0 | 0 | 0 | 0 | 0 | 0 | ⋯ | 0 | 0 | 0 | 0 | 0 | 0 | 0 | 0 | 0 | 0 |\n",
       "| ENSMUSG00000096244 | 0 | 0 | 0 | 0 | 0 | 0 | 0 | 0 | 0 | 0 | ⋯ | 0 | 0 | 0 | 0 | 0 | 0 | 0 | 0 | 0 | 0 |\n",
       "| ENSMUSG00000079800 | 0 | 0 | 0 | 0 | 0 | 0 | 0 | 0 | 0 | 0 | ⋯ | 0 | 0 | 0 | 0 | 0 | 0 | 0 | 0 | 0 | 0 |\n",
       "| ENSMUSG00000095092 | 0 | 0 | 0 | 0 | 0 | 0 | 0 | 0 | 0 | 0 | ⋯ | 0 | 0 | 0 | 0 | 0 | 0 | 0 | 0 | 0 | 0 |\n",
       "| ENSMUSG00000079192 | 0 | 0 | 0 | 0 | 0 | 0 | 0 | 0 | 0 | 0 | ⋯ | 0 | 0 | 0 | 0 | 0 | 0 | 0 | 0 | 0 | 0 |\n",
       "| ENSMUSG00000079794 | 0 | 0 | 0 | 0 | 0 | 0 | 0 | 0 | 0 | 0 | ⋯ | 0 | 0 | 0 | 0 | 0 | 0 | 0 | 0 | 0 | 0 |\n",
       "| ENSMUSG00000094799 | 0 | 0 | 0 | 0 | 0 | 0 | 0 | 0 | 0 | 0 | ⋯ | 0 | 0 | 0 | 0 | 0 | 0 | 0 | 0 | 0 | 0 |\n",
       "| ENSMUSG00000095019 | 0 | 0 | 0 | 0 | 0 | 0 | 0 | 0 | 0 | 0 | ⋯ | 0 | 0 | 0 | 0 | 0 | 0 | 0 | 0 | 0 | 0 |\n",
       "| ENSMUSG00000094915 | 0 | 0 | 0 | 0 | 0 | 0 | 0 | 0 | 0 | 0 | ⋯ | 0 | 0 | 0 | 0 | 0 | 0 | 0 | 0 | 0 | 0 |\n",
       "| ENSMUSG00000079808 | 0 | 0 | 0 | 0 | 0 | 0 | 0 | 0 | 0 | 0 | ⋯ | 0 | 0 | 0 | 0 | 0 | 0 | 0 | 0 | 0 | 0 |\n",
       "| ENSMUSG00000095041 | 0 | 0 | 0 | 0 | 0 | 0 | 0 | 0 | 0 | 0 | ⋯ | 0 | 0 | 0 | 0 | 0 | 0 | 0 | 0 | 0 | 0 |\n",
       "| ENSMUSG00000063897 | 0 | 0 | 0 | 0 | 0 | 0 | 0 | 0 | 0 | 0 | ⋯ | 0 | 0 | 0 | 0 | 0 | 0 | 0 | 0 | 0 | 0 |\n",
       "| ENSMUSG00000084520 | 0 | 0 | 0 | 0 | 0 | 0 | 0 | 0 | 0 | 0 | ⋯ | 0 | 0 | 0 | 0 | 0 | 0 | 0 | 0 | 0 | 0 |\n",
       "| ENSMUSG00000099278 | 0 | 0 | 0 | 0 | 0 | 0 | 0 | 0 | 0 | 0 | ⋯ | 0 | 0 | 0 | 0 | 0 | 0 | 0 | 0 | 0 | 0 |\n",
       "| ENSMUSG00000095434 | 0 | 0 | 0 | 0 | 0 | 0 | 0 | 0 | 0 | 0 | ⋯ | 0 | 0 | 0 | 0 | 0 | 0 | 0 | 0 | 0 | 0 |\n",
       "| ENSMUSG00000094431 | 0 | 0 | 0 | 0 | 0 | 0 | 0 | 0 | 0 | 0 | ⋯ | 0 | 0 | 0 | 0 | 0 | 0 | 0 | 0 | 0 | 0 |\n",
       "| ENSMUSG00000094621 | 0 | 0 | 0 | 0 | 0 | 0 | 0 | 0 | 0 | 0 | ⋯ | 0 | 0 | 0 | 0 | 0 | 0 | 0 | 0 | 0 | 0 |\n",
       "| ENSMUSG00000098647 | 0 | 0 | 0 | 0 | 0 | 0 | 0 | 0 | 0 | 0 | ⋯ | 0 | 0 | 0 | 0 | 0 | 0 | 0 | 0 | 0 | 0 |\n",
       "| ENSMUSG00000096730 | 0 | 0 | 0 | 0 | 0 | 0 | 0 | 0 | 0 | 0 | ⋯ | 0 | 0 | 0 | 0 | 0 | 0 | 0 | 0 | 0 | 0 |\n",
       "| ENSMUSG00000095742 | 0 | 0 | 0 | 0 | 0 | 0 | 0 | 0 | 0 | 0 | ⋯ | 0 | 0 | 0 | 0 | 0 | 0 | 0 | 0 | 0 | 0 |\n",
       "\n"
      ],
      "text/plain": [
       "                   SLX-9555.N701_S502.C89V9ANXX.s_1.r_1\n",
       "ENSMUSG00000102693 0                                   \n",
       "ENSMUSG00000064842 0                                   \n",
       "ENSMUSG00000051951 0                                   \n",
       "ENSMUSG00000102851 0                                   \n",
       "ENSMUSG00000103377 0                                   \n",
       "ENSMUSG00000104017 0                                   \n",
       "ENSMUSG00000103025 0                                   \n",
       "ENSMUSG00000089699 0                                   \n",
       "ENSMUSG00000103201 0                                   \n",
       "ENSMUSG00000103147 0                                   \n",
       "ENSMUSG00000103161 0                                   \n",
       "ENSMUSG00000102331 0                                   \n",
       "ENSMUSG00000102348 0                                   \n",
       "ENSMUSG00000102592 0                                   \n",
       "ENSMUSG00000088333 0                                   \n",
       "ENSMUSG00000102343 0                                   \n",
       "ENSMUSG00000102948 0                                   \n",
       "ENSMUSG00000025900 0                                   \n",
       "ENSMUSG00000104123 0                                   \n",
       "ENSMUSG00000025902 0                                   \n",
       "ENSMUSG00000104238 0                                   \n",
       "ENSMUSG00000102269 2                                   \n",
       "ENSMUSG00000096126 0                                   \n",
       "ENSMUSG00000103003 0                                   \n",
       "ENSMUSG00000104328 0                                   \n",
       "ENSMUSG00000102735 0                                   \n",
       "ENSMUSG00000098104 2                                   \n",
       "ENSMUSG00000102175 0                                   \n",
       "ENSMUSG00000088000 0                                   \n",
       "ENSMUSG00000103265 0                                   \n",
       "⋮                  ⋮                                   \n",
       "ENSMUSG00000096728 0                                   \n",
       "ENSMUSG00000093828 0                                   \n",
       "ENSMUSG00000095623 0                                   \n",
       "ENSMUSG00000094661 0                                   \n",
       "ENSMUSG00000095320 0                                   \n",
       "ENSMUSG00000094350 0                                   \n",
       "ENSMUSG00000096237 0                                   \n",
       "ENSMUSG00000094722 0                                   \n",
       "ENSMUSG00000095728 0                                   \n",
       "ENSMUSG00000095076 0                                   \n",
       "ENSMUSG00000096776 0                                   \n",
       "ENSMUSG00000096244 0                                   \n",
       "ENSMUSG00000079800 0                                   \n",
       "ENSMUSG00000095092 0                                   \n",
       "ENSMUSG00000079192 0                                   \n",
       "ENSMUSG00000079794 0                                   \n",
       "ENSMUSG00000094799 0                                   \n",
       "ENSMUSG00000095019 0                                   \n",
       "ENSMUSG00000094915 0                                   \n",
       "ENSMUSG00000079808 0                                   \n",
       "ENSMUSG00000095041 0                                   \n",
       "ENSMUSG00000063897 0                                   \n",
       "ENSMUSG00000084520 0                                   \n",
       "ENSMUSG00000099278 0                                   \n",
       "ENSMUSG00000095434 0                                   \n",
       "ENSMUSG00000094431 0                                   \n",
       "ENSMUSG00000094621 0                                   \n",
       "ENSMUSG00000098647 0                                   \n",
       "ENSMUSG00000096730 0                                   \n",
       "ENSMUSG00000095742 0                                   \n",
       "                   SLX-9555.N701_S503.C89V9ANXX.s_1.r_1\n",
       "ENSMUSG00000102693 0                                   \n",
       "ENSMUSG00000064842 0                                   \n",
       "ENSMUSG00000051951 0                                   \n",
       "ENSMUSG00000102851 0                                   \n",
       "ENSMUSG00000103377 0                                   \n",
       "ENSMUSG00000104017 0                                   \n",
       "ENSMUSG00000103025 0                                   \n",
       "ENSMUSG00000089699 0                                   \n",
       "ENSMUSG00000103201 0                                   \n",
       "ENSMUSG00000103147 0                                   \n",
       "ENSMUSG00000103161 0                                   \n",
       "ENSMUSG00000102331 0                                   \n",
       "ENSMUSG00000102348 0                                   \n",
       "ENSMUSG00000102592 0                                   \n",
       "ENSMUSG00000088333 0                                   \n",
       "ENSMUSG00000102343 0                                   \n",
       "ENSMUSG00000102948 0                                   \n",
       "ENSMUSG00000025900 0                                   \n",
       "ENSMUSG00000104123 0                                   \n",
       "ENSMUSG00000025902 0                                   \n",
       "ENSMUSG00000104238 0                                   \n",
       "ENSMUSG00000102269 0                                   \n",
       "ENSMUSG00000096126 0                                   \n",
       "ENSMUSG00000103003 0                                   \n",
       "ENSMUSG00000104328 0                                   \n",
       "ENSMUSG00000102735 0                                   \n",
       "ENSMUSG00000098104 4                                   \n",
       "ENSMUSG00000102175 0                                   \n",
       "ENSMUSG00000088000 0                                   \n",
       "ENSMUSG00000103265 0                                   \n",
       "⋮                  ⋮                                   \n",
       "ENSMUSG00000096728 0                                   \n",
       "ENSMUSG00000093828 0                                   \n",
       "ENSMUSG00000095623 0                                   \n",
       "ENSMUSG00000094661 0                                   \n",
       "ENSMUSG00000095320 0                                   \n",
       "ENSMUSG00000094350 0                                   \n",
       "ENSMUSG00000096237 0                                   \n",
       "ENSMUSG00000094722 0                                   \n",
       "ENSMUSG00000095728 0                                   \n",
       "ENSMUSG00000095076 0                                   \n",
       "ENSMUSG00000096776 0                                   \n",
       "ENSMUSG00000096244 0                                   \n",
       "ENSMUSG00000079800 0                                   \n",
       "ENSMUSG00000095092 0                                   \n",
       "ENSMUSG00000079192 0                                   \n",
       "ENSMUSG00000079794 0                                   \n",
       "ENSMUSG00000094799 0                                   \n",
       "ENSMUSG00000095019 0                                   \n",
       "ENSMUSG00000094915 0                                   \n",
       "ENSMUSG00000079808 0                                   \n",
       "ENSMUSG00000095041 0                                   \n",
       "ENSMUSG00000063897 0                                   \n",
       "ENSMUSG00000084520 0                                   \n",
       "ENSMUSG00000099278 0                                   \n",
       "ENSMUSG00000095434 0                                   \n",
       "ENSMUSG00000094431 0                                   \n",
       "ENSMUSG00000094621 0                                   \n",
       "ENSMUSG00000098647 0                                   \n",
       "ENSMUSG00000096730 0                                   \n",
       "ENSMUSG00000095742 0                                   \n",
       "                   SLX-9555.N701_S504.C89V9ANXX.s_1.r_1\n",
       "ENSMUSG00000102693 0                                   \n",
       "ENSMUSG00000064842 0                                   \n",
       "ENSMUSG00000051951 0                                   \n",
       "ENSMUSG00000102851 0                                   \n",
       "ENSMUSG00000103377 0                                   \n",
       "ENSMUSG00000104017 0                                   \n",
       "ENSMUSG00000103025 0                                   \n",
       "ENSMUSG00000089699 0                                   \n",
       "ENSMUSG00000103201 0                                   \n",
       "ENSMUSG00000103147 0                                   \n",
       "ENSMUSG00000103161 0                                   \n",
       "ENSMUSG00000102331 0                                   \n",
       "ENSMUSG00000102348 0                                   \n",
       "ENSMUSG00000102592 0                                   \n",
       "ENSMUSG00000088333 0                                   \n",
       "ENSMUSG00000102343 0                                   \n",
       "ENSMUSG00000102948 0                                   \n",
       "ENSMUSG00000025900 0                                   \n",
       "ENSMUSG00000104123 0                                   \n",
       "ENSMUSG00000025902 0                                   \n",
       "ENSMUSG00000104238 0                                   \n",
       "ENSMUSG00000102269 0                                   \n",
       "ENSMUSG00000096126 0                                   \n",
       "ENSMUSG00000103003 0                                   \n",
       "ENSMUSG00000104328 0                                   \n",
       "ENSMUSG00000102735 0                                   \n",
       "ENSMUSG00000098104 0                                   \n",
       "ENSMUSG00000102175 0                                   \n",
       "ENSMUSG00000088000 0                                   \n",
       "ENSMUSG00000103265 0                                   \n",
       "⋮                  ⋮                                   \n",
       "ENSMUSG00000096728 0                                   \n",
       "ENSMUSG00000093828 0                                   \n",
       "ENSMUSG00000095623 0                                   \n",
       "ENSMUSG00000094661 0                                   \n",
       "ENSMUSG00000095320 0                                   \n",
       "ENSMUSG00000094350 0                                   \n",
       "ENSMUSG00000096237 0                                   \n",
       "ENSMUSG00000094722 0                                   \n",
       "ENSMUSG00000095728 0                                   \n",
       "ENSMUSG00000095076 0                                   \n",
       "ENSMUSG00000096776 0                                   \n",
       "ENSMUSG00000096244 0                                   \n",
       "ENSMUSG00000079800 0                                   \n",
       "ENSMUSG00000095092 0                                   \n",
       "ENSMUSG00000079192 0                                   \n",
       "ENSMUSG00000079794 0                                   \n",
       "ENSMUSG00000094799 0                                   \n",
       "ENSMUSG00000095019 0                                   \n",
       "ENSMUSG00000094915 0                                   \n",
       "ENSMUSG00000079808 0                                   \n",
       "ENSMUSG00000095041 0                                   \n",
       "ENSMUSG00000063897 0                                   \n",
       "ENSMUSG00000084520 0                                   \n",
       "ENSMUSG00000099278 0                                   \n",
       "ENSMUSG00000095434 0                                   \n",
       "ENSMUSG00000094431 0                                   \n",
       "ENSMUSG00000094621 0                                   \n",
       "ENSMUSG00000098647 0                                   \n",
       "ENSMUSG00000096730 0                                   \n",
       "ENSMUSG00000095742 0                                   \n",
       "                   SLX-9555.N701_S505.C89V9ANXX.s_1.r_1\n",
       "ENSMUSG00000102693 0                                   \n",
       "ENSMUSG00000064842 0                                   \n",
       "ENSMUSG00000051951 0                                   \n",
       "ENSMUSG00000102851 0                                   \n",
       "ENSMUSG00000103377 0                                   \n",
       "ENSMUSG00000104017 0                                   \n",
       "ENSMUSG00000103025 0                                   \n",
       "ENSMUSG00000089699 0                                   \n",
       "ENSMUSG00000103201 0                                   \n",
       "ENSMUSG00000103147 0                                   \n",
       "ENSMUSG00000103161 0                                   \n",
       "ENSMUSG00000102331 0                                   \n",
       "ENSMUSG00000102348 0                                   \n",
       "ENSMUSG00000102592 0                                   \n",
       "ENSMUSG00000088333 0                                   \n",
       "ENSMUSG00000102343 0                                   \n",
       "ENSMUSG00000102948 0                                   \n",
       "ENSMUSG00000025900 0                                   \n",
       "ENSMUSG00000104123 0                                   \n",
       "ENSMUSG00000025902 0                                   \n",
       "ENSMUSG00000104238 0                                   \n",
       "ENSMUSG00000102269 0                                   \n",
       "ENSMUSG00000096126 0                                   \n",
       "ENSMUSG00000103003 0                                   \n",
       "ENSMUSG00000104328 0                                   \n",
       "ENSMUSG00000102735 0                                   \n",
       "ENSMUSG00000098104 7                                   \n",
       "ENSMUSG00000102175 2                                   \n",
       "ENSMUSG00000088000 0                                   \n",
       "ENSMUSG00000103265 0                                   \n",
       "⋮                  ⋮                                   \n",
       "ENSMUSG00000096728 0                                   \n",
       "ENSMUSG00000093828 0                                   \n",
       "ENSMUSG00000095623 0                                   \n",
       "ENSMUSG00000094661 0                                   \n",
       "ENSMUSG00000095320 0                                   \n",
       "ENSMUSG00000094350 0                                   \n",
       "ENSMUSG00000096237 0                                   \n",
       "ENSMUSG00000094722 0                                   \n",
       "ENSMUSG00000095728 0                                   \n",
       "ENSMUSG00000095076 0                                   \n",
       "ENSMUSG00000096776 0                                   \n",
       "ENSMUSG00000096244 0                                   \n",
       "ENSMUSG00000079800 0                                   \n",
       "ENSMUSG00000095092 0                                   \n",
       "ENSMUSG00000079192 0                                   \n",
       "ENSMUSG00000079794 0                                   \n",
       "ENSMUSG00000094799 0                                   \n",
       "ENSMUSG00000095019 0                                   \n",
       "ENSMUSG00000094915 0                                   \n",
       "ENSMUSG00000079808 0                                   \n",
       "ENSMUSG00000095041 0                                   \n",
       "ENSMUSG00000063897 0                                   \n",
       "ENSMUSG00000084520 0                                   \n",
       "ENSMUSG00000099278 0                                   \n",
       "ENSMUSG00000095434 0                                   \n",
       "ENSMUSG00000094431 0                                   \n",
       "ENSMUSG00000094621 0                                   \n",
       "ENSMUSG00000098647 0                                   \n",
       "ENSMUSG00000096730 0                                   \n",
       "ENSMUSG00000095742 0                                   \n",
       "                   SLX-9555.N701_S506.C89V9ANXX.s_1.r_1\n",
       "ENSMUSG00000102693 0                                   \n",
       "ENSMUSG00000064842 0                                   \n",
       "ENSMUSG00000051951 0                                   \n",
       "ENSMUSG00000102851 0                                   \n",
       "ENSMUSG00000103377 0                                   \n",
       "ENSMUSG00000104017 0                                   \n",
       "ENSMUSG00000103025 0                                   \n",
       "ENSMUSG00000089699 0                                   \n",
       "ENSMUSG00000103201 0                                   \n",
       "ENSMUSG00000103147 0                                   \n",
       "ENSMUSG00000103161 0                                   \n",
       "ENSMUSG00000102331 0                                   \n",
       "ENSMUSG00000102348 0                                   \n",
       "ENSMUSG00000102592 0                                   \n",
       "ENSMUSG00000088333 0                                   \n",
       "ENSMUSG00000102343 0                                   \n",
       "ENSMUSG00000102948 0                                   \n",
       "ENSMUSG00000025900 0                                   \n",
       "ENSMUSG00000104123 0                                   \n",
       "ENSMUSG00000025902 0                                   \n",
       "ENSMUSG00000104238 0                                   \n",
       "ENSMUSG00000102269 3                                   \n",
       "ENSMUSG00000096126 0                                   \n",
       "ENSMUSG00000103003 0                                   \n",
       "ENSMUSG00000104328 0                                   \n",
       "ENSMUSG00000102735 0                                   \n",
       "ENSMUSG00000098104 8                                   \n",
       "ENSMUSG00000102175 0                                   \n",
       "ENSMUSG00000088000 0                                   \n",
       "ENSMUSG00000103265 0                                   \n",
       "⋮                  ⋮                                   \n",
       "ENSMUSG00000096728 0                                   \n",
       "ENSMUSG00000093828 0                                   \n",
       "ENSMUSG00000095623 0                                   \n",
       "ENSMUSG00000094661 0                                   \n",
       "ENSMUSG00000095320 0                                   \n",
       "ENSMUSG00000094350 0                                   \n",
       "ENSMUSG00000096237 0                                   \n",
       "ENSMUSG00000094722 0                                   \n",
       "ENSMUSG00000095728 0                                   \n",
       "ENSMUSG00000095076 0                                   \n",
       "ENSMUSG00000096776 0                                   \n",
       "ENSMUSG00000096244 0                                   \n",
       "ENSMUSG00000079800 0                                   \n",
       "ENSMUSG00000095092 0                                   \n",
       "ENSMUSG00000079192 0                                   \n",
       "ENSMUSG00000079794 0                                   \n",
       "ENSMUSG00000094799 0                                   \n",
       "ENSMUSG00000095019 0                                   \n",
       "ENSMUSG00000094915 0                                   \n",
       "ENSMUSG00000079808 0                                   \n",
       "ENSMUSG00000095041 0                                   \n",
       "ENSMUSG00000063897 0                                   \n",
       "ENSMUSG00000084520 0                                   \n",
       "ENSMUSG00000099278 0                                   \n",
       "ENSMUSG00000095434 0                                   \n",
       "ENSMUSG00000094431 0                                   \n",
       "ENSMUSG00000094621 0                                   \n",
       "ENSMUSG00000098647 0                                   \n",
       "ENSMUSG00000096730 0                                   \n",
       "ENSMUSG00000095742 0                                   \n",
       "                   SLX-9555.N701_S507.C89V9ANXX.s_1.r_1\n",
       "ENSMUSG00000102693 0                                   \n",
       "ENSMUSG00000064842 0                                   \n",
       "ENSMUSG00000051951 0                                   \n",
       "ENSMUSG00000102851 0                                   \n",
       "ENSMUSG00000103377 0                                   \n",
       "ENSMUSG00000104017 0                                   \n",
       "ENSMUSG00000103025 0                                   \n",
       "ENSMUSG00000089699 0                                   \n",
       "ENSMUSG00000103201 0                                   \n",
       "ENSMUSG00000103147 0                                   \n",
       "ENSMUSG00000103161 0                                   \n",
       "ENSMUSG00000102331 0                                   \n",
       "ENSMUSG00000102348 0                                   \n",
       "ENSMUSG00000102592 0                                   \n",
       "ENSMUSG00000088333 0                                   \n",
       "ENSMUSG00000102343 0                                   \n",
       "ENSMUSG00000102948 0                                   \n",
       "ENSMUSG00000025900 0                                   \n",
       "ENSMUSG00000104123 0                                   \n",
       "ENSMUSG00000025902 0                                   \n",
       "ENSMUSG00000104238 0                                   \n",
       "ENSMUSG00000102269 0                                   \n",
       "ENSMUSG00000096126 0                                   \n",
       "ENSMUSG00000103003 0                                   \n",
       "ENSMUSG00000104328 0                                   \n",
       "ENSMUSG00000102735 0                                   \n",
       "ENSMUSG00000098104 8                                   \n",
       "ENSMUSG00000102175 0                                   \n",
       "ENSMUSG00000088000 0                                   \n",
       "ENSMUSG00000103265 0                                   \n",
       "⋮                  ⋮                                   \n",
       "ENSMUSG00000096728 0                                   \n",
       "ENSMUSG00000093828 0                                   \n",
       "ENSMUSG00000095623 0                                   \n",
       "ENSMUSG00000094661 0                                   \n",
       "ENSMUSG00000095320 0                                   \n",
       "ENSMUSG00000094350 0                                   \n",
       "ENSMUSG00000096237 0                                   \n",
       "ENSMUSG00000094722 0                                   \n",
       "ENSMUSG00000095728 0                                   \n",
       "ENSMUSG00000095076 0                                   \n",
       "ENSMUSG00000096776 0                                   \n",
       "ENSMUSG00000096244 0                                   \n",
       "ENSMUSG00000079800 0                                   \n",
       "ENSMUSG00000095092 0                                   \n",
       "ENSMUSG00000079192 0                                   \n",
       "ENSMUSG00000079794 0                                   \n",
       "ENSMUSG00000094799 0                                   \n",
       "ENSMUSG00000095019 0                                   \n",
       "ENSMUSG00000094915 0                                   \n",
       "ENSMUSG00000079808 0                                   \n",
       "ENSMUSG00000095041 0                                   \n",
       "ENSMUSG00000063897 0                                   \n",
       "ENSMUSG00000084520 0                                   \n",
       "ENSMUSG00000099278 0                                   \n",
       "ENSMUSG00000095434 0                                   \n",
       "ENSMUSG00000094431 0                                   \n",
       "ENSMUSG00000094621 0                                   \n",
       "ENSMUSG00000098647 0                                   \n",
       "ENSMUSG00000096730 0                                   \n",
       "ENSMUSG00000095742 0                                   \n",
       "                   SLX-9555.N701_S508.C89V9ANXX.s_1.r_1\n",
       "ENSMUSG00000102693 0                                   \n",
       "ENSMUSG00000064842 0                                   \n",
       "ENSMUSG00000051951 0                                   \n",
       "ENSMUSG00000102851 0                                   \n",
       "ENSMUSG00000103377 0                                   \n",
       "ENSMUSG00000104017 0                                   \n",
       "ENSMUSG00000103025 0                                   \n",
       "ENSMUSG00000089699 0                                   \n",
       "ENSMUSG00000103201 0                                   \n",
       "ENSMUSG00000103147 0                                   \n",
       "ENSMUSG00000103161 0                                   \n",
       "ENSMUSG00000102331 0                                   \n",
       "ENSMUSG00000102348 0                                   \n",
       "ENSMUSG00000102592 0                                   \n",
       "ENSMUSG00000088333 0                                   \n",
       "ENSMUSG00000102343 0                                   \n",
       "ENSMUSG00000102948 0                                   \n",
       "ENSMUSG00000025900 0                                   \n",
       "ENSMUSG00000104123 0                                   \n",
       "ENSMUSG00000025902 0                                   \n",
       "ENSMUSG00000104238 0                                   \n",
       "ENSMUSG00000102269 0                                   \n",
       "ENSMUSG00000096126 0                                   \n",
       "ENSMUSG00000103003 0                                   \n",
       "ENSMUSG00000104328 0                                   \n",
       "ENSMUSG00000102735 0                                   \n",
       "ENSMUSG00000098104 4                                   \n",
       "ENSMUSG00000102175 0                                   \n",
       "ENSMUSG00000088000 0                                   \n",
       "ENSMUSG00000103265 0                                   \n",
       "⋮                  ⋮                                   \n",
       "ENSMUSG00000096728 0                                   \n",
       "ENSMUSG00000093828 0                                   \n",
       "ENSMUSG00000095623 0                                   \n",
       "ENSMUSG00000094661 0                                   \n",
       "ENSMUSG00000095320 0                                   \n",
       "ENSMUSG00000094350 0                                   \n",
       "ENSMUSG00000096237 0                                   \n",
       "ENSMUSG00000094722 0                                   \n",
       "ENSMUSG00000095728 0                                   \n",
       "ENSMUSG00000095076 0                                   \n",
       "ENSMUSG00000096776 0                                   \n",
       "ENSMUSG00000096244 0                                   \n",
       "ENSMUSG00000079800 0                                   \n",
       "ENSMUSG00000095092 0                                   \n",
       "ENSMUSG00000079192 0                                   \n",
       "ENSMUSG00000079794 0                                   \n",
       "ENSMUSG00000094799 0                                   \n",
       "ENSMUSG00000095019 0                                   \n",
       "ENSMUSG00000094915 0                                   \n",
       "ENSMUSG00000079808 0                                   \n",
       "ENSMUSG00000095041 0                                   \n",
       "ENSMUSG00000063897 0                                   \n",
       "ENSMUSG00000084520 0                                   \n",
       "ENSMUSG00000099278 0                                   \n",
       "ENSMUSG00000095434 0                                   \n",
       "ENSMUSG00000094431 0                                   \n",
       "ENSMUSG00000094621 0                                   \n",
       "ENSMUSG00000098647 0                                   \n",
       "ENSMUSG00000096730 0                                   \n",
       "ENSMUSG00000095742 0                                   \n",
       "                   SLX-9555.N701_S517.C89V9ANXX.s_1.r_1\n",
       "ENSMUSG00000102693 0                                   \n",
       "ENSMUSG00000064842 0                                   \n",
       "ENSMUSG00000051951 0                                   \n",
       "ENSMUSG00000102851 0                                   \n",
       "ENSMUSG00000103377 0                                   \n",
       "ENSMUSG00000104017 0                                   \n",
       "ENSMUSG00000103025 0                                   \n",
       "ENSMUSG00000089699 0                                   \n",
       "ENSMUSG00000103201 0                                   \n",
       "ENSMUSG00000103147 0                                   \n",
       "ENSMUSG00000103161 0                                   \n",
       "ENSMUSG00000102331 0                                   \n",
       "ENSMUSG00000102348 0                                   \n",
       "ENSMUSG00000102592 0                                   \n",
       "ENSMUSG00000088333 0                                   \n",
       "ENSMUSG00000102343 0                                   \n",
       "ENSMUSG00000102948 0                                   \n",
       "ENSMUSG00000025900 0                                   \n",
       "ENSMUSG00000104123 0                                   \n",
       "ENSMUSG00000025902 0                                   \n",
       "ENSMUSG00000104238 0                                   \n",
       "ENSMUSG00000102269 0                                   \n",
       "ENSMUSG00000096126 0                                   \n",
       "ENSMUSG00000103003 0                                   \n",
       "ENSMUSG00000104328 0                                   \n",
       "ENSMUSG00000102735 0                                   \n",
       "ENSMUSG00000098104 2                                   \n",
       "ENSMUSG00000102175 0                                   \n",
       "ENSMUSG00000088000 0                                   \n",
       "ENSMUSG00000103265 0                                   \n",
       "⋮                  ⋮                                   \n",
       "ENSMUSG00000096728 0                                   \n",
       "ENSMUSG00000093828 0                                   \n",
       "ENSMUSG00000095623 0                                   \n",
       "ENSMUSG00000094661 0                                   \n",
       "ENSMUSG00000095320 0                                   \n",
       "ENSMUSG00000094350 0                                   \n",
       "ENSMUSG00000096237 0                                   \n",
       "ENSMUSG00000094722 0                                   \n",
       "ENSMUSG00000095728 0                                   \n",
       "ENSMUSG00000095076 0                                   \n",
       "ENSMUSG00000096776 0                                   \n",
       "ENSMUSG00000096244 0                                   \n",
       "ENSMUSG00000079800 0                                   \n",
       "ENSMUSG00000095092 0                                   \n",
       "ENSMUSG00000079192 0                                   \n",
       "ENSMUSG00000079794 0                                   \n",
       "ENSMUSG00000094799 0                                   \n",
       "ENSMUSG00000095019 0                                   \n",
       "ENSMUSG00000094915 0                                   \n",
       "ENSMUSG00000079808 0                                   \n",
       "ENSMUSG00000095041 0                                   \n",
       "ENSMUSG00000063897 0                                   \n",
       "ENSMUSG00000084520 0                                   \n",
       "ENSMUSG00000099278 0                                   \n",
       "ENSMUSG00000095434 0                                   \n",
       "ENSMUSG00000094431 0                                   \n",
       "ENSMUSG00000094621 0                                   \n",
       "ENSMUSG00000098647 0                                   \n",
       "ENSMUSG00000096730 0                                   \n",
       "ENSMUSG00000095742 0                                   \n",
       "                   SLX-9555.N702_S502.C89V9ANXX.s_1.r_1\n",
       "ENSMUSG00000102693 0                                   \n",
       "ENSMUSG00000064842 0                                   \n",
       "ENSMUSG00000051951 0                                   \n",
       "ENSMUSG00000102851 0                                   \n",
       "ENSMUSG00000103377 0                                   \n",
       "ENSMUSG00000104017 0                                   \n",
       "ENSMUSG00000103025 0                                   \n",
       "ENSMUSG00000089699 0                                   \n",
       "ENSMUSG00000103201 0                                   \n",
       "ENSMUSG00000103147 0                                   \n",
       "ENSMUSG00000103161 0                                   \n",
       "ENSMUSG00000102331 0                                   \n",
       "ENSMUSG00000102348 0                                   \n",
       "ENSMUSG00000102592 0                                   \n",
       "ENSMUSG00000088333 0                                   \n",
       "ENSMUSG00000102343 0                                   \n",
       "ENSMUSG00000102948 0                                   \n",
       "ENSMUSG00000025900 0                                   \n",
       "ENSMUSG00000104123 0                                   \n",
       "ENSMUSG00000025902 0                                   \n",
       "ENSMUSG00000104238 0                                   \n",
       "ENSMUSG00000102269 0                                   \n",
       "ENSMUSG00000096126 0                                   \n",
       "ENSMUSG00000103003 0                                   \n",
       "ENSMUSG00000104328 0                                   \n",
       "ENSMUSG00000102735 0                                   \n",
       "ENSMUSG00000098104 8                                   \n",
       "ENSMUSG00000102175 0                                   \n",
       "ENSMUSG00000088000 0                                   \n",
       "ENSMUSG00000103265 0                                   \n",
       "⋮                  ⋮                                   \n",
       "ENSMUSG00000096728 0                                   \n",
       "ENSMUSG00000093828 0                                   \n",
       "ENSMUSG00000095623 0                                   \n",
       "ENSMUSG00000094661 0                                   \n",
       "ENSMUSG00000095320 0                                   \n",
       "ENSMUSG00000094350 0                                   \n",
       "ENSMUSG00000096237 0                                   \n",
       "ENSMUSG00000094722 0                                   \n",
       "ENSMUSG00000095728 0                                   \n",
       "ENSMUSG00000095076 0                                   \n",
       "ENSMUSG00000096776 0                                   \n",
       "ENSMUSG00000096244 0                                   \n",
       "ENSMUSG00000079800 0                                   \n",
       "ENSMUSG00000095092 0                                   \n",
       "ENSMUSG00000079192 0                                   \n",
       "ENSMUSG00000079794 0                                   \n",
       "ENSMUSG00000094799 0                                   \n",
       "ENSMUSG00000095019 0                                   \n",
       "ENSMUSG00000094915 0                                   \n",
       "ENSMUSG00000079808 0                                   \n",
       "ENSMUSG00000095041 0                                   \n",
       "ENSMUSG00000063897 0                                   \n",
       "ENSMUSG00000084520 0                                   \n",
       "ENSMUSG00000099278 0                                   \n",
       "ENSMUSG00000095434 0                                   \n",
       "ENSMUSG00000094431 0                                   \n",
       "ENSMUSG00000094621 0                                   \n",
       "ENSMUSG00000098647 0                                   \n",
       "ENSMUSG00000096730 0                                   \n",
       "ENSMUSG00000095742 0                                   \n",
       "                   SLX-9555.N702_S503.C89V9ANXX.s_1.r_1 ⋯\n",
       "ENSMUSG00000102693 0                                    ⋯\n",
       "ENSMUSG00000064842 0                                    ⋯\n",
       "ENSMUSG00000051951 0                                    ⋯\n",
       "ENSMUSG00000102851 0                                    ⋯\n",
       "ENSMUSG00000103377 0                                    ⋯\n",
       "ENSMUSG00000104017 0                                    ⋯\n",
       "ENSMUSG00000103025 0                                    ⋯\n",
       "ENSMUSG00000089699 0                                    ⋯\n",
       "ENSMUSG00000103201 0                                    ⋯\n",
       "ENSMUSG00000103147 0                                    ⋯\n",
       "ENSMUSG00000103161 0                                    ⋯\n",
       "ENSMUSG00000102331 0                                    ⋯\n",
       "ENSMUSG00000102348 0                                    ⋯\n",
       "ENSMUSG00000102592 0                                    ⋯\n",
       "ENSMUSG00000088333 0                                    ⋯\n",
       "ENSMUSG00000102343 0                                    ⋯\n",
       "ENSMUSG00000102948 0                                    ⋯\n",
       "ENSMUSG00000025900 0                                    ⋯\n",
       "ENSMUSG00000104123 0                                    ⋯\n",
       "ENSMUSG00000025902 0                                    ⋯\n",
       "ENSMUSG00000104238 0                                    ⋯\n",
       "ENSMUSG00000102269 2                                    ⋯\n",
       "ENSMUSG00000096126 0                                    ⋯\n",
       "ENSMUSG00000103003 0                                    ⋯\n",
       "ENSMUSG00000104328 0                                    ⋯\n",
       "ENSMUSG00000102735 0                                    ⋯\n",
       "ENSMUSG00000098104 2                                    ⋯\n",
       "ENSMUSG00000102175 0                                    ⋯\n",
       "ENSMUSG00000088000 0                                    ⋯\n",
       "ENSMUSG00000103265 0                                    ⋯\n",
       "⋮                  ⋮                                    ⋱\n",
       "ENSMUSG00000096728 0                                    ⋯\n",
       "ENSMUSG00000093828 0                                    ⋯\n",
       "ENSMUSG00000095623 0                                    ⋯\n",
       "ENSMUSG00000094661 0                                    ⋯\n",
       "ENSMUSG00000095320 0                                    ⋯\n",
       "ENSMUSG00000094350 0                                    ⋯\n",
       "ENSMUSG00000096237 0                                    ⋯\n",
       "ENSMUSG00000094722 0                                    ⋯\n",
       "ENSMUSG00000095728 0                                    ⋯\n",
       "ENSMUSG00000095076 0                                    ⋯\n",
       "ENSMUSG00000096776 0                                    ⋯\n",
       "ENSMUSG00000096244 0                                    ⋯\n",
       "ENSMUSG00000079800 0                                    ⋯\n",
       "ENSMUSG00000095092 0                                    ⋯\n",
       "ENSMUSG00000079192 0                                    ⋯\n",
       "ENSMUSG00000079794 0                                    ⋯\n",
       "ENSMUSG00000094799 0                                    ⋯\n",
       "ENSMUSG00000095019 0                                    ⋯\n",
       "ENSMUSG00000094915 0                                    ⋯\n",
       "ENSMUSG00000079808 0                                    ⋯\n",
       "ENSMUSG00000095041 0                                    ⋯\n",
       "ENSMUSG00000063897 0                                    ⋯\n",
       "ENSMUSG00000084520 0                                    ⋯\n",
       "ENSMUSG00000099278 0                                    ⋯\n",
       "ENSMUSG00000095434 0                                    ⋯\n",
       "ENSMUSG00000094431 0                                    ⋯\n",
       "ENSMUSG00000094621 0                                    ⋯\n",
       "ENSMUSG00000098647 0                                    ⋯\n",
       "ENSMUSG00000096730 0                                    ⋯\n",
       "ENSMUSG00000095742 0                                    ⋯\n",
       "                   SLX-9555.N711_S508.C89V9ANXX.s_1.r_1\n",
       "ENSMUSG00000102693 0                                   \n",
       "ENSMUSG00000064842 0                                   \n",
       "ENSMUSG00000051951 0                                   \n",
       "ENSMUSG00000102851 0                                   \n",
       "ENSMUSG00000103377 0                                   \n",
       "ENSMUSG00000104017 0                                   \n",
       "ENSMUSG00000103025 0                                   \n",
       "ENSMUSG00000089699 0                                   \n",
       "ENSMUSG00000103201 0                                   \n",
       "ENSMUSG00000103147 0                                   \n",
       "ENSMUSG00000103161 0                                   \n",
       "ENSMUSG00000102331 0                                   \n",
       "ENSMUSG00000102348 0                                   \n",
       "ENSMUSG00000102592 0                                   \n",
       "ENSMUSG00000088333 0                                   \n",
       "ENSMUSG00000102343 0                                   \n",
       "ENSMUSG00000102948 0                                   \n",
       "ENSMUSG00000025900 0                                   \n",
       "ENSMUSG00000104123 0                                   \n",
       "ENSMUSG00000025902 0                                   \n",
       "ENSMUSG00000104238 0                                   \n",
       "ENSMUSG00000102269 0                                   \n",
       "ENSMUSG00000096126 0                                   \n",
       "ENSMUSG00000103003 0                                   \n",
       "ENSMUSG00000104328 0                                   \n",
       "ENSMUSG00000102735 0                                   \n",
       "ENSMUSG00000098104 9                                   \n",
       "ENSMUSG00000102175 0                                   \n",
       "ENSMUSG00000088000 0                                   \n",
       "ENSMUSG00000103265 0                                   \n",
       "⋮                  ⋮                                   \n",
       "ENSMUSG00000096728 0                                   \n",
       "ENSMUSG00000093828 0                                   \n",
       "ENSMUSG00000095623 0                                   \n",
       "ENSMUSG00000094661 0                                   \n",
       "ENSMUSG00000095320 0                                   \n",
       "ENSMUSG00000094350 0                                   \n",
       "ENSMUSG00000096237 0                                   \n",
       "ENSMUSG00000094722 0                                   \n",
       "ENSMUSG00000095728 0                                   \n",
       "ENSMUSG00000095076 0                                   \n",
       "ENSMUSG00000096776 0                                   \n",
       "ENSMUSG00000096244 0                                   \n",
       "ENSMUSG00000079800 0                                   \n",
       "ENSMUSG00000095092 0                                   \n",
       "ENSMUSG00000079192 0                                   \n",
       "ENSMUSG00000079794 0                                   \n",
       "ENSMUSG00000094799 0                                   \n",
       "ENSMUSG00000095019 0                                   \n",
       "ENSMUSG00000094915 0                                   \n",
       "ENSMUSG00000079808 0                                   \n",
       "ENSMUSG00000095041 0                                   \n",
       "ENSMUSG00000063897 0                                   \n",
       "ENSMUSG00000084520 0                                   \n",
       "ENSMUSG00000099278 0                                   \n",
       "ENSMUSG00000095434 0                                   \n",
       "ENSMUSG00000094431 0                                   \n",
       "ENSMUSG00000094621 0                                   \n",
       "ENSMUSG00000098647 0                                   \n",
       "ENSMUSG00000096730 0                                   \n",
       "ENSMUSG00000095742 0                                   \n",
       "                   SLX-9555.N711_S517.C89V9ANXX.s_1.r_1\n",
       "ENSMUSG00000102693 0                                   \n",
       "ENSMUSG00000064842 0                                   \n",
       "ENSMUSG00000051951 0                                   \n",
       "ENSMUSG00000102851 0                                   \n",
       "ENSMUSG00000103377 0                                   \n",
       "ENSMUSG00000104017 0                                   \n",
       "ENSMUSG00000103025 0                                   \n",
       "ENSMUSG00000089699 0                                   \n",
       "ENSMUSG00000103201 0                                   \n",
       "ENSMUSG00000103147 0                                   \n",
       "ENSMUSG00000103161 0                                   \n",
       "ENSMUSG00000102331 0                                   \n",
       "ENSMUSG00000102348 0                                   \n",
       "ENSMUSG00000102592 0                                   \n",
       "ENSMUSG00000088333 0                                   \n",
       "ENSMUSG00000102343 0                                   \n",
       "ENSMUSG00000102948 0                                   \n",
       "ENSMUSG00000025900 0                                   \n",
       "ENSMUSG00000104123 0                                   \n",
       "ENSMUSG00000025902 0                                   \n",
       "ENSMUSG00000104238 0                                   \n",
       "ENSMUSG00000102269 0                                   \n",
       "ENSMUSG00000096126 0                                   \n",
       "ENSMUSG00000103003 0                                   \n",
       "ENSMUSG00000104328 0                                   \n",
       "ENSMUSG00000102735 0                                   \n",
       "ENSMUSG00000098104 5                                   \n",
       "ENSMUSG00000102175 0                                   \n",
       "ENSMUSG00000088000 0                                   \n",
       "ENSMUSG00000103265 0                                   \n",
       "⋮                  ⋮                                   \n",
       "ENSMUSG00000096728 0                                   \n",
       "ENSMUSG00000093828 0                                   \n",
       "ENSMUSG00000095623 0                                   \n",
       "ENSMUSG00000094661 0                                   \n",
       "ENSMUSG00000095320 0                                   \n",
       "ENSMUSG00000094350 0                                   \n",
       "ENSMUSG00000096237 0                                   \n",
       "ENSMUSG00000094722 0                                   \n",
       "ENSMUSG00000095728 0                                   \n",
       "ENSMUSG00000095076 0                                   \n",
       "ENSMUSG00000096776 0                                   \n",
       "ENSMUSG00000096244 0                                   \n",
       "ENSMUSG00000079800 0                                   \n",
       "ENSMUSG00000095092 0                                   \n",
       "ENSMUSG00000079192 0                                   \n",
       "ENSMUSG00000079794 0                                   \n",
       "ENSMUSG00000094799 0                                   \n",
       "ENSMUSG00000095019 0                                   \n",
       "ENSMUSG00000094915 0                                   \n",
       "ENSMUSG00000079808 0                                   \n",
       "ENSMUSG00000095041 0                                   \n",
       "ENSMUSG00000063897 0                                   \n",
       "ENSMUSG00000084520 0                                   \n",
       "ENSMUSG00000099278 0                                   \n",
       "ENSMUSG00000095434 0                                   \n",
       "ENSMUSG00000094431 0                                   \n",
       "ENSMUSG00000094621 0                                   \n",
       "ENSMUSG00000098647 0                                   \n",
       "ENSMUSG00000096730 0                                   \n",
       "ENSMUSG00000095742 0                                   \n",
       "                   SLX-9555.N712_S502.C89V9ANXX.s_1.r_1\n",
       "ENSMUSG00000102693  0                                  \n",
       "ENSMUSG00000064842  0                                  \n",
       "ENSMUSG00000051951  0                                  \n",
       "ENSMUSG00000102851  0                                  \n",
       "ENSMUSG00000103377  0                                  \n",
       "ENSMUSG00000104017  0                                  \n",
       "ENSMUSG00000103025  0                                  \n",
       "ENSMUSG00000089699  0                                  \n",
       "ENSMUSG00000103201  0                                  \n",
       "ENSMUSG00000103147  0                                  \n",
       "ENSMUSG00000103161  0                                  \n",
       "ENSMUSG00000102331  0                                  \n",
       "ENSMUSG00000102348  0                                  \n",
       "ENSMUSG00000102592  0                                  \n",
       "ENSMUSG00000088333  0                                  \n",
       "ENSMUSG00000102343  0                                  \n",
       "ENSMUSG00000102948  0                                  \n",
       "ENSMUSG00000025900  0                                  \n",
       "ENSMUSG00000104123  0                                  \n",
       "ENSMUSG00000025902  0                                  \n",
       "ENSMUSG00000104238  0                                  \n",
       "ENSMUSG00000102269  0                                  \n",
       "ENSMUSG00000096126  0                                  \n",
       "ENSMUSG00000103003  0                                  \n",
       "ENSMUSG00000104328  0                                  \n",
       "ENSMUSG00000102735  0                                  \n",
       "ENSMUSG00000098104 15                                  \n",
       "ENSMUSG00000102175  0                                  \n",
       "ENSMUSG00000088000  0                                  \n",
       "ENSMUSG00000103265  0                                  \n",
       "⋮                  ⋮                                   \n",
       "ENSMUSG00000096728 0                                   \n",
       "ENSMUSG00000093828 0                                   \n",
       "ENSMUSG00000095623 0                                   \n",
       "ENSMUSG00000094661 0                                   \n",
       "ENSMUSG00000095320 0                                   \n",
       "ENSMUSG00000094350 0                                   \n",
       "ENSMUSG00000096237 0                                   \n",
       "ENSMUSG00000094722 0                                   \n",
       "ENSMUSG00000095728 0                                   \n",
       "ENSMUSG00000095076 0                                   \n",
       "ENSMUSG00000096776 0                                   \n",
       "ENSMUSG00000096244 0                                   \n",
       "ENSMUSG00000079800 0                                   \n",
       "ENSMUSG00000095092 0                                   \n",
       "ENSMUSG00000079192 0                                   \n",
       "ENSMUSG00000079794 0                                   \n",
       "ENSMUSG00000094799 0                                   \n",
       "ENSMUSG00000095019 0                                   \n",
       "ENSMUSG00000094915 0                                   \n",
       "ENSMUSG00000079808 0                                   \n",
       "ENSMUSG00000095041 0                                   \n",
       "ENSMUSG00000063897 0                                   \n",
       "ENSMUSG00000084520 0                                   \n",
       "ENSMUSG00000099278 0                                   \n",
       "ENSMUSG00000095434 0                                   \n",
       "ENSMUSG00000094431 0                                   \n",
       "ENSMUSG00000094621 0                                   \n",
       "ENSMUSG00000098647 0                                   \n",
       "ENSMUSG00000096730 0                                   \n",
       "ENSMUSG00000095742 0                                   \n",
       "                   SLX-9555.N712_S503.C89V9ANXX.s_1.r_1\n",
       "ENSMUSG00000102693 0                                   \n",
       "ENSMUSG00000064842 0                                   \n",
       "ENSMUSG00000051951 0                                   \n",
       "ENSMUSG00000102851 0                                   \n",
       "ENSMUSG00000103377 0                                   \n",
       "ENSMUSG00000104017 0                                   \n",
       "ENSMUSG00000103025 0                                   \n",
       "ENSMUSG00000089699 0                                   \n",
       "ENSMUSG00000103201 0                                   \n",
       "ENSMUSG00000103147 0                                   \n",
       "ENSMUSG00000103161 0                                   \n",
       "ENSMUSG00000102331 4                                   \n",
       "ENSMUSG00000102348 0                                   \n",
       "ENSMUSG00000102592 0                                   \n",
       "ENSMUSG00000088333 0                                   \n",
       "ENSMUSG00000102343 0                                   \n",
       "ENSMUSG00000102948 0                                   \n",
       "ENSMUSG00000025900 0                                   \n",
       "ENSMUSG00000104123 0                                   \n",
       "ENSMUSG00000025902 0                                   \n",
       "ENSMUSG00000104238 0                                   \n",
       "ENSMUSG00000102269 2                                   \n",
       "ENSMUSG00000096126 0                                   \n",
       "ENSMUSG00000103003 0                                   \n",
       "ENSMUSG00000104328 0                                   \n",
       "ENSMUSG00000102735 0                                   \n",
       "ENSMUSG00000098104 8                                   \n",
       "ENSMUSG00000102175 0                                   \n",
       "ENSMUSG00000088000 0                                   \n",
       "ENSMUSG00000103265 0                                   \n",
       "⋮                  ⋮                                   \n",
       "ENSMUSG00000096728 0                                   \n",
       "ENSMUSG00000093828 0                                   \n",
       "ENSMUSG00000095623 0                                   \n",
       "ENSMUSG00000094661 0                                   \n",
       "ENSMUSG00000095320 0                                   \n",
       "ENSMUSG00000094350 0                                   \n",
       "ENSMUSG00000096237 0                                   \n",
       "ENSMUSG00000094722 0                                   \n",
       "ENSMUSG00000095728 0                                   \n",
       "ENSMUSG00000095076 0                                   \n",
       "ENSMUSG00000096776 0                                   \n",
       "ENSMUSG00000096244 0                                   \n",
       "ENSMUSG00000079800 0                                   \n",
       "ENSMUSG00000095092 0                                   \n",
       "ENSMUSG00000079192 0                                   \n",
       "ENSMUSG00000079794 0                                   \n",
       "ENSMUSG00000094799 0                                   \n",
       "ENSMUSG00000095019 0                                   \n",
       "ENSMUSG00000094915 0                                   \n",
       "ENSMUSG00000079808 0                                   \n",
       "ENSMUSG00000095041 0                                   \n",
       "ENSMUSG00000063897 0                                   \n",
       "ENSMUSG00000084520 0                                   \n",
       "ENSMUSG00000099278 0                                   \n",
       "ENSMUSG00000095434 0                                   \n",
       "ENSMUSG00000094431 0                                   \n",
       "ENSMUSG00000094621 0                                   \n",
       "ENSMUSG00000098647 0                                   \n",
       "ENSMUSG00000096730 0                                   \n",
       "ENSMUSG00000095742 0                                   \n",
       "                   SLX-9555.N712_S504.C89V9ANXX.s_1.r_1\n",
       "ENSMUSG00000102693  0                                  \n",
       "ENSMUSG00000064842  0                                  \n",
       "ENSMUSG00000051951  0                                  \n",
       "ENSMUSG00000102851  0                                  \n",
       "ENSMUSG00000103377  0                                  \n",
       "ENSMUSG00000104017  0                                  \n",
       "ENSMUSG00000103025  0                                  \n",
       "ENSMUSG00000089699  0                                  \n",
       "ENSMUSG00000103201  0                                  \n",
       "ENSMUSG00000103147  0                                  \n",
       "ENSMUSG00000103161  0                                  \n",
       "ENSMUSG00000102331  0                                  \n",
       "ENSMUSG00000102348  0                                  \n",
       "ENSMUSG00000102592  0                                  \n",
       "ENSMUSG00000088333  0                                  \n",
       "ENSMUSG00000102343  0                                  \n",
       "ENSMUSG00000102948  0                                  \n",
       "ENSMUSG00000025900  0                                  \n",
       "ENSMUSG00000104123  0                                  \n",
       "ENSMUSG00000025902  0                                  \n",
       "ENSMUSG00000104238  0                                  \n",
       "ENSMUSG00000102269  0                                  \n",
       "ENSMUSG00000096126  0                                  \n",
       "ENSMUSG00000103003  0                                  \n",
       "ENSMUSG00000104328  0                                  \n",
       "ENSMUSG00000102735  0                                  \n",
       "ENSMUSG00000098104 15                                  \n",
       "ENSMUSG00000102175  0                                  \n",
       "ENSMUSG00000088000  0                                  \n",
       "ENSMUSG00000103265  0                                  \n",
       "⋮                  ⋮                                   \n",
       "ENSMUSG00000096728 0                                   \n",
       "ENSMUSG00000093828 0                                   \n",
       "ENSMUSG00000095623 0                                   \n",
       "ENSMUSG00000094661 0                                   \n",
       "ENSMUSG00000095320 0                                   \n",
       "ENSMUSG00000094350 0                                   \n",
       "ENSMUSG00000096237 0                                   \n",
       "ENSMUSG00000094722 0                                   \n",
       "ENSMUSG00000095728 0                                   \n",
       "ENSMUSG00000095076 0                                   \n",
       "ENSMUSG00000096776 0                                   \n",
       "ENSMUSG00000096244 0                                   \n",
       "ENSMUSG00000079800 0                                   \n",
       "ENSMUSG00000095092 0                                   \n",
       "ENSMUSG00000079192 0                                   \n",
       "ENSMUSG00000079794 0                                   \n",
       "ENSMUSG00000094799 0                                   \n",
       "ENSMUSG00000095019 0                                   \n",
       "ENSMUSG00000094915 0                                   \n",
       "ENSMUSG00000079808 0                                   \n",
       "ENSMUSG00000095041 0                                   \n",
       "ENSMUSG00000063897 0                                   \n",
       "ENSMUSG00000084520 0                                   \n",
       "ENSMUSG00000099278 0                                   \n",
       "ENSMUSG00000095434 0                                   \n",
       "ENSMUSG00000094431 0                                   \n",
       "ENSMUSG00000094621 0                                   \n",
       "ENSMUSG00000098647 0                                   \n",
       "ENSMUSG00000096730 0                                   \n",
       "ENSMUSG00000095742 0                                   \n",
       "                   SLX-9555.N712_S505.C89V9ANXX.s_1.r_1\n",
       "ENSMUSG00000102693 0                                   \n",
       "ENSMUSG00000064842 0                                   \n",
       "ENSMUSG00000051951 0                                   \n",
       "ENSMUSG00000102851 0                                   \n",
       "ENSMUSG00000103377 0                                   \n",
       "ENSMUSG00000104017 0                                   \n",
       "ENSMUSG00000103025 0                                   \n",
       "ENSMUSG00000089699 0                                   \n",
       "ENSMUSG00000103201 0                                   \n",
       "ENSMUSG00000103147 0                                   \n",
       "ENSMUSG00000103161 0                                   \n",
       "ENSMUSG00000102331 0                                   \n",
       "ENSMUSG00000102348 0                                   \n",
       "ENSMUSG00000102592 0                                   \n",
       "ENSMUSG00000088333 0                                   \n",
       "ENSMUSG00000102343 0                                   \n",
       "ENSMUSG00000102948 0                                   \n",
       "ENSMUSG00000025900 0                                   \n",
       "ENSMUSG00000104123 0                                   \n",
       "ENSMUSG00000025902 0                                   \n",
       "ENSMUSG00000104238 0                                   \n",
       "ENSMUSG00000102269 0                                   \n",
       "ENSMUSG00000096126 0                                   \n",
       "ENSMUSG00000103003 0                                   \n",
       "ENSMUSG00000104328 0                                   \n",
       "ENSMUSG00000102735 0                                   \n",
       "ENSMUSG00000098104 0                                   \n",
       "ENSMUSG00000102175 0                                   \n",
       "ENSMUSG00000088000 0                                   \n",
       "ENSMUSG00000103265 0                                   \n",
       "⋮                  ⋮                                   \n",
       "ENSMUSG00000096728 0                                   \n",
       "ENSMUSG00000093828 0                                   \n",
       "ENSMUSG00000095623 0                                   \n",
       "ENSMUSG00000094661 0                                   \n",
       "ENSMUSG00000095320 0                                   \n",
       "ENSMUSG00000094350 0                                   \n",
       "ENSMUSG00000096237 0                                   \n",
       "ENSMUSG00000094722 0                                   \n",
       "ENSMUSG00000095728 0                                   \n",
       "ENSMUSG00000095076 0                                   \n",
       "ENSMUSG00000096776 0                                   \n",
       "ENSMUSG00000096244 0                                   \n",
       "ENSMUSG00000079800 0                                   \n",
       "ENSMUSG00000095092 0                                   \n",
       "ENSMUSG00000079192 0                                   \n",
       "ENSMUSG00000079794 0                                   \n",
       "ENSMUSG00000094799 0                                   \n",
       "ENSMUSG00000095019 0                                   \n",
       "ENSMUSG00000094915 0                                   \n",
       "ENSMUSG00000079808 0                                   \n",
       "ENSMUSG00000095041 0                                   \n",
       "ENSMUSG00000063897 0                                   \n",
       "ENSMUSG00000084520 0                                   \n",
       "ENSMUSG00000099278 0                                   \n",
       "ENSMUSG00000095434 0                                   \n",
       "ENSMUSG00000094431 0                                   \n",
       "ENSMUSG00000094621 0                                   \n",
       "ENSMUSG00000098647 0                                   \n",
       "ENSMUSG00000096730 0                                   \n",
       "ENSMUSG00000095742 0                                   \n",
       "                   SLX-9555.N712_S506.C89V9ANXX.s_1.r_1\n",
       "ENSMUSG00000102693 0                                   \n",
       "ENSMUSG00000064842 0                                   \n",
       "ENSMUSG00000051951 0                                   \n",
       "ENSMUSG00000102851 0                                   \n",
       "ENSMUSG00000103377 0                                   \n",
       "ENSMUSG00000104017 0                                   \n",
       "ENSMUSG00000103025 0                                   \n",
       "ENSMUSG00000089699 0                                   \n",
       "ENSMUSG00000103201 0                                   \n",
       "ENSMUSG00000103147 0                                   \n",
       "ENSMUSG00000103161 0                                   \n",
       "ENSMUSG00000102331 0                                   \n",
       "ENSMUSG00000102348 0                                   \n",
       "ENSMUSG00000102592 0                                   \n",
       "ENSMUSG00000088333 0                                   \n",
       "ENSMUSG00000102343 0                                   \n",
       "ENSMUSG00000102948 0                                   \n",
       "ENSMUSG00000025900 0                                   \n",
       "ENSMUSG00000104123 0                                   \n",
       "ENSMUSG00000025902 0                                   \n",
       "ENSMUSG00000104238 0                                   \n",
       "ENSMUSG00000102269 3                                   \n",
       "ENSMUSG00000096126 0                                   \n",
       "ENSMUSG00000103003 0                                   \n",
       "ENSMUSG00000104328 0                                   \n",
       "ENSMUSG00000102735 0                                   \n",
       "ENSMUSG00000098104 7                                   \n",
       "ENSMUSG00000102175 1                                   \n",
       "ENSMUSG00000088000 0                                   \n",
       "ENSMUSG00000103265 0                                   \n",
       "⋮                  ⋮                                   \n",
       "ENSMUSG00000096728 0                                   \n",
       "ENSMUSG00000093828 0                                   \n",
       "ENSMUSG00000095623 0                                   \n",
       "ENSMUSG00000094661 0                                   \n",
       "ENSMUSG00000095320 0                                   \n",
       "ENSMUSG00000094350 0                                   \n",
       "ENSMUSG00000096237 0                                   \n",
       "ENSMUSG00000094722 0                                   \n",
       "ENSMUSG00000095728 0                                   \n",
       "ENSMUSG00000095076 0                                   \n",
       "ENSMUSG00000096776 0                                   \n",
       "ENSMUSG00000096244 0                                   \n",
       "ENSMUSG00000079800 0                                   \n",
       "ENSMUSG00000095092 0                                   \n",
       "ENSMUSG00000079192 0                                   \n",
       "ENSMUSG00000079794 0                                   \n",
       "ENSMUSG00000094799 0                                   \n",
       "ENSMUSG00000095019 0                                   \n",
       "ENSMUSG00000094915 0                                   \n",
       "ENSMUSG00000079808 0                                   \n",
       "ENSMUSG00000095041 0                                   \n",
       "ENSMUSG00000063897 0                                   \n",
       "ENSMUSG00000084520 0                                   \n",
       "ENSMUSG00000099278 0                                   \n",
       "ENSMUSG00000095434 0                                   \n",
       "ENSMUSG00000094431 0                                   \n",
       "ENSMUSG00000094621 0                                   \n",
       "ENSMUSG00000098647 0                                   \n",
       "ENSMUSG00000096730 0                                   \n",
       "ENSMUSG00000095742 0                                   \n",
       "                   SLX-9555.N712_S507.C89V9ANXX.s_1.r_1\n",
       "ENSMUSG00000102693 0                                   \n",
       "ENSMUSG00000064842 0                                   \n",
       "ENSMUSG00000051951 0                                   \n",
       "ENSMUSG00000102851 0                                   \n",
       "ENSMUSG00000103377 0                                   \n",
       "ENSMUSG00000104017 0                                   \n",
       "ENSMUSG00000103025 0                                   \n",
       "ENSMUSG00000089699 0                                   \n",
       "ENSMUSG00000103201 0                                   \n",
       "ENSMUSG00000103147 0                                   \n",
       "ENSMUSG00000103161 0                                   \n",
       "ENSMUSG00000102331 0                                   \n",
       "ENSMUSG00000102348 0                                   \n",
       "ENSMUSG00000102592 0                                   \n",
       "ENSMUSG00000088333 0                                   \n",
       "ENSMUSG00000102343 0                                   \n",
       "ENSMUSG00000102948 0                                   \n",
       "ENSMUSG00000025900 0                                   \n",
       "ENSMUSG00000104123 0                                   \n",
       "ENSMUSG00000025902 0                                   \n",
       "ENSMUSG00000104238 0                                   \n",
       "ENSMUSG00000102269 2                                   \n",
       "ENSMUSG00000096126 0                                   \n",
       "ENSMUSG00000103003 0                                   \n",
       "ENSMUSG00000104328 0                                   \n",
       "ENSMUSG00000102735 0                                   \n",
       "ENSMUSG00000098104 5                                   \n",
       "ENSMUSG00000102175 0                                   \n",
       "ENSMUSG00000088000 0                                   \n",
       "ENSMUSG00000103265 0                                   \n",
       "⋮                  ⋮                                   \n",
       "ENSMUSG00000096728 0                                   \n",
       "ENSMUSG00000093828 0                                   \n",
       "ENSMUSG00000095623 0                                   \n",
       "ENSMUSG00000094661 0                                   \n",
       "ENSMUSG00000095320 0                                   \n",
       "ENSMUSG00000094350 0                                   \n",
       "ENSMUSG00000096237 0                                   \n",
       "ENSMUSG00000094722 0                                   \n",
       "ENSMUSG00000095728 0                                   \n",
       "ENSMUSG00000095076 0                                   \n",
       "ENSMUSG00000096776 0                                   \n",
       "ENSMUSG00000096244 0                                   \n",
       "ENSMUSG00000079800 0                                   \n",
       "ENSMUSG00000095092 0                                   \n",
       "ENSMUSG00000079192 0                                   \n",
       "ENSMUSG00000079794 0                                   \n",
       "ENSMUSG00000094799 0                                   \n",
       "ENSMUSG00000095019 0                                   \n",
       "ENSMUSG00000094915 0                                   \n",
       "ENSMUSG00000079808 0                                   \n",
       "ENSMUSG00000095041 0                                   \n",
       "ENSMUSG00000063897 0                                   \n",
       "ENSMUSG00000084520 0                                   \n",
       "ENSMUSG00000099278 0                                   \n",
       "ENSMUSG00000095434 0                                   \n",
       "ENSMUSG00000094431 0                                   \n",
       "ENSMUSG00000094621 0                                   \n",
       "ENSMUSG00000098647 0                                   \n",
       "ENSMUSG00000096730 0                                   \n",
       "ENSMUSG00000095742 0                                   \n",
       "                   SLX-9555.N712_S508.C89V9ANXX.s_1.r_1\n",
       "ENSMUSG00000102693  0                                  \n",
       "ENSMUSG00000064842  0                                  \n",
       "ENSMUSG00000051951  0                                  \n",
       "ENSMUSG00000102851  0                                  \n",
       "ENSMUSG00000103377  0                                  \n",
       "ENSMUSG00000104017  0                                  \n",
       "ENSMUSG00000103025  0                                  \n",
       "ENSMUSG00000089699  0                                  \n",
       "ENSMUSG00000103201  0                                  \n",
       "ENSMUSG00000103147  0                                  \n",
       "ENSMUSG00000103161  0                                  \n",
       "ENSMUSG00000102331  0                                  \n",
       "ENSMUSG00000102348  0                                  \n",
       "ENSMUSG00000102592  0                                  \n",
       "ENSMUSG00000088333  0                                  \n",
       "ENSMUSG00000102343  0                                  \n",
       "ENSMUSG00000102948  0                                  \n",
       "ENSMUSG00000025900  0                                  \n",
       "ENSMUSG00000104123  0                                  \n",
       "ENSMUSG00000025902  0                                  \n",
       "ENSMUSG00000104238  0                                  \n",
       "ENSMUSG00000102269  0                                  \n",
       "ENSMUSG00000096126  0                                  \n",
       "ENSMUSG00000103003  0                                  \n",
       "ENSMUSG00000104328  0                                  \n",
       "ENSMUSG00000102735  0                                  \n",
       "ENSMUSG00000098104 18                                  \n",
       "ENSMUSG00000102175  0                                  \n",
       "ENSMUSG00000088000  0                                  \n",
       "ENSMUSG00000103265  0                                  \n",
       "⋮                  ⋮                                   \n",
       "ENSMUSG00000096728 0                                   \n",
       "ENSMUSG00000093828 0                                   \n",
       "ENSMUSG00000095623 0                                   \n",
       "ENSMUSG00000094661 0                                   \n",
       "ENSMUSG00000095320 0                                   \n",
       "ENSMUSG00000094350 0                                   \n",
       "ENSMUSG00000096237 0                                   \n",
       "ENSMUSG00000094722 0                                   \n",
       "ENSMUSG00000095728 0                                   \n",
       "ENSMUSG00000095076 0                                   \n",
       "ENSMUSG00000096776 0                                   \n",
       "ENSMUSG00000096244 0                                   \n",
       "ENSMUSG00000079800 0                                   \n",
       "ENSMUSG00000095092 0                                   \n",
       "ENSMUSG00000079192 0                                   \n",
       "ENSMUSG00000079794 0                                   \n",
       "ENSMUSG00000094799 0                                   \n",
       "ENSMUSG00000095019 0                                   \n",
       "ENSMUSG00000094915 0                                   \n",
       "ENSMUSG00000079808 0                                   \n",
       "ENSMUSG00000095041 0                                   \n",
       "ENSMUSG00000063897 0                                   \n",
       "ENSMUSG00000084520 0                                   \n",
       "ENSMUSG00000099278 0                                   \n",
       "ENSMUSG00000095434 0                                   \n",
       "ENSMUSG00000094431 0                                   \n",
       "ENSMUSG00000094621 0                                   \n",
       "ENSMUSG00000098647 0                                   \n",
       "ENSMUSG00000096730 0                                   \n",
       "ENSMUSG00000095742 0                                   \n",
       "                   SLX-9555.N712_S517.C89V9ANXX.s_1.r_1\n",
       "ENSMUSG00000102693 0                                   \n",
       "ENSMUSG00000064842 0                                   \n",
       "ENSMUSG00000051951 0                                   \n",
       "ENSMUSG00000102851 0                                   \n",
       "ENSMUSG00000103377 0                                   \n",
       "ENSMUSG00000104017 0                                   \n",
       "ENSMUSG00000103025 0                                   \n",
       "ENSMUSG00000089699 0                                   \n",
       "ENSMUSG00000103201 0                                   \n",
       "ENSMUSG00000103147 0                                   \n",
       "ENSMUSG00000103161 0                                   \n",
       "ENSMUSG00000102331 0                                   \n",
       "ENSMUSG00000102348 0                                   \n",
       "ENSMUSG00000102592 0                                   \n",
       "ENSMUSG00000088333 0                                   \n",
       "ENSMUSG00000102343 0                                   \n",
       "ENSMUSG00000102948 0                                   \n",
       "ENSMUSG00000025900 0                                   \n",
       "ENSMUSG00000104123 0                                   \n",
       "ENSMUSG00000025902 0                                   \n",
       "ENSMUSG00000104238 0                                   \n",
       "ENSMUSG00000102269 0                                   \n",
       "ENSMUSG00000096126 0                                   \n",
       "ENSMUSG00000103003 0                                   \n",
       "ENSMUSG00000104328 0                                   \n",
       "ENSMUSG00000102735 0                                   \n",
       "ENSMUSG00000098104 1                                   \n",
       "ENSMUSG00000102175 0                                   \n",
       "ENSMUSG00000088000 0                                   \n",
       "ENSMUSG00000103265 0                                   \n",
       "⋮                  ⋮                                   \n",
       "ENSMUSG00000096728 0                                   \n",
       "ENSMUSG00000093828 0                                   \n",
       "ENSMUSG00000095623 0                                   \n",
       "ENSMUSG00000094661 0                                   \n",
       "ENSMUSG00000095320 0                                   \n",
       "ENSMUSG00000094350 0                                   \n",
       "ENSMUSG00000096237 0                                   \n",
       "ENSMUSG00000094722 0                                   \n",
       "ENSMUSG00000095728 0                                   \n",
       "ENSMUSG00000095076 0                                   \n",
       "ENSMUSG00000096776 0                                   \n",
       "ENSMUSG00000096244 0                                   \n",
       "ENSMUSG00000079800 0                                   \n",
       "ENSMUSG00000095092 0                                   \n",
       "ENSMUSG00000079192 0                                   \n",
       "ENSMUSG00000079794 0                                   \n",
       "ENSMUSG00000094799 0                                   \n",
       "ENSMUSG00000095019 0                                   \n",
       "ENSMUSG00000094915 0                                   \n",
       "ENSMUSG00000079808 0                                   \n",
       "ENSMUSG00000095041 0                                   \n",
       "ENSMUSG00000063897 0                                   \n",
       "ENSMUSG00000084520 0                                   \n",
       "ENSMUSG00000099278 0                                   \n",
       "ENSMUSG00000095434 0                                   \n",
       "ENSMUSG00000094431 0                                   \n",
       "ENSMUSG00000094621 0                                   \n",
       "ENSMUSG00000098647 0                                   \n",
       "ENSMUSG00000096730 0                                   \n",
       "ENSMUSG00000095742 0                                   "
      ]
     },
     "metadata": {},
     "output_type": "display_data"
    }
   ],
   "source": [
    "#  this is the most general method, where we can supply the name of the assay as the second argument.\n",
    "assay(sce, \"counts\")"
   ]
  },
  {
   "cell_type": "markdown",
   "metadata": {},
   "source": [
    "**NOTE**: For exported S4 classes, it is rarely a good idea to directly access the slots with the `@` oeprator. This is considered bad practice as the class developers are free to alter the internal structure of the class, at which point any code using `@` may no longer work. Rather, it is best to use the provided getter functions like `assay()` and `counts()` to extract data from the object. Similarly, setting slots should be done via the provided setter functions, which are discussed in the next section."
   ]
  },
  {
   "cell_type": "markdown",
   "metadata": {},
   "source": [
    "## Adding more assays"
   ]
  },
  {
   "cell_type": "code",
   "execution_count": 22,
   "metadata": {
    "vscode": {
     "languageId": "r"
    }
   },
   "outputs": [
    {
     "data": {
      "text/plain": [
       "class: SingleCellExperiment \n",
       "dim: 46603 96 \n",
       "metadata(0):\n",
       "assays(2): counts logcounts\n",
       "rownames(46603): ENSMUSG00000102693 ENSMUSG00000064842 ...\n",
       "  ENSMUSG00000096730 ENSMUSG00000095742\n",
       "rowData names(0):\n",
       "colnames(96): SLX-9555.N701_S502.C89V9ANXX.s_1.r_1\n",
       "  SLX-9555.N701_S503.C89V9ANXX.s_1.r_1 ...\n",
       "  SLX-9555.N712_S508.C89V9ANXX.s_1.r_1\n",
       "  SLX-9555.N712_S517.C89V9ANXX.s_1.r_1\n",
       "colData names(1): sizeFactor\n",
       "reducedDimNames(0):\n",
       "mainExpName: NULL\n",
       "altExpNames(0):"
      ]
     },
     "metadata": {},
     "output_type": "display_data"
    }
   ],
   "source": [
    "# the logNormCounts() function from scuttle will compute a log-transformed normalized expression matrix \n",
    "# and store it as another assay.\n",
    "sce <- scuttle::logNormCounts(sce)\n",
    "sce"
   ]
  },
  {
   "cell_type": "code",
   "execution_count": 23,
   "metadata": {
    "vscode": {
     "languageId": "r"
    }
   },
   "outputs": [
    {
     "data": {
      "text/plain": [
       "DataFrame with 96 rows and 1 column\n",
       "                                     sizeFactor\n",
       "                                      <numeric>\n",
       "SLX-9555.N701_S502.C89V9ANXX.s_1.r_1   0.715693\n",
       "SLX-9555.N701_S503.C89V9ANXX.s_1.r_1   0.874951\n",
       "SLX-9555.N701_S504.C89V9ANXX.s_1.r_1   0.965616\n",
       "SLX-9555.N701_S505.C89V9ANXX.s_1.r_1   1.000326\n",
       "SLX-9555.N701_S506.C89V9ANXX.s_1.r_1   1.274812\n",
       "...                                         ...\n",
       "SLX-9555.N712_S505.C89V9ANXX.s_1.r_1   0.170275\n",
       "SLX-9555.N712_S506.C89V9ANXX.s_1.r_1   0.888030\n",
       "SLX-9555.N712_S507.C89V9ANXX.s_1.r_1   1.401224\n",
       "SLX-9555.N712_S508.C89V9ANXX.s_1.r_1   1.625100\n",
       "SLX-9555.N712_S517.C89V9ANXX.s_1.r_1   1.203950"
      ]
     },
     "metadata": {},
     "output_type": "display_data"
    }
   ],
   "source": [
    "colData(sce)"
   ]
  },
  {
   "cell_type": "code",
   "execution_count": 24,
   "metadata": {
    "vscode": {
     "languageId": "r"
    }
   },
   "outputs": [
    {
     "data": {
      "text/html": [
       "<style>\n",
       ".list-inline {list-style: none; margin:0; padding: 0}\n",
       ".list-inline>li {display: inline-block}\n",
       ".list-inline>li:not(:last-child)::after {content: \"\\00b7\"; padding: 0 .5ex}\n",
       "</style>\n",
       "<ol class=list-inline><li>46603</li><li>96</li></ol>\n"
      ],
      "text/latex": [
       "\\begin{enumerate*}\n",
       "\\item 46603\n",
       "\\item 96\n",
       "\\end{enumerate*}\n"
      ],
      "text/markdown": [
       "1. 46603\n",
       "2. 96\n",
       "\n",
       "\n"
      ],
      "text/plain": [
       "[1] 46603    96"
      ]
     },
     "metadata": {},
     "output_type": "display_data"
    }
   ],
   "source": [
    "dim(logcounts(sce))"
   ]
  },
  {
   "cell_type": "markdown",
   "metadata": {},
   "source": [
    "## Further comments"
   ]
  },
  {
   "cell_type": "code",
   "execution_count": 26,
   "metadata": {
    "vscode": {
     "languageId": "r"
    }
   },
   "outputs": [
    {
     "data": {
      "text/plain": [
       "List of length 2\n",
       "names(2): counts logcounts"
      ]
     },
     "metadata": {},
     "output_type": "display_data"
    }
   ],
   "source": [
    "assays(sce)"
   ]
  },
  {
   "cell_type": "code",
   "execution_count": 27,
   "metadata": {
    "vscode": {
     "languageId": "r"
    }
   },
   "outputs": [
    {
     "data": {
      "text/html": [
       "<style>\n",
       ".list-inline {list-style: none; margin:0; padding: 0}\n",
       ".list-inline>li {display: inline-block}\n",
       ".list-inline>li:not(:last-child)::after {content: \"\\00b7\"; padding: 0 .5ex}\n",
       "</style>\n",
       "<ol class=list-inline><li>'counts'</li><li>'logcounts'</li></ol>\n"
      ],
      "text/latex": [
       "\\begin{enumerate*}\n",
       "\\item 'counts'\n",
       "\\item 'logcounts'\n",
       "\\end{enumerate*}\n"
      ],
      "text/markdown": [
       "1. 'counts'\n",
       "2. 'logcounts'\n",
       "\n",
       "\n"
      ],
      "text/plain": [
       "[1] \"counts\"    \"logcounts\""
      ]
     },
     "metadata": {},
     "output_type": "display_data"
    }
   ],
   "source": [
    "assayNames(sce)"
   ]
  },
  {
   "cell_type": "markdown",
   "metadata": {},
   "source": [
    "# Handling metadata"
   ]
  },
  {
   "cell_type": "markdown",
   "metadata": {},
   "source": [
    "##  Filling the assays slot"
   ]
  },
  {
   "cell_type": "markdown",
   "metadata": {},
   "source": [
    "## On the columns"
   ]
  },
  {
   "cell_type": "code",
   "execution_count": 34,
   "metadata": {
    "vscode": {
     "languageId": "r"
    }
   },
   "outputs": [
    {
     "data": {
      "text/plain": [
       "DataFrame with 96 rows and 3 columns\n",
       "                                                   genotype\n",
       "                                                <character>\n",
       "SLX-9555.N701_S502.C89V9ANXX.s_1.r_1 Doxycycline-inducibl..\n",
       "SLX-9555.N701_S503.C89V9ANXX.s_1.r_1 Doxycycline-inducibl..\n",
       "SLX-9555.N701_S504.C89V9ANXX.s_1.r_1 Doxycycline-inducibl..\n",
       "SLX-9555.N701_S505.C89V9ANXX.s_1.r_1 Doxycycline-inducibl..\n",
       "SLX-9555.N701_S506.C89V9ANXX.s_1.r_1 Doxycycline-inducibl..\n",
       "...                                                     ...\n",
       "SLX-9555.N712_S505.C89V9ANXX.s_1.r_1 Doxycycline-inducibl..\n",
       "SLX-9555.N712_S506.C89V9ANXX.s_1.r_1 Doxycycline-inducibl..\n",
       "SLX-9555.N712_S507.C89V9ANXX.s_1.r_1 Doxycycline-inducibl..\n",
       "SLX-9555.N712_S508.C89V9ANXX.s_1.r_1 Doxycycline-inducibl..\n",
       "SLX-9555.N712_S517.C89V9ANXX.s_1.r_1 Doxycycline-inducibl..\n",
       "                                                  phenotype    spike_in\n",
       "                                                <character> <character>\n",
       "SLX-9555.N701_S502.C89V9ANXX.s_1.r_1    wild type phenotype   ERCC+SIRV\n",
       "SLX-9555.N701_S503.C89V9ANXX.s_1.r_1    wild type phenotype   ERCC+SIRV\n",
       "SLX-9555.N701_S504.C89V9ANXX.s_1.r_1    wild type phenotype   ERCC+SIRV\n",
       "SLX-9555.N701_S505.C89V9ANXX.s_1.r_1 induced CBFB-MYH11 o..   ERCC+SIRV\n",
       "SLX-9555.N701_S506.C89V9ANXX.s_1.r_1 induced CBFB-MYH11 o..   ERCC+SIRV\n",
       "...                                                     ...         ...\n",
       "SLX-9555.N712_S505.C89V9ANXX.s_1.r_1 induced CBFB-MYH11 o..    Premixed\n",
       "SLX-9555.N712_S506.C89V9ANXX.s_1.r_1 induced CBFB-MYH11 o..    Premixed\n",
       "SLX-9555.N712_S507.C89V9ANXX.s_1.r_1 induced CBFB-MYH11 o..    Premixed\n",
       "SLX-9555.N712_S508.C89V9ANXX.s_1.r_1 induced CBFB-MYH11 o..    Premixed\n",
       "SLX-9555.N712_S517.C89V9ANXX.s_1.r_1    wild type phenotype    Premixed"
      ]
     },
     "metadata": {},
     "output_type": "display_data"
    }
   ],
   "source": [
    "coldata <- read.delim('dataset/E-MTAB-5522.sdrf.txt', check.names=FALSE)\n",
    "\n",
    "# Only keeping the cells involved in the count matrix in 'mat'.\n",
    "coldata <- coldata[coldata[,\"Derived Array Data File\"]==\"counts_Calero_20160113.tsv\",]\n",
    "\n",
    "# Only keeping interesting columns, and setting the library names as the row names.\n",
    "coldata <- DataFrame(\n",
    "    genotype=coldata[,\"Characteristics[genotype]\"],\n",
    "    phenotype=coldata[,\"Characteristics[phenotype]\"],\n",
    "    spike_in=coldata[,\"Factor Value[spike-in addition]\"],\n",
    "    row.names=coldata[,\"Source Name\"]\n",
    ")\n",
    "\n",
    "coldata"
   ]
  },
  {
   "cell_type": "code",
   "execution_count": 60,
   "metadata": {
    "vscode": {
     "languageId": "r"
    }
   },
   "outputs": [],
   "source": [
    "sce <- SingleCellExperiment(assays = list(counts=mat), colData=coldata)"
   ]
  },
  {
   "cell_type": "code",
   "execution_count": 61,
   "metadata": {
    "vscode": {
     "languageId": "r"
    }
   },
   "outputs": [
    {
     "data": {
      "text/plain": [
       "class: SingleCellExperiment \n",
       "dim: 46603 96 \n",
       "metadata(0):\n",
       "assays(1): counts\n",
       "rownames(46603): ENSMUSG00000102693 ENSMUSG00000064842 ...\n",
       "  ENSMUSG00000096730 ENSMUSG00000095742\n",
       "rowData names(0):\n",
       "colnames(96): SLX-9555.N701_S502.C89V9ANXX.s_1.r_1\n",
       "  SLX-9555.N701_S503.C89V9ANXX.s_1.r_1 ...\n",
       "  SLX-9555.N712_S508.C89V9ANXX.s_1.r_1\n",
       "  SLX-9555.N712_S517.C89V9ANXX.s_1.r_1\n",
       "colData names(3): genotype phenotype spike_in\n",
       "reducedDimNames(0):\n",
       "mainExpName: NULL\n",
       "altExpNames(0):"
      ]
     },
     "metadata": {},
     "output_type": "display_data"
    }
   ],
   "source": [
    "sce"
   ]
  },
  {
   "cell_type": "code",
   "execution_count": 41,
   "metadata": {
    "vscode": {
     "languageId": "r"
    }
   },
   "outputs": [
    {
     "data": {
      "text/html": [
       "<table class=\"dataframe\">\n",
       "<caption>A data.frame: 6 × 3</caption>\n",
       "<thead>\n",
       "\t<tr><th></th><th scope=col>genotype</th><th scope=col>phenotype</th><th scope=col>spike_in</th></tr>\n",
       "\t<tr><th></th><th scope=col>&lt;chr&gt;</th><th scope=col>&lt;chr&gt;</th><th scope=col>&lt;chr&gt;</th></tr>\n",
       "</thead>\n",
       "<tbody>\n",
       "\t<tr><th scope=row>SLX-9555.N701_S502.C89V9ANXX.s_1.r_1</th><td>Doxycycline-inducible CBFB-MYH11 oncogene</td><td>wild type phenotype                   </td><td>ERCC+SIRV</td></tr>\n",
       "\t<tr><th scope=row>SLX-9555.N701_S503.C89V9ANXX.s_1.r_1</th><td>Doxycycline-inducible CBFB-MYH11 oncogene</td><td>wild type phenotype                   </td><td>ERCC+SIRV</td></tr>\n",
       "\t<tr><th scope=row>SLX-9555.N701_S504.C89V9ANXX.s_1.r_1</th><td>Doxycycline-inducible CBFB-MYH11 oncogene</td><td>wild type phenotype                   </td><td>ERCC+SIRV</td></tr>\n",
       "\t<tr><th scope=row>SLX-9555.N701_S505.C89V9ANXX.s_1.r_1</th><td>Doxycycline-inducible CBFB-MYH11 oncogene</td><td>induced CBFB-MYH11 oncogene expression</td><td>ERCC+SIRV</td></tr>\n",
       "\t<tr><th scope=row>SLX-9555.N701_S506.C89V9ANXX.s_1.r_1</th><td>Doxycycline-inducible CBFB-MYH11 oncogene</td><td>induced CBFB-MYH11 oncogene expression</td><td>ERCC+SIRV</td></tr>\n",
       "\t<tr><th scope=row>SLX-9555.N701_S507.C89V9ANXX.s_1.r_1</th><td>Doxycycline-inducible CBFB-MYH11 oncogene</td><td>induced CBFB-MYH11 oncogene expression</td><td>ERCC+SIRV</td></tr>\n",
       "</tbody>\n",
       "</table>\n"
      ],
      "text/latex": [
       "A data.frame: 6 × 3\n",
       "\\begin{tabular}{r|lll}\n",
       "  & genotype & phenotype & spike\\_in\\\\\n",
       "  & <chr> & <chr> & <chr>\\\\\n",
       "\\hline\n",
       "\tSLX-9555.N701\\_S502.C89V9ANXX.s\\_1.r\\_1 & Doxycycline-inducible CBFB-MYH11 oncogene & wild type phenotype                    & ERCC+SIRV\\\\\n",
       "\tSLX-9555.N701\\_S503.C89V9ANXX.s\\_1.r\\_1 & Doxycycline-inducible CBFB-MYH11 oncogene & wild type phenotype                    & ERCC+SIRV\\\\\n",
       "\tSLX-9555.N701\\_S504.C89V9ANXX.s\\_1.r\\_1 & Doxycycline-inducible CBFB-MYH11 oncogene & wild type phenotype                    & ERCC+SIRV\\\\\n",
       "\tSLX-9555.N701\\_S505.C89V9ANXX.s\\_1.r\\_1 & Doxycycline-inducible CBFB-MYH11 oncogene & induced CBFB-MYH11 oncogene expression & ERCC+SIRV\\\\\n",
       "\tSLX-9555.N701\\_S506.C89V9ANXX.s\\_1.r\\_1 & Doxycycline-inducible CBFB-MYH11 oncogene & induced CBFB-MYH11 oncogene expression & ERCC+SIRV\\\\\n",
       "\tSLX-9555.N701\\_S507.C89V9ANXX.s\\_1.r\\_1 & Doxycycline-inducible CBFB-MYH11 oncogene & induced CBFB-MYH11 oncogene expression & ERCC+SIRV\\\\\n",
       "\\end{tabular}\n"
      ],
      "text/markdown": [
       "\n",
       "A data.frame: 6 × 3\n",
       "\n",
       "| <!--/--> | genotype &lt;chr&gt; | phenotype &lt;chr&gt; | spike_in &lt;chr&gt; |\n",
       "|---|---|---|---|\n",
       "| SLX-9555.N701_S502.C89V9ANXX.s_1.r_1 | Doxycycline-inducible CBFB-MYH11 oncogene | wild type phenotype                    | ERCC+SIRV |\n",
       "| SLX-9555.N701_S503.C89V9ANXX.s_1.r_1 | Doxycycline-inducible CBFB-MYH11 oncogene | wild type phenotype                    | ERCC+SIRV |\n",
       "| SLX-9555.N701_S504.C89V9ANXX.s_1.r_1 | Doxycycline-inducible CBFB-MYH11 oncogene | wild type phenotype                    | ERCC+SIRV |\n",
       "| SLX-9555.N701_S505.C89V9ANXX.s_1.r_1 | Doxycycline-inducible CBFB-MYH11 oncogene | induced CBFB-MYH11 oncogene expression | ERCC+SIRV |\n",
       "| SLX-9555.N701_S506.C89V9ANXX.s_1.r_1 | Doxycycline-inducible CBFB-MYH11 oncogene | induced CBFB-MYH11 oncogene expression | ERCC+SIRV |\n",
       "| SLX-9555.N701_S507.C89V9ANXX.s_1.r_1 | Doxycycline-inducible CBFB-MYH11 oncogene | induced CBFB-MYH11 oncogene expression | ERCC+SIRV |\n",
       "\n"
      ],
      "text/plain": [
       "                                     genotype                                 \n",
       "SLX-9555.N701_S502.C89V9ANXX.s_1.r_1 Doxycycline-inducible CBFB-MYH11 oncogene\n",
       "SLX-9555.N701_S503.C89V9ANXX.s_1.r_1 Doxycycline-inducible CBFB-MYH11 oncogene\n",
       "SLX-9555.N701_S504.C89V9ANXX.s_1.r_1 Doxycycline-inducible CBFB-MYH11 oncogene\n",
       "SLX-9555.N701_S505.C89V9ANXX.s_1.r_1 Doxycycline-inducible CBFB-MYH11 oncogene\n",
       "SLX-9555.N701_S506.C89V9ANXX.s_1.r_1 Doxycycline-inducible CBFB-MYH11 oncogene\n",
       "SLX-9555.N701_S507.C89V9ANXX.s_1.r_1 Doxycycline-inducible CBFB-MYH11 oncogene\n",
       "                                     phenotype                             \n",
       "SLX-9555.N701_S502.C89V9ANXX.s_1.r_1 wild type phenotype                   \n",
       "SLX-9555.N701_S503.C89V9ANXX.s_1.r_1 wild type phenotype                   \n",
       "SLX-9555.N701_S504.C89V9ANXX.s_1.r_1 wild type phenotype                   \n",
       "SLX-9555.N701_S505.C89V9ANXX.s_1.r_1 induced CBFB-MYH11 oncogene expression\n",
       "SLX-9555.N701_S506.C89V9ANXX.s_1.r_1 induced CBFB-MYH11 oncogene expression\n",
       "SLX-9555.N701_S507.C89V9ANXX.s_1.r_1 induced CBFB-MYH11 oncogene expression\n",
       "                                     spike_in \n",
       "SLX-9555.N701_S502.C89V9ANXX.s_1.r_1 ERCC+SIRV\n",
       "SLX-9555.N701_S503.C89V9ANXX.s_1.r_1 ERCC+SIRV\n",
       "SLX-9555.N701_S504.C89V9ANXX.s_1.r_1 ERCC+SIRV\n",
       "SLX-9555.N701_S505.C89V9ANXX.s_1.r_1 ERCC+SIRV\n",
       "SLX-9555.N701_S506.C89V9ANXX.s_1.r_1 ERCC+SIRV\n",
       "SLX-9555.N701_S507.C89V9ANXX.s_1.r_1 ERCC+SIRV"
      ]
     },
     "metadata": {},
     "output_type": "display_data"
    }
   ],
   "source": [
    "head(data.frame(colData(sce)))"
   ]
  },
  {
   "cell_type": "code",
   "execution_count": 53,
   "metadata": {
    "vscode": {
     "languageId": "r"
    }
   },
   "outputs": [],
   "source": [
    "# make sure that the rows of your colData actually refer to the same cells as the columns of your count matrix.\n",
    "stopifnot(identical(rownames(coldata), colnames(mat)))"
   ]
  },
  {
   "cell_type": "code",
   "execution_count": 62,
   "metadata": {
    "vscode": {
     "languageId": "r"
    }
   },
   "outputs": [
    {
     "data": {
      "text/html": [
       "<table class=\"dataframe\">\n",
       "<caption>A data.frame: 6 × 6</caption>\n",
       "<thead>\n",
       "\t<tr><th></th><th scope=col>genotype</th><th scope=col>phenotype</th><th scope=col>spike_in</th><th scope=col>sum</th><th scope=col>detected</th><th scope=col>total</th></tr>\n",
       "\t<tr><th></th><th scope=col>&lt;chr&gt;</th><th scope=col>&lt;chr&gt;</th><th scope=col>&lt;chr&gt;</th><th scope=col>&lt;dbl&gt;</th><th scope=col>&lt;dbl&gt;</th><th scope=col>&lt;dbl&gt;</th></tr>\n",
       "</thead>\n",
       "<tbody>\n",
       "\t<tr><th scope=row>SLX-9555.N701_S502.C89V9ANXX.s_1.r_1</th><td>Doxycycline-inducible CBFB-MYH11 oncogene</td><td>wild type phenotype                   </td><td>ERCC+SIRV</td><td> 854171</td><td>7617</td><td> 854171</td></tr>\n",
       "\t<tr><th scope=row>SLX-9555.N701_S503.C89V9ANXX.s_1.r_1</th><td>Doxycycline-inducible CBFB-MYH11 oncogene</td><td>wild type phenotype                   </td><td>ERCC+SIRV</td><td>1044243</td><td>7520</td><td>1044243</td></tr>\n",
       "\t<tr><th scope=row>SLX-9555.N701_S504.C89V9ANXX.s_1.r_1</th><td>Doxycycline-inducible CBFB-MYH11 oncogene</td><td>wild type phenotype                   </td><td>ERCC+SIRV</td><td>1152450</td><td>8305</td><td>1152450</td></tr>\n",
       "\t<tr><th scope=row>SLX-9555.N701_S505.C89V9ANXX.s_1.r_1</th><td>Doxycycline-inducible CBFB-MYH11 oncogene</td><td>induced CBFB-MYH11 oncogene expression</td><td>ERCC+SIRV</td><td>1193876</td><td>8142</td><td>1193876</td></tr>\n",
       "\t<tr><th scope=row>SLX-9555.N701_S506.C89V9ANXX.s_1.r_1</th><td>Doxycycline-inducible CBFB-MYH11 oncogene</td><td>induced CBFB-MYH11 oncogene expression</td><td>ERCC+SIRV</td><td>1521472</td><td>7153</td><td>1521472</td></tr>\n",
       "\t<tr><th scope=row>SLX-9555.N701_S507.C89V9ANXX.s_1.r_1</th><td>Doxycycline-inducible CBFB-MYH11 oncogene</td><td>induced CBFB-MYH11 oncogene expression</td><td>ERCC+SIRV</td><td> 866705</td><td>6828</td><td> 866705</td></tr>\n",
       "</tbody>\n",
       "</table>\n"
      ],
      "text/latex": [
       "A data.frame: 6 × 6\n",
       "\\begin{tabular}{r|llllll}\n",
       "  & genotype & phenotype & spike\\_in & sum & detected & total\\\\\n",
       "  & <chr> & <chr> & <chr> & <dbl> & <dbl> & <dbl>\\\\\n",
       "\\hline\n",
       "\tSLX-9555.N701\\_S502.C89V9ANXX.s\\_1.r\\_1 & Doxycycline-inducible CBFB-MYH11 oncogene & wild type phenotype                    & ERCC+SIRV &  854171 & 7617 &  854171\\\\\n",
       "\tSLX-9555.N701\\_S503.C89V9ANXX.s\\_1.r\\_1 & Doxycycline-inducible CBFB-MYH11 oncogene & wild type phenotype                    & ERCC+SIRV & 1044243 & 7520 & 1044243\\\\\n",
       "\tSLX-9555.N701\\_S504.C89V9ANXX.s\\_1.r\\_1 & Doxycycline-inducible CBFB-MYH11 oncogene & wild type phenotype                    & ERCC+SIRV & 1152450 & 8305 & 1152450\\\\\n",
       "\tSLX-9555.N701\\_S505.C89V9ANXX.s\\_1.r\\_1 & Doxycycline-inducible CBFB-MYH11 oncogene & induced CBFB-MYH11 oncogene expression & ERCC+SIRV & 1193876 & 8142 & 1193876\\\\\n",
       "\tSLX-9555.N701\\_S506.C89V9ANXX.s\\_1.r\\_1 & Doxycycline-inducible CBFB-MYH11 oncogene & induced CBFB-MYH11 oncogene expression & ERCC+SIRV & 1521472 & 7153 & 1521472\\\\\n",
       "\tSLX-9555.N701\\_S507.C89V9ANXX.s\\_1.r\\_1 & Doxycycline-inducible CBFB-MYH11 oncogene & induced CBFB-MYH11 oncogene expression & ERCC+SIRV &  866705 & 6828 &  866705\\\\\n",
       "\\end{tabular}\n"
      ],
      "text/markdown": [
       "\n",
       "A data.frame: 6 × 6\n",
       "\n",
       "| <!--/--> | genotype &lt;chr&gt; | phenotype &lt;chr&gt; | spike_in &lt;chr&gt; | sum &lt;dbl&gt; | detected &lt;dbl&gt; | total &lt;dbl&gt; |\n",
       "|---|---|---|---|---|---|---|\n",
       "| SLX-9555.N701_S502.C89V9ANXX.s_1.r_1 | Doxycycline-inducible CBFB-MYH11 oncogene | wild type phenotype                    | ERCC+SIRV |  854171 | 7617 |  854171 |\n",
       "| SLX-9555.N701_S503.C89V9ANXX.s_1.r_1 | Doxycycline-inducible CBFB-MYH11 oncogene | wild type phenotype                    | ERCC+SIRV | 1044243 | 7520 | 1044243 |\n",
       "| SLX-9555.N701_S504.C89V9ANXX.s_1.r_1 | Doxycycline-inducible CBFB-MYH11 oncogene | wild type phenotype                    | ERCC+SIRV | 1152450 | 8305 | 1152450 |\n",
       "| SLX-9555.N701_S505.C89V9ANXX.s_1.r_1 | Doxycycline-inducible CBFB-MYH11 oncogene | induced CBFB-MYH11 oncogene expression | ERCC+SIRV | 1193876 | 8142 | 1193876 |\n",
       "| SLX-9555.N701_S506.C89V9ANXX.s_1.r_1 | Doxycycline-inducible CBFB-MYH11 oncogene | induced CBFB-MYH11 oncogene expression | ERCC+SIRV | 1521472 | 7153 | 1521472 |\n",
       "| SLX-9555.N701_S507.C89V9ANXX.s_1.r_1 | Doxycycline-inducible CBFB-MYH11 oncogene | induced CBFB-MYH11 oncogene expression | ERCC+SIRV |  866705 | 6828 |  866705 |\n",
       "\n"
      ],
      "text/plain": [
       "                                     genotype                                 \n",
       "SLX-9555.N701_S502.C89V9ANXX.s_1.r_1 Doxycycline-inducible CBFB-MYH11 oncogene\n",
       "SLX-9555.N701_S503.C89V9ANXX.s_1.r_1 Doxycycline-inducible CBFB-MYH11 oncogene\n",
       "SLX-9555.N701_S504.C89V9ANXX.s_1.r_1 Doxycycline-inducible CBFB-MYH11 oncogene\n",
       "SLX-9555.N701_S505.C89V9ANXX.s_1.r_1 Doxycycline-inducible CBFB-MYH11 oncogene\n",
       "SLX-9555.N701_S506.C89V9ANXX.s_1.r_1 Doxycycline-inducible CBFB-MYH11 oncogene\n",
       "SLX-9555.N701_S507.C89V9ANXX.s_1.r_1 Doxycycline-inducible CBFB-MYH11 oncogene\n",
       "                                     phenotype                             \n",
       "SLX-9555.N701_S502.C89V9ANXX.s_1.r_1 wild type phenotype                   \n",
       "SLX-9555.N701_S503.C89V9ANXX.s_1.r_1 wild type phenotype                   \n",
       "SLX-9555.N701_S504.C89V9ANXX.s_1.r_1 wild type phenotype                   \n",
       "SLX-9555.N701_S505.C89V9ANXX.s_1.r_1 induced CBFB-MYH11 oncogene expression\n",
       "SLX-9555.N701_S506.C89V9ANXX.s_1.r_1 induced CBFB-MYH11 oncogene expression\n",
       "SLX-9555.N701_S507.C89V9ANXX.s_1.r_1 induced CBFB-MYH11 oncogene expression\n",
       "                                     spike_in  sum     detected total  \n",
       "SLX-9555.N701_S502.C89V9ANXX.s_1.r_1 ERCC+SIRV  854171 7617      854171\n",
       "SLX-9555.N701_S503.C89V9ANXX.s_1.r_1 ERCC+SIRV 1044243 7520     1044243\n",
       "SLX-9555.N701_S504.C89V9ANXX.s_1.r_1 ERCC+SIRV 1152450 8305     1152450\n",
       "SLX-9555.N701_S505.C89V9ANXX.s_1.r_1 ERCC+SIRV 1193876 8142     1193876\n",
       "SLX-9555.N701_S506.C89V9ANXX.s_1.r_1 ERCC+SIRV 1521472 7153     1521472\n",
       "SLX-9555.N701_S507.C89V9ANXX.s_1.r_1 ERCC+SIRV  866705 6828      866705"
      ]
     },
     "metadata": {},
     "output_type": "display_data"
    }
   ],
   "source": [
    "# the scuttle package contains the addPerCellQC() function that appends a number of quality control metrics to the colData\n",
    "sce <- scuttle::addPerCellQC(sce)\n",
    "head(data.frame(colData(sce)))"
   ]
  },
  {
   "cell_type": "markdown",
   "metadata": {},
   "source": [
    "## On the rows"
   ]
  },
  {
   "cell_type": "markdown",
   "metadata": {},
   "source": [
    "We store feature-level annotation in the rowData slot, a DataFrame where each row corresponds to a gene and contains annotations like the transcript length or gene symbol. We can manually get and set this with the rowData() function, as shown below:"
   ]
  },
  {
   "cell_type": "code",
   "execution_count": 64,
   "metadata": {
    "vscode": {
     "languageId": "r"
    }
   },
   "outputs": [
    {
     "data": {
      "text/plain": [
       "DataFrame with 46603 rows and 1 column\n",
       "                      Length\n",
       "                   <integer>\n",
       "ENSMUSG00000102693      1070\n",
       "ENSMUSG00000064842       110\n",
       "ENSMUSG00000051951      6094\n",
       "ENSMUSG00000102851       480\n",
       "ENSMUSG00000103377      2819\n",
       "...                      ...\n",
       "ENSMUSG00000094431       100\n",
       "ENSMUSG00000094621       121\n",
       "ENSMUSG00000098647        99\n",
       "ENSMUSG00000096730      3077\n",
       "ENSMUSG00000095742       243"
      ]
     },
     "metadata": {},
     "output_type": "display_data"
    }
   ],
   "source": [
    "rowData(sce)$Length <- gene.length\n",
    "rowData(sce)"
   ]
  },
  {
   "cell_type": "code",
   "execution_count": 65,
   "metadata": {
    "vscode": {
     "languageId": "r"
    }
   },
   "outputs": [
    {
     "data": {
      "text/plain": [
       "DataFrame with 46603 rows and 3 columns\n",
       "                      Length      mean  detected\n",
       "                   <integer> <numeric> <numeric>\n",
       "ENSMUSG00000102693      1070 0.0000000   0.00000\n",
       "ENSMUSG00000064842       110 0.0000000   0.00000\n",
       "ENSMUSG00000051951      6094 0.0000000   0.00000\n",
       "ENSMUSG00000102851       480 0.0000000   0.00000\n",
       "ENSMUSG00000103377      2819 0.0208333   1.04167\n",
       "...                      ...       ...       ...\n",
       "ENSMUSG00000094431       100         0         0\n",
       "ENSMUSG00000094621       121         0         0\n",
       "ENSMUSG00000098647        99         0         0\n",
       "ENSMUSG00000096730      3077         0         0\n",
       "ENSMUSG00000095742       243         0         0"
      ]
     },
     "metadata": {},
     "output_type": "display_data"
    }
   ],
   "source": [
    "sce <- scuttle::addPerFeatureQC(sce)\n",
    "rowData(sce)"
   ]
  },
  {
   "cell_type": "code",
   "execution_count": 66,
   "metadata": {
    "vscode": {
     "languageId": "r"
    }
   },
   "outputs": [
    {
     "data": {
      "text/plain": [
       "class: SingleCellExperiment \n",
       "dim: 46603 96 \n",
       "metadata(0):\n",
       "assays(1): counts\n",
       "rownames(46603): ENSMUSG00000102693 ENSMUSG00000064842 ...\n",
       "  ENSMUSG00000096730 ENSMUSG00000095742\n",
       "rowData names(3): Length mean detected\n",
       "colnames(96): SLX-9555.N701_S502.C89V9ANXX.s_1.r_1\n",
       "  SLX-9555.N701_S503.C89V9ANXX.s_1.r_1 ...\n",
       "  SLX-9555.N712_S508.C89V9ANXX.s_1.r_1\n",
       "  SLX-9555.N712_S517.C89V9ANXX.s_1.r_1\n",
       "colData names(6): genotype phenotype ... detected total\n",
       "reducedDimNames(0):\n",
       "mainExpName: NULL\n",
       "altExpNames(0):"
      ]
     },
     "metadata": {},
     "output_type": "display_data"
    }
   ],
   "source": [
    "sce"
   ]
  },
  {
   "cell_type": "code",
   "execution_count": 67,
   "metadata": {
    "vscode": {
     "languageId": "r"
    }
   },
   "outputs": [
    {
     "data": {
      "text/plain": [
       "GRangesList object of length 46603:\n",
       "$ENSMUSG00000102693\n",
       "GRanges object with 0 ranges and 0 metadata columns:\n",
       "   seqnames    ranges strand\n",
       "      <Rle> <IRanges>  <Rle>\n",
       "  -------\n",
       "  seqinfo: no sequences\n",
       "\n",
       "$ENSMUSG00000064842\n",
       "GRanges object with 0 ranges and 0 metadata columns:\n",
       "   seqnames    ranges strand\n",
       "      <Rle> <IRanges>  <Rle>\n",
       "  -------\n",
       "  seqinfo: no sequences\n",
       "\n",
       "$ENSMUSG00000051951\n",
       "GRanges object with 0 ranges and 0 metadata columns:\n",
       "   seqnames    ranges strand\n",
       "      <Rle> <IRanges>  <Rle>\n",
       "  -------\n",
       "  seqinfo: no sequences\n",
       "\n",
       "...\n",
       "<46600 more elements>"
      ]
     },
     "metadata": {},
     "output_type": "display_data"
    }
   ],
   "source": [
    "#  there is a special rowRanges slot to hold genomic coordinates in the form of a GRanges or GRangesList\n",
    "rowRanges(sce)"
   ]
  },
  {
   "cell_type": "markdown",
   "metadata": {},
   "source": [
    "## Other metadata"
   ]
  },
  {
   "cell_type": "code",
   "execution_count": 70,
   "metadata": {
    "vscode": {
     "languageId": "r"
    }
   },
   "outputs": [
    {
     "data": {
      "text/html": [
       "<strong>$favorite_genes</strong> = <style>\n",
       ".list-inline {list-style: none; margin:0; padding: 0}\n",
       ".list-inline>li {display: inline-block}\n",
       ".list-inline>li:not(:last-child)::after {content: \"\\00b7\"; padding: 0 .5ex}\n",
       "</style>\n",
       "<ol class=list-inline><li>'gene_1'</li><li>'gene_5'</li></ol>\n"
      ],
      "text/latex": [
       "\\textbf{\\$favorite\\_genes} = \\begin{enumerate*}\n",
       "\\item 'gene\\_1'\n",
       "\\item 'gene\\_5'\n",
       "\\end{enumerate*}\n"
      ],
      "text/markdown": [
       "**$favorite_genes** = 1. 'gene_1'\n",
       "2. 'gene_5'\n",
       "\n",
       "\n"
      ],
      "text/plain": [
       "$favorite_genes\n",
       "[1] \"gene_1\" \"gene_5\"\n"
      ]
     },
     "metadata": {},
     "output_type": "display_data"
    }
   ],
   "source": [
    "my_genes <- c(\"gene_1\", \"gene_5\")\n",
    "metadata(sce) <- list(favorite_genes = my_genes)  # 相当于adata.uns['favorite_genes'] = my_genes\n",
    "metadata(sce)"
   ]
  },
  {
   "cell_type": "code",
   "execution_count": 71,
   "metadata": {
    "vscode": {
     "languageId": "r"
    }
   },
   "outputs": [
    {
     "data": {
      "text/plain": [
       "class: SingleCellExperiment \n",
       "dim: 46603 96 \n",
       "metadata(1): favorite_genes\n",
       "assays(1): counts\n",
       "rownames(46603): ENSMUSG00000102693 ENSMUSG00000064842 ...\n",
       "  ENSMUSG00000096730 ENSMUSG00000095742\n",
       "rowData names(3): Length mean detected\n",
       "colnames(96): SLX-9555.N701_S502.C89V9ANXX.s_1.r_1\n",
       "  SLX-9555.N701_S503.C89V9ANXX.s_1.r_1 ...\n",
       "  SLX-9555.N712_S508.C89V9ANXX.s_1.r_1\n",
       "  SLX-9555.N712_S517.C89V9ANXX.s_1.r_1\n",
       "colData names(6): genotype phenotype ... detected total\n",
       "reducedDimNames(0):\n",
       "mainExpName: NULL\n",
       "altExpNames(0):"
      ]
     },
     "metadata": {},
     "output_type": "display_data"
    }
   ],
   "source": [
    "sce"
   ]
  },
  {
   "cell_type": "markdown",
   "metadata": {},
   "source": [
    "# Subsetting and combining"
   ]
  },
  {
   "cell_type": "markdown",
   "metadata": {},
   "source": [
    "One of the major advantages of using the SingleCellExperiment is that operations on the rows or columns of the expression data are synchronized with the associated annotation. This avoids embarrassing bookkeeping errors where we, e.g., subset the count matrix but forget to subset the corresponding feature/sample annotation. For example, if we subset our sce object to the first 10 cells, we can see that both the count matrix and the colData() are automatically subsetted:"
   ]
  },
  {
   "cell_type": "code",
   "execution_count": 72,
   "metadata": {
    "vscode": {
     "languageId": "r"
    }
   },
   "outputs": [
    {
     "data": {
      "text/html": [
       "10"
      ],
      "text/latex": [
       "10"
      ],
      "text/markdown": [
       "10"
      ],
      "text/plain": [
       "[1] 10"
      ]
     },
     "metadata": {},
     "output_type": "display_data"
    }
   ],
   "source": [
    "first.10 <- sce[,1:10]\n",
    "ncol(counts(first.10)) # only 10 columns."
   ]
  },
  {
   "cell_type": "code",
   "execution_count": 73,
   "metadata": {
    "vscode": {
     "languageId": "r"
    }
   },
   "outputs": [
    {
     "data": {
      "text/html": [
       "<style>\n",
       ".list-inline {list-style: none; margin:0; padding: 0}\n",
       ".list-inline>li {display: inline-block}\n",
       ".list-inline>li:not(:last-child)::after {content: \"\\00b7\"; padding: 0 .5ex}\n",
       "</style>\n",
       "<ol class=list-inline><li>46603</li><li>10</li></ol>\n"
      ],
      "text/latex": [
       "\\begin{enumerate*}\n",
       "\\item 46603\n",
       "\\item 10\n",
       "\\end{enumerate*}\n"
      ],
      "text/markdown": [
       "1. 46603\n",
       "2. 10\n",
       "\n",
       "\n"
      ],
      "text/plain": [
       "[1] 46603    10"
      ]
     },
     "metadata": {},
     "output_type": "display_data"
    }
   ],
   "source": [
    "dim(first.10)"
   ]
  },
  {
   "cell_type": "code",
   "execution_count": 74,
   "metadata": {
    "vscode": {
     "languageId": "r"
    }
   },
   "outputs": [
    {
     "data": {
      "text/plain": [
       "DataFrame with 10 rows and 6 columns\n",
       "                                                   genotype\n",
       "                                                <character>\n",
       "SLX-9555.N701_S502.C89V9ANXX.s_1.r_1 Doxycycline-inducibl..\n",
       "SLX-9555.N701_S503.C89V9ANXX.s_1.r_1 Doxycycline-inducibl..\n",
       "SLX-9555.N701_S504.C89V9ANXX.s_1.r_1 Doxycycline-inducibl..\n",
       "SLX-9555.N701_S505.C89V9ANXX.s_1.r_1 Doxycycline-inducibl..\n",
       "SLX-9555.N701_S506.C89V9ANXX.s_1.r_1 Doxycycline-inducibl..\n",
       "SLX-9555.N701_S507.C89V9ANXX.s_1.r_1 Doxycycline-inducibl..\n",
       "SLX-9555.N701_S508.C89V9ANXX.s_1.r_1 Doxycycline-inducibl..\n",
       "SLX-9555.N701_S517.C89V9ANXX.s_1.r_1 Doxycycline-inducibl..\n",
       "SLX-9555.N702_S502.C89V9ANXX.s_1.r_1 Doxycycline-inducibl..\n",
       "SLX-9555.N702_S503.C89V9ANXX.s_1.r_1 Doxycycline-inducibl..\n",
       "                                                  phenotype    spike_in\n",
       "                                                <character> <character>\n",
       "SLX-9555.N701_S502.C89V9ANXX.s_1.r_1    wild type phenotype   ERCC+SIRV\n",
       "SLX-9555.N701_S503.C89V9ANXX.s_1.r_1    wild type phenotype   ERCC+SIRV\n",
       "SLX-9555.N701_S504.C89V9ANXX.s_1.r_1    wild type phenotype   ERCC+SIRV\n",
       "SLX-9555.N701_S505.C89V9ANXX.s_1.r_1 induced CBFB-MYH11 o..   ERCC+SIRV\n",
       "SLX-9555.N701_S506.C89V9ANXX.s_1.r_1 induced CBFB-MYH11 o..   ERCC+SIRV\n",
       "SLX-9555.N701_S507.C89V9ANXX.s_1.r_1 induced CBFB-MYH11 o..   ERCC+SIRV\n",
       "SLX-9555.N701_S508.C89V9ANXX.s_1.r_1 induced CBFB-MYH11 o..   ERCC+SIRV\n",
       "SLX-9555.N701_S517.C89V9ANXX.s_1.r_1    wild type phenotype   ERCC+SIRV\n",
       "SLX-9555.N702_S502.C89V9ANXX.s_1.r_1    wild type phenotype   ERCC+SIRV\n",
       "SLX-9555.N702_S503.C89V9ANXX.s_1.r_1    wild type phenotype   ERCC+SIRV\n",
       "                                           sum  detected     total\n",
       "                                     <numeric> <numeric> <numeric>\n",
       "SLX-9555.N701_S502.C89V9ANXX.s_1.r_1    854171      7617    854171\n",
       "SLX-9555.N701_S503.C89V9ANXX.s_1.r_1   1044243      7520   1044243\n",
       "SLX-9555.N701_S504.C89V9ANXX.s_1.r_1   1152450      8305   1152450\n",
       "SLX-9555.N701_S505.C89V9ANXX.s_1.r_1   1193876      8142   1193876\n",
       "SLX-9555.N701_S506.C89V9ANXX.s_1.r_1   1521472      7153   1521472\n",
       "SLX-9555.N701_S507.C89V9ANXX.s_1.r_1    866705      6828    866705\n",
       "SLX-9555.N701_S508.C89V9ANXX.s_1.r_1    608581      6966    608581\n",
       "SLX-9555.N701_S517.C89V9ANXX.s_1.r_1   1113526      8634   1113526\n",
       "SLX-9555.N702_S502.C89V9ANXX.s_1.r_1   1308250      8364   1308250\n",
       "SLX-9555.N702_S503.C89V9ANXX.s_1.r_1    778605      8665    778605"
      ]
     },
     "metadata": {},
     "output_type": "display_data"
    }
   ],
   "source": [
    "colData(first.10) # only 10 rows."
   ]
  },
  {
   "cell_type": "markdown",
   "metadata": {},
   "source": [
    "Similarly, if we only wanted wild-type cells, we could subset our sce object based on its colData() entries:"
   ]
  },
  {
   "cell_type": "code",
   "execution_count": 75,
   "metadata": {
    "vscode": {
     "languageId": "r"
    }
   },
   "outputs": [
    {
     "data": {
      "text/html": [
       "48"
      ],
      "text/latex": [
       "48"
      ],
      "text/markdown": [
       "48"
      ],
      "text/plain": [
       "[1] 48"
      ]
     },
     "metadata": {},
     "output_type": "display_data"
    }
   ],
   "source": [
    "wt.only <- sce[, sce$phenotype == \"wild type phenotype\"]\n",
    "ncol(counts(wt.only))"
   ]
  },
  {
   "cell_type": "markdown",
   "metadata": {},
   "source": [
    "The same logic applies to the rowData(). Say we only want to keep protein-coding genes:"
   ]
  },
  {
   "cell_type": "code",
   "execution_count": 76,
   "metadata": {
    "vscode": {
     "languageId": "r"
    }
   },
   "outputs": [
    {
     "data": {
      "text/html": [
       "0"
      ],
      "text/latex": [
       "0"
      ],
      "text/markdown": [
       "0"
      ],
      "text/plain": [
       "[1] 0"
      ]
     },
     "metadata": {},
     "output_type": "display_data"
    }
   ],
   "source": [
    "coding.only <- sce[rowData(sce)$gene_biotype == \"protein_coding\",]\n",
    "nrow(counts(coding.only))"
   ]
  },
  {
   "cell_type": "markdown",
   "metadata": {},
   "source": [
    "# Single-cell-specific fields"
   ]
  },
  {
   "cell_type": "markdown",
   "metadata": {},
   "source": [
    "## Dimensionality reduction results"
   ]
  },
  {
   "cell_type": "code",
   "execution_count": 83,
   "metadata": {
    "vscode": {
     "languageId": "r"
    }
   },
   "outputs": [
    {
     "name": "stderr",
     "output_type": "stream",
     "text": [
      "Warning message:\n",
      "“useNames = NA is deprecated. Instead, specify either useNames = TRUE or useNames = TRUE.”\n",
      "Warning message in (function (A, nv = 5, nu = nv, maxit = 1000, work = nv + 7, reorth = TRUE, :\n",
      "“You're computing too large a percentage of total singular values, use a standard svd instead.”\n"
     ]
    },
    {
     "data": {
      "text/html": [
       "<style>\n",
       ".list-inline {list-style: none; margin:0; padding: 0}\n",
       ".list-inline>li {display: inline-block}\n",
       ".list-inline>li:not(:last-child)::after {content: \"\\00b7\"; padding: 0 .5ex}\n",
       "</style>\n",
       "<ol class=list-inline><li>96</li><li>50</li></ol>\n"
      ],
      "text/latex": [
       "\\begin{enumerate*}\n",
       "\\item 96\n",
       "\\item 50\n",
       "\\end{enumerate*}\n"
      ],
      "text/markdown": [
       "1. 96\n",
       "2. 50\n",
       "\n",
       "\n"
      ],
      "text/plain": [
       "[1] 96 50"
      ]
     },
     "metadata": {},
     "output_type": "display_data"
    }
   ],
   "source": [
    "sce <- scater::logNormCounts(sce)\n",
    "sce <- scater::runPCA(sce)\n",
    "dim(reducedDim(sce, \"PCA\"))"
   ]
  },
  {
   "cell_type": "code",
   "execution_count": 84,
   "metadata": {
    "vscode": {
     "languageId": "r"
    }
   },
   "outputs": [
    {
     "data": {
      "text/plain": [
       "class: SingleCellExperiment \n",
       "dim: 46603 96 \n",
       "metadata(1): favorite_genes\n",
       "assays(2): counts logcounts\n",
       "rownames(46603): ENSMUSG00000102693 ENSMUSG00000064842 ...\n",
       "  ENSMUSG00000096730 ENSMUSG00000095742\n",
       "rowData names(3): Length mean detected\n",
       "colnames(96): SLX-9555.N701_S502.C89V9ANXX.s_1.r_1\n",
       "  SLX-9555.N701_S503.C89V9ANXX.s_1.r_1 ...\n",
       "  SLX-9555.N712_S508.C89V9ANXX.s_1.r_1\n",
       "  SLX-9555.N712_S517.C89V9ANXX.s_1.r_1\n",
       "colData names(7): genotype phenotype ... total sizeFactor\n",
       "reducedDimNames(1): PCA\n",
       "mainExpName: NULL\n",
       "altExpNames(0):"
      ]
     },
     "metadata": {},
     "output_type": "display_data"
    }
   ],
   "source": [
    "sce"
   ]
  },
  {
   "cell_type": "code",
   "execution_count": 85,
   "metadata": {
    "vscode": {
     "languageId": "r"
    }
   },
   "outputs": [
    {
     "name": "stderr",
     "output_type": "stream",
     "text": [
      "Warning message:\n",
      "“useNames = NA is deprecated. Instead, specify either useNames = TRUE or useNames = TRUE.”\n"
     ]
    },
    {
     "name": "stdout",
     "output_type": "stream",
     "text": [
      "Perplexity should be lower than K!\n"
     ]
    }
   ],
   "source": [
    "sce <- scater::runTSNE(sce, perplexity = 0.1)"
   ]
  },
  {
   "cell_type": "code",
   "execution_count": 86,
   "metadata": {
    "vscode": {
     "languageId": "r"
    }
   },
   "outputs": [
    {
     "data": {
      "text/plain": [
       "class: SingleCellExperiment \n",
       "dim: 46603 96 \n",
       "metadata(1): favorite_genes\n",
       "assays(2): counts logcounts\n",
       "rownames(46603): ENSMUSG00000102693 ENSMUSG00000064842 ...\n",
       "  ENSMUSG00000096730 ENSMUSG00000095742\n",
       "rowData names(3): Length mean detected\n",
       "colnames(96): SLX-9555.N701_S502.C89V9ANXX.s_1.r_1\n",
       "  SLX-9555.N701_S503.C89V9ANXX.s_1.r_1 ...\n",
       "  SLX-9555.N712_S508.C89V9ANXX.s_1.r_1\n",
       "  SLX-9555.N712_S517.C89V9ANXX.s_1.r_1\n",
       "colData names(7): genotype phenotype ... total sizeFactor\n",
       "reducedDimNames(2): PCA TSNE\n",
       "mainExpName: NULL\n",
       "altExpNames(0):"
      ]
     },
     "metadata": {},
     "output_type": "display_data"
    }
   ],
   "source": [
    "sce"
   ]
  },
  {
   "cell_type": "code",
   "execution_count": 87,
   "metadata": {
    "vscode": {
     "languageId": "r"
    }
   },
   "outputs": [
    {
     "data": {
      "text/html": [
       "<table class=\"dataframe\">\n",
       "<caption>A matrix: 6 × 2 of type dbl</caption>\n",
       "<tbody>\n",
       "\t<tr><th scope=row>SLX-9555.N701_S502.C89V9ANXX.s_1.r_1</th><td> -389.9163</td><td>  548.1091</td></tr>\n",
       "\t<tr><th scope=row>SLX-9555.N701_S503.C89V9ANXX.s_1.r_1</th><td>  758.7112</td><td>  743.8283</td></tr>\n",
       "\t<tr><th scope=row>SLX-9555.N701_S504.C89V9ANXX.s_1.r_1</th><td>-1058.0170</td><td>  796.1081</td></tr>\n",
       "\t<tr><th scope=row>SLX-9555.N701_S505.C89V9ANXX.s_1.r_1</th><td>   72.1438</td><td>-1227.1026</td></tr>\n",
       "\t<tr><th scope=row>SLX-9555.N701_S506.C89V9ANXX.s_1.r_1</th><td> -132.0814</td><td> -508.6038</td></tr>\n",
       "\t<tr><th scope=row>SLX-9555.N701_S507.C89V9ANXX.s_1.r_1</th><td>-1099.7745</td><td>  499.0063</td></tr>\n",
       "</tbody>\n",
       "</table>\n"
      ],
      "text/latex": [
       "A matrix: 6 × 2 of type dbl\n",
       "\\begin{tabular}{r|ll}\n",
       "\tSLX-9555.N701\\_S502.C89V9ANXX.s\\_1.r\\_1 &  -389.9163 &   548.1091\\\\\n",
       "\tSLX-9555.N701\\_S503.C89V9ANXX.s\\_1.r\\_1 &   758.7112 &   743.8283\\\\\n",
       "\tSLX-9555.N701\\_S504.C89V9ANXX.s\\_1.r\\_1 & -1058.0170 &   796.1081\\\\\n",
       "\tSLX-9555.N701\\_S505.C89V9ANXX.s\\_1.r\\_1 &    72.1438 & -1227.1026\\\\\n",
       "\tSLX-9555.N701\\_S506.C89V9ANXX.s\\_1.r\\_1 &  -132.0814 &  -508.6038\\\\\n",
       "\tSLX-9555.N701\\_S507.C89V9ANXX.s\\_1.r\\_1 & -1099.7745 &   499.0063\\\\\n",
       "\\end{tabular}\n"
      ],
      "text/markdown": [
       "\n",
       "A matrix: 6 × 2 of type dbl\n",
       "\n",
       "| SLX-9555.N701_S502.C89V9ANXX.s_1.r_1 |  -389.9163 |   548.1091 |\n",
       "| SLX-9555.N701_S503.C89V9ANXX.s_1.r_1 |   758.7112 |   743.8283 |\n",
       "| SLX-9555.N701_S504.C89V9ANXX.s_1.r_1 | -1058.0170 |   796.1081 |\n",
       "| SLX-9555.N701_S505.C89V9ANXX.s_1.r_1 |    72.1438 | -1227.1026 |\n",
       "| SLX-9555.N701_S506.C89V9ANXX.s_1.r_1 |  -132.0814 |  -508.6038 |\n",
       "| SLX-9555.N701_S507.C89V9ANXX.s_1.r_1 | -1099.7745 |   499.0063 |\n",
       "\n"
      ],
      "text/plain": [
       "                                     [,1]       [,2]      \n",
       "SLX-9555.N701_S502.C89V9ANXX.s_1.r_1  -389.9163   548.1091\n",
       "SLX-9555.N701_S503.C89V9ANXX.s_1.r_1   758.7112   743.8283\n",
       "SLX-9555.N701_S504.C89V9ANXX.s_1.r_1 -1058.0170   796.1081\n",
       "SLX-9555.N701_S505.C89V9ANXX.s_1.r_1    72.1438 -1227.1026\n",
       "SLX-9555.N701_S506.C89V9ANXX.s_1.r_1  -132.0814  -508.6038\n",
       "SLX-9555.N701_S507.C89V9ANXX.s_1.r_1 -1099.7745   499.0063"
      ]
     },
     "metadata": {},
     "output_type": "display_data"
    }
   ],
   "source": [
    "head(reducedDim(sce, \"TSNE\"))"
   ]
  },
  {
   "cell_type": "markdown",
   "metadata": {},
   "source": [
    "We can also manually add content to the `reducedDims()` slot, much like how we added matrices to the assays slot previously. To illustrate, we run the `umap()` function directly from the uwot package to generate a matrix of UMAP coordinates that is added to the reducedDims of our sce object. (In practice, scater has a `runUMAP()` wrapper function that adds the results for us, but we will manually call umap() here for demonstration purposes.)"
   ]
  },
  {
   "cell_type": "code",
   "execution_count": 88,
   "metadata": {
    "vscode": {
     "languageId": "r"
    }
   },
   "outputs": [
    {
     "data": {
      "text/plain": [
       "List of length 3\n",
       "names(3): PCA TSNE UMAP_uwot"
      ]
     },
     "metadata": {},
     "output_type": "display_data"
    }
   ],
   "source": [
    "u <- uwot::umap(t(logcounts(sce)), n_neighbors = 2)\n",
    "reducedDim(sce, \"UMAP_uwot\") <- u\n",
    "reducedDims(sce) # Now stored in the object."
   ]
  },
  {
   "cell_type": "markdown",
   "metadata": {},
   "source": [
    "The `SingleCellExperiment` class provides the concept of “alternative Experiments” where we have data for a distinct set of features but the same set of samples/cells. The classic application would be to store the per-cell counts for spike-in transcripts; this allows us to retain this data for downstream use but separate it from the assays holding the counts for endogenous genes. The separation is particularly important as such alternative features often need to be processed separately, see Chapter [Advanced Chapter 12](http://bioconductor.org/books/3.15/OSCA.advanced/integrating-with-protein-abundance.html#integrating-with-protein-abundance) for examples with antibody-derived tags."
   ]
  },
  {
   "cell_type": "code",
   "execution_count": 89,
   "metadata": {
    "vscode": {
     "languageId": "r"
    }
   },
   "outputs": [
    {
     "data": {
      "text/plain": [
       "class: SummarizedExperiment \n",
       "dim: 92 96 \n",
       "metadata(0):\n",
       "assays(1): counts\n",
       "rownames(92): ERCC-00002 ERCC-00003 ... ERCC-00170 ERCC-00171\n",
       "rowData names(0):\n",
       "colnames(96): SLX-9555.N701_S502.C89V9ANXX.s_1.r_1\n",
       "  SLX-9555.N701_S503.C89V9ANXX.s_1.r_1 ...\n",
       "  SLX-9555.N712_S508.C89V9ANXX.s_1.r_1\n",
       "  SLX-9555.N712_S517.C89V9ANXX.s_1.r_1\n",
       "colData names(0):"
      ]
     },
     "metadata": {},
     "output_type": "display_data"
    }
   ],
   "source": [
    "# -1 to get rid of the first gene length column.\n",
    "spike_se <- SummarizedExperiment(list(counts=spike.mat[,-1]))\n",
    "spike_se"
   ]
  },
  {
   "cell_type": "code",
   "execution_count": 90,
   "metadata": {
    "vscode": {
     "languageId": "r"
    }
   },
   "outputs": [
    {
     "data": {
      "text/plain": [
       "List of length 1\n",
       "names(1): spike"
      ]
     },
     "metadata": {},
     "output_type": "display_data"
    }
   ],
   "source": [
    "altExp(sce, \"spike\") <- spike_se\n",
    "altExps(sce)"
   ]
  },
  {
   "cell_type": "code",
   "execution_count": 91,
   "metadata": {
    "vscode": {
     "languageId": "r"
    }
   },
   "outputs": [
    {
     "data": {
      "text/plain": [
       "class: SingleCellExperiment \n",
       "dim: 46603 96 \n",
       "metadata(1): favorite_genes\n",
       "assays(2): counts logcounts\n",
       "rownames(46603): ENSMUSG00000102693 ENSMUSG00000064842 ...\n",
       "  ENSMUSG00000096730 ENSMUSG00000095742\n",
       "rowData names(3): Length mean detected\n",
       "colnames(96): SLX-9555.N701_S502.C89V9ANXX.s_1.r_1\n",
       "  SLX-9555.N701_S503.C89V9ANXX.s_1.r_1 ...\n",
       "  SLX-9555.N712_S508.C89V9ANXX.s_1.r_1\n",
       "  SLX-9555.N712_S517.C89V9ANXX.s_1.r_1\n",
       "colData names(7): genotype phenotype ... total sizeFactor\n",
       "reducedDimNames(3): PCA TSNE UMAP_uwot\n",
       "mainExpName: NULL\n",
       "altExpNames(1): spike"
      ]
     },
     "metadata": {},
     "output_type": "display_data"
    }
   ],
   "source": [
    "sce"
   ]
  },
  {
   "cell_type": "markdown",
   "metadata": {},
   "source": [
    "## Size factors"
   ]
  },
  {
   "cell_type": "markdown",
   "metadata": {},
   "source": [
    "The `sizeFactors()` function allows us to get or set a numeric vector of per-cell scaling factors used for normalization (see [Basic Chapter 2](http://bioconductor.org/books/3.15/OSCA.basic/normalization.html#normalization) for more details). This is typically automatically added by normalization functions, as shown below for scran’s deconvolution-based size factors:"
   ]
  },
  {
   "cell_type": "code",
   "execution_count": 92,
   "metadata": {
    "vscode": {
     "languageId": "r"
    }
   },
   "outputs": [
    {
     "data": {
      "text/plain": [
       "   Min. 1st Qu.  Median    Mean 3rd Qu.    Max. \n",
       " 0.1513  0.7417  0.9478  1.0000  1.1239  3.5583 "
      ]
     },
     "metadata": {},
     "output_type": "display_data"
    }
   ],
   "source": [
    "sce <- scran::computeSumFactors(sce)\n",
    "summary(sizeFactors(sce))"
   ]
  },
  {
   "cell_type": "code",
   "execution_count": 95,
   "metadata": {
    "vscode": {
     "languageId": "r"
    }
   },
   "outputs": [
    {
     "data": {
      "text/plain": [
       "DataFrame with 6 rows and 7 columns\n",
       "                                                   genotype\n",
       "                                                <character>\n",
       "SLX-9555.N701_S502.C89V9ANXX.s_1.r_1 Doxycycline-inducibl..\n",
       "SLX-9555.N701_S503.C89V9ANXX.s_1.r_1 Doxycycline-inducibl..\n",
       "SLX-9555.N701_S504.C89V9ANXX.s_1.r_1 Doxycycline-inducibl..\n",
       "SLX-9555.N701_S505.C89V9ANXX.s_1.r_1 Doxycycline-inducibl..\n",
       "SLX-9555.N701_S506.C89V9ANXX.s_1.r_1 Doxycycline-inducibl..\n",
       "SLX-9555.N701_S507.C89V9ANXX.s_1.r_1 Doxycycline-inducibl..\n",
       "                                                  phenotype    spike_in\n",
       "                                                <character> <character>\n",
       "SLX-9555.N701_S502.C89V9ANXX.s_1.r_1    wild type phenotype   ERCC+SIRV\n",
       "SLX-9555.N701_S503.C89V9ANXX.s_1.r_1    wild type phenotype   ERCC+SIRV\n",
       "SLX-9555.N701_S504.C89V9ANXX.s_1.r_1    wild type phenotype   ERCC+SIRV\n",
       "SLX-9555.N701_S505.C89V9ANXX.s_1.r_1 induced CBFB-MYH11 o..   ERCC+SIRV\n",
       "SLX-9555.N701_S506.C89V9ANXX.s_1.r_1 induced CBFB-MYH11 o..   ERCC+SIRV\n",
       "SLX-9555.N701_S507.C89V9ANXX.s_1.r_1 induced CBFB-MYH11 o..   ERCC+SIRV\n",
       "                                           sum  detected     total sizeFactor\n",
       "                                     <numeric> <numeric> <numeric>  <numeric>\n",
       "SLX-9555.N701_S502.C89V9ANXX.s_1.r_1    854171      7617    854171   0.740786\n",
       "SLX-9555.N701_S503.C89V9ANXX.s_1.r_1   1044243      7520   1044243   0.844415\n",
       "SLX-9555.N701_S504.C89V9ANXX.s_1.r_1   1152450      8305   1152450   0.951140\n",
       "SLX-9555.N701_S505.C89V9ANXX.s_1.r_1   1193876      8142   1193876   0.944230\n",
       "SLX-9555.N701_S506.C89V9ANXX.s_1.r_1   1521472      7153   1521472   1.177344\n",
       "SLX-9555.N701_S507.C89V9ANXX.s_1.r_1    866705      6828    866705   0.740737"
      ]
     },
     "metadata": {},
     "output_type": "display_data"
    }
   ],
   "source": [
    "head(colData(sce))"
   ]
  },
  {
   "cell_type": "markdown",
   "metadata": {},
   "source": [
    "Alternatively, we can manually add the size factors, as shown below for library size-derived factors:"
   ]
  },
  {
   "cell_type": "code",
   "execution_count": 96,
   "metadata": {
    "vscode": {
     "languageId": "r"
    }
   },
   "outputs": [
    {
     "data": {
      "text/plain": [
       "   Min. 1st Qu.  Median    Mean 3rd Qu.    Max. \n",
       " 0.1703  0.7657  0.9513  1.0000  1.1064  3.6050 "
      ]
     },
     "metadata": {},
     "output_type": "display_data"
    }
   ],
   "source": [
    "sizeFactors(sce) <- scater::librarySizeFactors(sce)\n",
    "summary(sizeFactors(sce))"
   ]
  },
  {
   "cell_type": "code",
   "execution_count": 97,
   "metadata": {
    "vscode": {
     "languageId": "r"
    }
   },
   "outputs": [
    {
     "data": {
      "text/plain": [
       "DataFrame with 6 rows and 7 columns\n",
       "                                                   genotype\n",
       "                                                <character>\n",
       "SLX-9555.N701_S502.C89V9ANXX.s_1.r_1 Doxycycline-inducibl..\n",
       "SLX-9555.N701_S503.C89V9ANXX.s_1.r_1 Doxycycline-inducibl..\n",
       "SLX-9555.N701_S504.C89V9ANXX.s_1.r_1 Doxycycline-inducibl..\n",
       "SLX-9555.N701_S505.C89V9ANXX.s_1.r_1 Doxycycline-inducibl..\n",
       "SLX-9555.N701_S506.C89V9ANXX.s_1.r_1 Doxycycline-inducibl..\n",
       "SLX-9555.N701_S507.C89V9ANXX.s_1.r_1 Doxycycline-inducibl..\n",
       "                                                  phenotype    spike_in\n",
       "                                                <character> <character>\n",
       "SLX-9555.N701_S502.C89V9ANXX.s_1.r_1    wild type phenotype   ERCC+SIRV\n",
       "SLX-9555.N701_S503.C89V9ANXX.s_1.r_1    wild type phenotype   ERCC+SIRV\n",
       "SLX-9555.N701_S504.C89V9ANXX.s_1.r_1    wild type phenotype   ERCC+SIRV\n",
       "SLX-9555.N701_S505.C89V9ANXX.s_1.r_1 induced CBFB-MYH11 o..   ERCC+SIRV\n",
       "SLX-9555.N701_S506.C89V9ANXX.s_1.r_1 induced CBFB-MYH11 o..   ERCC+SIRV\n",
       "SLX-9555.N701_S507.C89V9ANXX.s_1.r_1 induced CBFB-MYH11 o..   ERCC+SIRV\n",
       "                                           sum  detected     total sizeFactor\n",
       "                                     <numeric> <numeric> <numeric>  <numeric>\n",
       "SLX-9555.N701_S502.C89V9ANXX.s_1.r_1    854171      7617    854171   0.715693\n",
       "SLX-9555.N701_S503.C89V9ANXX.s_1.r_1   1044243      7520   1044243   0.874951\n",
       "SLX-9555.N701_S504.C89V9ANXX.s_1.r_1   1152450      8305   1152450   0.965616\n",
       "SLX-9555.N701_S505.C89V9ANXX.s_1.r_1   1193876      8142   1193876   1.000326\n",
       "SLX-9555.N701_S506.C89V9ANXX.s_1.r_1   1521472      7153   1521472   1.274812\n",
       "SLX-9555.N701_S507.C89V9ANXX.s_1.r_1    866705      6828    866705   0.726195"
      ]
     },
     "metadata": {},
     "output_type": "display_data"
    }
   ],
   "source": [
    "head(colData(sce))"
   ]
  },
  {
   "cell_type": "markdown",
   "metadata": {},
   "source": [
    "## Column labels"
   ]
  },
  {
   "cell_type": "markdown",
   "metadata": {},
   "source": [
    "The `colLabels()` function allows us to get or set a vector or factor of per-cell labels, typically corresponding to groupings assigned by unsupervised clustering (Basic Chapter 5). or predicted cell type identities from classification algorithms (Basic Chapter 7)."
   ]
  },
  {
   "cell_type": "code",
   "execution_count": 99,
   "metadata": {
    "vscode": {
     "languageId": "r"
    }
   },
   "outputs": [],
   "source": [
    "colLabels(sce) <- scran::clusterCells(sce, use.dimred=\"PCA\")"
   ]
  },
  {
   "cell_type": "code",
   "execution_count": 100,
   "metadata": {
    "vscode": {
     "languageId": "r"
    }
   },
   "outputs": [
    {
     "data": {
      "text/plain": [
       "\n",
       " 1  2 \n",
       "47 49 "
      ]
     },
     "metadata": {},
     "output_type": "display_data"
    }
   ],
   "source": [
    "table(colLabels(sce))"
   ]
  },
  {
   "cell_type": "code",
   "execution_count": 103,
   "metadata": {
    "vscode": {
     "languageId": "r"
    }
   },
   "outputs": [
    {
     "data": {
      "text/plain": [
       "class: SingleCellExperiment \n",
       "dim: 46603 96 \n",
       "metadata(1): favorite_genes\n",
       "assays(2): counts logcounts\n",
       "rownames(46603): ENSMUSG00000102693 ENSMUSG00000064842 ...\n",
       "  ENSMUSG00000096730 ENSMUSG00000095742\n",
       "rowData names(3): Length mean detected\n",
       "colnames(96): SLX-9555.N701_S502.C89V9ANXX.s_1.r_1\n",
       "  SLX-9555.N701_S503.C89V9ANXX.s_1.r_1 ...\n",
       "  SLX-9555.N712_S508.C89V9ANXX.s_1.r_1\n",
       "  SLX-9555.N712_S517.C89V9ANXX.s_1.r_1\n",
       "colData names(8): genotype phenotype ... sizeFactor label\n",
       "reducedDimNames(3): PCA TSNE UMAP_uwot\n",
       "mainExpName: NULL\n",
       "altExpNames(1): spike"
      ]
     },
     "metadata": {},
     "output_type": "display_data"
    }
   ],
   "source": [
    "sce"
   ]
  },
  {
   "cell_type": "code",
   "execution_count": null,
   "metadata": {
    "vscode": {
     "languageId": "r"
    }
   },
   "outputs": [],
   "source": []
  }
 ],
 "metadata": {
  "kernelspec": {
   "display_name": "scR",
   "language": "R",
   "name": "scr"
  },
  "language_info": {
   "codemirror_mode": "r",
   "file_extension": ".r",
   "mimetype": "text/x-r-source",
   "name": "R",
   "pygments_lexer": "r",
   "version": "4.2.3"
  }
 },
 "nbformat": 4,
 "nbformat_minor": 2
}
