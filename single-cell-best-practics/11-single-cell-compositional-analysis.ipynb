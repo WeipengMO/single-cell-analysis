{
 "cells": [
  {
   "cell_type": "code",
   "execution_count": 1,
   "metadata": {},
   "outputs": [],
   "source": [
    "import warnings\n",
    "\n",
    "import pandas as pd\n",
    "\n",
    "warnings.filterwarnings(\"ignore\")\n",
    "warnings.simplefilter(\"ignore\")\n",
    "\n",
    "import scanpy as sc\n",
    "import numpy as np\n",
    "# import tensorflow as tf\n",
    "\n",
    "import matplotlib.pyplot as plt\n",
    "import matplotlib\n",
    "import seaborn as sns\n",
    "# import altair as alt\n",
    "import pertpy as pt"
   ]
  },
  {
   "cell_type": "code",
   "execution_count": 2,
   "metadata": {},
   "outputs": [],
   "source": [
    "adata = sc.read(\n",
    "    filename='haber_2017_regions.h5ad',\n",
    "    # backup_url='https://figshare.com/ndownloader/files/38169900'\n",
    ")\n",
    "\n",
    "# This dataset contains 53,193 individual epithelial cells from the small intestine and organoids of mice"
   ]
  },
  {
   "cell_type": "code",
   "execution_count": 3,
   "metadata": {},
   "outputs": [
    {
     "data": {
      "text/plain": [
       "AnnData object with n_obs × n_vars = 9842 × 15215\n",
       "    obs: 'batch', 'barcode', 'condition', 'cell_label'"
      ]
     },
     "execution_count": 3,
     "metadata": {},
     "output_type": "execute_result"
    }
   ],
   "source": [
    "adata"
   ]
  },
  {
   "cell_type": "code",
   "execution_count": 4,
   "metadata": {},
   "outputs": [
    {
     "data": {
      "text/html": [
       "<div>\n",
       "<style scoped>\n",
       "    .dataframe tbody tr th:only-of-type {\n",
       "        vertical-align: middle;\n",
       "    }\n",
       "\n",
       "    .dataframe tbody tr th {\n",
       "        vertical-align: top;\n",
       "    }\n",
       "\n",
       "    .dataframe thead th {\n",
       "        text-align: right;\n",
       "    }\n",
       "</style>\n",
       "<table border=\"1\" class=\"dataframe\">\n",
       "  <thead>\n",
       "    <tr style=\"text-align: right;\">\n",
       "      <th></th>\n",
       "      <th>batch</th>\n",
       "      <th>barcode</th>\n",
       "      <th>condition</th>\n",
       "      <th>cell_label</th>\n",
       "    </tr>\n",
       "    <tr>\n",
       "      <th>index</th>\n",
       "      <th></th>\n",
       "      <th></th>\n",
       "      <th></th>\n",
       "      <th></th>\n",
       "    </tr>\n",
       "  </thead>\n",
       "  <tbody>\n",
       "    <tr>\n",
       "      <th>B1_AAACATACCACAAC_Control_Enterocyte.Progenitor</th>\n",
       "      <td>B1</td>\n",
       "      <td>AAACATACCACAAC</td>\n",
       "      <td>Control</td>\n",
       "      <td>Enterocyte.Progenitor</td>\n",
       "    </tr>\n",
       "    <tr>\n",
       "      <th>B1_AAACGCACGAGGAC_Control_Stem</th>\n",
       "      <td>B1</td>\n",
       "      <td>AAACGCACGAGGAC</td>\n",
       "      <td>Control</td>\n",
       "      <td>Stem</td>\n",
       "    </tr>\n",
       "    <tr>\n",
       "      <th>B1_AAACGCACTAGCCA_Control_Stem</th>\n",
       "      <td>B1</td>\n",
       "      <td>AAACGCACTAGCCA</td>\n",
       "      <td>Control</td>\n",
       "      <td>Stem</td>\n",
       "    </tr>\n",
       "    <tr>\n",
       "      <th>B1_AAACGCACTGTCCC_Control_Stem</th>\n",
       "      <td>B1</td>\n",
       "      <td>AAACGCACTGTCCC</td>\n",
       "      <td>Control</td>\n",
       "      <td>Stem</td>\n",
       "    </tr>\n",
       "    <tr>\n",
       "      <th>B1_AAACTTGACCACCT_Control_Enterocyte.Progenitor</th>\n",
       "      <td>B1</td>\n",
       "      <td>AAACTTGACCACCT</td>\n",
       "      <td>Control</td>\n",
       "      <td>Enterocyte.Progenitor</td>\n",
       "    </tr>\n",
       "    <tr>\n",
       "      <th>...</th>\n",
       "      <td>...</td>\n",
       "      <td>...</td>\n",
       "      <td>...</td>\n",
       "      <td>...</td>\n",
       "    </tr>\n",
       "    <tr>\n",
       "      <th>B10_TTTCACGACAAGCT_Salmonella_TA</th>\n",
       "      <td>B10</td>\n",
       "      <td>TTTCACGACAAGCT</td>\n",
       "      <td>Salmonella</td>\n",
       "      <td>TA</td>\n",
       "    </tr>\n",
       "    <tr>\n",
       "      <th>B10_TTTCAGTGAGGCGA_Salmonella_Enterocyte</th>\n",
       "      <td>B10</td>\n",
       "      <td>TTTCAGTGAGGCGA</td>\n",
       "      <td>Salmonella</td>\n",
       "      <td>Enterocyte</td>\n",
       "    </tr>\n",
       "    <tr>\n",
       "      <th>B10_TTTCAGTGCGACAT_Salmonella_Stem</th>\n",
       "      <td>B10</td>\n",
       "      <td>TTTCAGTGCGACAT</td>\n",
       "      <td>Salmonella</td>\n",
       "      <td>Stem</td>\n",
       "    </tr>\n",
       "    <tr>\n",
       "      <th>B10_TTTCAGTGTGACCA_Salmonella_Endocrine</th>\n",
       "      <td>B10</td>\n",
       "      <td>TTTCAGTGTGACCA</td>\n",
       "      <td>Salmonella</td>\n",
       "      <td>Endocrine</td>\n",
       "    </tr>\n",
       "    <tr>\n",
       "      <th>B10_TTTCAGTGTTCTCA_Salmonella_Enterocyte.Progenitor</th>\n",
       "      <td>B10</td>\n",
       "      <td>TTTCAGTGTTCTCA</td>\n",
       "      <td>Salmonella</td>\n",
       "      <td>Enterocyte.Progenitor</td>\n",
       "    </tr>\n",
       "  </tbody>\n",
       "</table>\n",
       "<p>9842 rows × 4 columns</p>\n",
       "</div>"
      ],
      "text/plain": [
       "                                                   batch         barcode  \\\n",
       "index                                                                      \n",
       "B1_AAACATACCACAAC_Control_Enterocyte.Progenitor       B1  AAACATACCACAAC   \n",
       "B1_AAACGCACGAGGAC_Control_Stem                        B1  AAACGCACGAGGAC   \n",
       "B1_AAACGCACTAGCCA_Control_Stem                        B1  AAACGCACTAGCCA   \n",
       "B1_AAACGCACTGTCCC_Control_Stem                        B1  AAACGCACTGTCCC   \n",
       "B1_AAACTTGACCACCT_Control_Enterocyte.Progenitor       B1  AAACTTGACCACCT   \n",
       "...                                                  ...             ...   \n",
       "B10_TTTCACGACAAGCT_Salmonella_TA                     B10  TTTCACGACAAGCT   \n",
       "B10_TTTCAGTGAGGCGA_Salmonella_Enterocyte             B10  TTTCAGTGAGGCGA   \n",
       "B10_TTTCAGTGCGACAT_Salmonella_Stem                   B10  TTTCAGTGCGACAT   \n",
       "B10_TTTCAGTGTGACCA_Salmonella_Endocrine              B10  TTTCAGTGTGACCA   \n",
       "B10_TTTCAGTGTTCTCA_Salmonella_Enterocyte.Progen...   B10  TTTCAGTGTTCTCA   \n",
       "\n",
       "                                                     condition  \\\n",
       "index                                                            \n",
       "B1_AAACATACCACAAC_Control_Enterocyte.Progenitor        Control   \n",
       "B1_AAACGCACGAGGAC_Control_Stem                         Control   \n",
       "B1_AAACGCACTAGCCA_Control_Stem                         Control   \n",
       "B1_AAACGCACTGTCCC_Control_Stem                         Control   \n",
       "B1_AAACTTGACCACCT_Control_Enterocyte.Progenitor        Control   \n",
       "...                                                        ...   \n",
       "B10_TTTCACGACAAGCT_Salmonella_TA                    Salmonella   \n",
       "B10_TTTCAGTGAGGCGA_Salmonella_Enterocyte            Salmonella   \n",
       "B10_TTTCAGTGCGACAT_Salmonella_Stem                  Salmonella   \n",
       "B10_TTTCAGTGTGACCA_Salmonella_Endocrine             Salmonella   \n",
       "B10_TTTCAGTGTTCTCA_Salmonella_Enterocyte.Progen...  Salmonella   \n",
       "\n",
       "                                                               cell_label  \n",
       "index                                                                      \n",
       "B1_AAACATACCACAAC_Control_Enterocyte.Progenitor     Enterocyte.Progenitor  \n",
       "B1_AAACGCACGAGGAC_Control_Stem                                       Stem  \n",
       "B1_AAACGCACTAGCCA_Control_Stem                                       Stem  \n",
       "B1_AAACGCACTGTCCC_Control_Stem                                       Stem  \n",
       "B1_AAACTTGACCACCT_Control_Enterocyte.Progenitor     Enterocyte.Progenitor  \n",
       "...                                                                   ...  \n",
       "B10_TTTCACGACAAGCT_Salmonella_TA                                       TA  \n",
       "B10_TTTCAGTGAGGCGA_Salmonella_Enterocyte                       Enterocyte  \n",
       "B10_TTTCAGTGCGACAT_Salmonella_Stem                                   Stem  \n",
       "B10_TTTCAGTGTGACCA_Salmonella_Endocrine                         Endocrine  \n",
       "B10_TTTCAGTGTTCTCA_Salmonella_Enterocyte.Progen...  Enterocyte.Progenitor  \n",
       "\n",
       "[9842 rows x 4 columns]"
      ]
     },
     "execution_count": 4,
     "metadata": {},
     "output_type": "execute_result"
    }
   ],
   "source": [
    "adata.obs"
   ]
  },
  {
   "cell_type": "markdown",
   "metadata": {},
   "source": [
    "The data was collected in 10 batches. Unique conditions are Control, Salmonella, Hpoly.Day3 and Hpoly.Day10 which correspond to the healthy control state, Salmonella infection, Heligmosomoides polygyrus infected cells after 3 days and Heligmosomoides polygyrus infected cells after 10 days."
   ]
  },
  {
   "cell_type": "markdown",
   "metadata": {},
   "source": [
    "# With labeled clusters\n",
    "\n",
    "scCODA belongs to the family of tools that require pre-defined clusters, most commony cell types, to statistically derive changes in composition"
   ]
  },
  {
   "cell_type": "code",
   "execution_count": 5,
   "metadata": {},
   "outputs": [
    {
     "data": {
      "text/html": [
       "<pre>MuData object with n_obs × n_vars = 9852 × 15223\n",
       "  2 modalities\n",
       "    rna:\t9842 x 15215\n",
       "      obs:\t&#x27;batch&#x27;, &#x27;barcode&#x27;, &#x27;condition&#x27;, &#x27;cell_label&#x27;, &#x27;scCODA_sample_id&#x27;\n",
       "    coda:\t10 x 8\n",
       "      obs:\t&#x27;condition&#x27;, &#x27;batch&#x27;\n",
       "      var:\t&#x27;n_cells&#x27;</pre>"
      ],
      "text/plain": [
       "MuData object with n_obs × n_vars = 9852 × 15223\n",
       "  2 modalities\n",
       "    rna:\t9842 x 15215\n",
       "      obs:\t'batch', 'barcode', 'condition', 'cell_label', 'scCODA_sample_id'\n",
       "    coda:\t10 x 8\n",
       "      obs:\t'condition', 'batch'\n",
       "      var:\t'n_cells'"
      ]
     },
     "execution_count": 5,
     "metadata": {},
     "output_type": "execute_result"
    }
   ],
   "source": [
    "# use load function to prepare a MuData object for subsequent processing, and it creates a compositional analysis dataset from the input adata\n",
    "sccoda_model = pt.tl.Sccoda()\n",
    "sccoda_data = sccoda_model.load(\n",
    "    adata,\n",
    "    type=\"cell_level\",\n",
    "    generate_sample_level=True,\n",
    "    cell_type_identifier=\"cell_label\",\n",
    "    sample_identifier=\"batch\",\n",
    "    covariate_obs=[\"condition\"],\n",
    ")\n",
    "sccoda_data"
   ]
  },
  {
   "cell_type": "code",
   "execution_count": 6,
   "metadata": {},
   "outputs": [
    {
     "data": {
      "text/plain": [
       "AnnData object with n_obs × n_vars = 10 × 8\n",
       "    obs: 'condition', 'batch'\n",
       "    var: 'n_cells'"
      ]
     },
     "execution_count": 6,
     "metadata": {},
     "output_type": "execute_result"
    }
   ],
   "source": [
    "sccoda_data['coda']\n",
    "\n",
    "# obs -> sample, var -> cell type"
   ]
  },
  {
   "cell_type": "code",
   "execution_count": 7,
   "metadata": {},
   "outputs": [
    {
     "data": {
      "text/html": [
       "<div>\n",
       "<style scoped>\n",
       "    .dataframe tbody tr th:only-of-type {\n",
       "        vertical-align: middle;\n",
       "    }\n",
       "\n",
       "    .dataframe tbody tr th {\n",
       "        vertical-align: top;\n",
       "    }\n",
       "\n",
       "    .dataframe thead th {\n",
       "        text-align: right;\n",
       "    }\n",
       "</style>\n",
       "<table border=\"1\" class=\"dataframe\">\n",
       "  <thead>\n",
       "    <tr style=\"text-align: right;\">\n",
       "      <th></th>\n",
       "      <th>condition</th>\n",
       "      <th>batch</th>\n",
       "    </tr>\n",
       "    <tr>\n",
       "      <th>scCODA_sample_id</th>\n",
       "      <th></th>\n",
       "      <th></th>\n",
       "    </tr>\n",
       "  </thead>\n",
       "  <tbody>\n",
       "    <tr>\n",
       "      <th>B1</th>\n",
       "      <td>Control</td>\n",
       "      <td>B1</td>\n",
       "    </tr>\n",
       "    <tr>\n",
       "      <th>B10</th>\n",
       "      <td>Salmonella</td>\n",
       "      <td>B10</td>\n",
       "    </tr>\n",
       "    <tr>\n",
       "      <th>B2</th>\n",
       "      <td>Control</td>\n",
       "      <td>B2</td>\n",
       "    </tr>\n",
       "    <tr>\n",
       "      <th>B3</th>\n",
       "      <td>Control</td>\n",
       "      <td>B3</td>\n",
       "    </tr>\n",
       "    <tr>\n",
       "      <th>B4</th>\n",
       "      <td>Control</td>\n",
       "      <td>B4</td>\n",
       "    </tr>\n",
       "    <tr>\n",
       "      <th>B5</th>\n",
       "      <td>Hpoly.Day3</td>\n",
       "      <td>B5</td>\n",
       "    </tr>\n",
       "    <tr>\n",
       "      <th>B6</th>\n",
       "      <td>Hpoly.Day3</td>\n",
       "      <td>B6</td>\n",
       "    </tr>\n",
       "    <tr>\n",
       "      <th>B7</th>\n",
       "      <td>Hpoly.Day10</td>\n",
       "      <td>B7</td>\n",
       "    </tr>\n",
       "    <tr>\n",
       "      <th>B8</th>\n",
       "      <td>Hpoly.Day10</td>\n",
       "      <td>B8</td>\n",
       "    </tr>\n",
       "    <tr>\n",
       "      <th>B9</th>\n",
       "      <td>Salmonella</td>\n",
       "      <td>B9</td>\n",
       "    </tr>\n",
       "  </tbody>\n",
       "</table>\n",
       "</div>"
      ],
      "text/plain": [
       "                    condition batch\n",
       "scCODA_sample_id                   \n",
       "B1                    Control    B1\n",
       "B10                Salmonella   B10\n",
       "B2                    Control    B2\n",
       "B3                    Control    B3\n",
       "B4                    Control    B4\n",
       "B5                 Hpoly.Day3    B5\n",
       "B6                 Hpoly.Day3    B6\n",
       "B7                Hpoly.Day10    B7\n",
       "B8                Hpoly.Day10    B8\n",
       "B9                 Salmonella    B9"
      ]
     },
     "execution_count": 7,
     "metadata": {},
     "output_type": "execute_result"
    }
   ],
   "source": [
    "sccoda_data['coda'].obs"
   ]
  },
  {
   "cell_type": "code",
   "execution_count": 8,
   "metadata": {},
   "outputs": [
    {
     "data": {
      "text/html": [
       "<div>\n",
       "<style scoped>\n",
       "    .dataframe tbody tr th:only-of-type {\n",
       "        vertical-align: middle;\n",
       "    }\n",
       "\n",
       "    .dataframe tbody tr th {\n",
       "        vertical-align: top;\n",
       "    }\n",
       "\n",
       "    .dataframe thead th {\n",
       "        text-align: right;\n",
       "    }\n",
       "</style>\n",
       "<table border=\"1\" class=\"dataframe\">\n",
       "  <thead>\n",
       "    <tr style=\"text-align: right;\">\n",
       "      <th></th>\n",
       "      <th>n_cells</th>\n",
       "    </tr>\n",
       "    <tr>\n",
       "      <th>cell_label</th>\n",
       "      <th></th>\n",
       "    </tr>\n",
       "  </thead>\n",
       "  <tbody>\n",
       "    <tr>\n",
       "      <th>Endocrine</th>\n",
       "      <td>380</td>\n",
       "    </tr>\n",
       "    <tr>\n",
       "      <th>Enterocyte</th>\n",
       "      <td>1458</td>\n",
       "    </tr>\n",
       "    <tr>\n",
       "      <th>Enterocyte.Progenitor</th>\n",
       "      <td>1822</td>\n",
       "    </tr>\n",
       "    <tr>\n",
       "      <th>Goblet</th>\n",
       "      <td>758</td>\n",
       "    </tr>\n",
       "    <tr>\n",
       "      <th>Stem</th>\n",
       "      <td>1857</td>\n",
       "    </tr>\n",
       "    <tr>\n",
       "      <th>TA</th>\n",
       "      <td>1188</td>\n",
       "    </tr>\n",
       "    <tr>\n",
       "      <th>TA.Early</th>\n",
       "      <td>1970</td>\n",
       "    </tr>\n",
       "    <tr>\n",
       "      <th>Tuft</th>\n",
       "      <td>409</td>\n",
       "    </tr>\n",
       "  </tbody>\n",
       "</table>\n",
       "</div>"
      ],
      "text/plain": [
       "                       n_cells\n",
       "cell_label                    \n",
       "Endocrine                  380\n",
       "Enterocyte                1458\n",
       "Enterocyte.Progenitor     1822\n",
       "Goblet                     758\n",
       "Stem                      1857\n",
       "TA                        1188\n",
       "TA.Early                  1970\n",
       "Tuft                       409"
      ]
     },
     "execution_count": 8,
     "metadata": {},
     "output_type": "execute_result"
    }
   ],
   "source": [
    "sccoda_data['coda'].var"
   ]
  },
  {
   "cell_type": "code",
   "execution_count": 9,
   "metadata": {},
   "outputs": [
    {
     "data": {
      "text/plain": [
       "<AxesSubplot: xlabel='Cell type', ylabel='Proportion'>"
      ]
     },
     "execution_count": 9,
     "metadata": {},
     "output_type": "execute_result"
    },
    {
     "data": {
      "image/png": "[encoded data removed]",
      "text/plain": [
       "<Figure size 1200x500 with 1 Axes>"
      ]
     },
     "metadata": {},
     "output_type": "display_data"
    }
   ],
   "source": [
    "# overview of the cell type distributions across conditions\n",
    "\n",
    "pt.pl.coda.boxplots(\n",
    "    sccoda_data,\n",
    "    modality_key=\"coda\",\n",
    "    feature_name=\"condition\",\n",
    "    figsize=(12, 5),\n",
    "    add_dots=True,\n",
    "    args_swarmplot={\"palette\": [\"red\"]},\n",
    ")"
   ]
  },
  {
   "cell_type": "code",
   "execution_count": 10,
   "metadata": {},
   "outputs": [
    {
     "data": {
      "text/plain": [
       "<AxesSubplot: title={'center': 'condition'}, ylabel='Proportion'>"
      ]
     },
     "execution_count": 10,
     "metadata": {},
     "output_type": "execute_result"
    },
    {
     "data": {
      "image/png": "[encoded data removed]",
      "text/plain": [
       "<Figure size 400x200 with 1 Axes>"
      ]
     },
     "metadata": {},
     "output_type": "display_data"
    }
   ],
   "source": [
    "# stacked barplot displays the characteristics of compositional data\n",
    "pt.pl.coda.stacked_barplot(\n",
    "    sccoda_data, modality_key=\"coda\", feature_name=\"condition\", figsize=(4, 2)\n",
    ")"
   ]
  },
  {
   "cell_type": "code",
   "execution_count": 11,
   "metadata": {},
   "outputs": [
    {
     "name": "stderr",
     "output_type": "stream",
     "text": [
      "No GPU/TPU found, falling back to CPU. (Set TF_CPP_MIN_LOG_LEVEL=0 and rerun for more info.)\n",
      "sample: 100%|██████████| 11000/11000 [00:52<00:00, 209.12it/s, 79 steps of size 2.06e-02. acc. prob=0.79] \n"
     ]
    }
   ],
   "source": [
    "sccoda_data = sccoda_model.prepare(\n",
    "    sccoda_data,\n",
    "    modality_key=\"coda\",\n",
    "    formula=\"condition\",\n",
    "    reference_cell_type=\"Endocrine\",\n",
    ")\n",
    "sccoda_model.run_nuts(sccoda_data, modality_key=\"coda\", rng_key=1234)"
   ]
  },
  {
   "cell_type": "code",
   "execution_count": 12,
   "metadata": {},
   "outputs": [
    {
     "data": {
      "text/html": [
       "<div>\n",
       "<style scoped>\n",
       "    .dataframe tbody tr th:only-of-type {\n",
       "        vertical-align: middle;\n",
       "    }\n",
       "\n",
       "    .dataframe tbody tr th {\n",
       "        vertical-align: top;\n",
       "    }\n",
       "\n",
       "    .dataframe thead th {\n",
       "        text-align: right;\n",
       "    }\n",
       "</style>\n",
       "<table border=\"1\" class=\"dataframe\">\n",
       "  <thead>\n",
       "    <tr style=\"text-align: right;\">\n",
       "      <th></th>\n",
       "      <th>Final Parameter</th>\n",
       "      <th>HDI 3%</th>\n",
       "      <th>HDI 97%</th>\n",
       "      <th>SD</th>\n",
       "      <th>Inclusion probability</th>\n",
       "      <th>Expected Sample</th>\n",
       "      <th>log2-fold change</th>\n",
       "    </tr>\n",
       "    <tr>\n",
       "      <th>Cell Type</th>\n",
       "      <th></th>\n",
       "      <th></th>\n",
       "      <th></th>\n",
       "      <th></th>\n",
       "      <th></th>\n",
       "      <th></th>\n",
       "      <th></th>\n",
       "    </tr>\n",
       "  </thead>\n",
       "  <tbody>\n",
       "    <tr>\n",
       "      <th>Endocrine</th>\n",
       "      <td>0.000000</td>\n",
       "      <td>0.000</td>\n",
       "      <td>0.000</td>\n",
       "      <td>0.000</td>\n",
       "      <td>0.0000</td>\n",
       "      <td>32.521831</td>\n",
       "      <td>-0.527848</td>\n",
       "    </tr>\n",
       "    <tr>\n",
       "      <th>Enterocyte</th>\n",
       "      <td>1.547372</td>\n",
       "      <td>1.014</td>\n",
       "      <td>2.099</td>\n",
       "      <td>0.282</td>\n",
       "      <td>1.0000</td>\n",
       "      <td>383.095296</td>\n",
       "      <td>1.704538</td>\n",
       "    </tr>\n",
       "    <tr>\n",
       "      <th>Enterocyte.Progenitor</th>\n",
       "      <td>0.000000</td>\n",
       "      <td>-0.483</td>\n",
       "      <td>0.540</td>\n",
       "      <td>0.142</td>\n",
       "      <td>0.2827</td>\n",
       "      <td>125.953350</td>\n",
       "      <td>-0.527848</td>\n",
       "    </tr>\n",
       "    <tr>\n",
       "      <th>Goblet</th>\n",
       "      <td>0.000000</td>\n",
       "      <td>-0.320</td>\n",
       "      <td>1.016</td>\n",
       "      <td>0.291</td>\n",
       "      <td>0.4431</td>\n",
       "      <td>52.662920</td>\n",
       "      <td>-0.527848</td>\n",
       "    </tr>\n",
       "    <tr>\n",
       "      <th>Stem</th>\n",
       "      <td>0.000000</td>\n",
       "      <td>-0.742</td>\n",
       "      <td>0.301</td>\n",
       "      <td>0.175</td>\n",
       "      <td>0.3021</td>\n",
       "      <td>135.491865</td>\n",
       "      <td>-0.527848</td>\n",
       "    </tr>\n",
       "    <tr>\n",
       "      <th>TA</th>\n",
       "      <td>0.000000</td>\n",
       "      <td>-0.817</td>\n",
       "      <td>0.376</td>\n",
       "      <td>0.213</td>\n",
       "      <td>0.3548</td>\n",
       "      <td>78.957647</td>\n",
       "      <td>-0.527848</td>\n",
       "    </tr>\n",
       "    <tr>\n",
       "      <th>TA.Early</th>\n",
       "      <td>0.000000</td>\n",
       "      <td>-0.330</td>\n",
       "      <td>0.617</td>\n",
       "      <td>0.150</td>\n",
       "      <td>0.2962</td>\n",
       "      <td>152.461423</td>\n",
       "      <td>-0.527848</td>\n",
       "    </tr>\n",
       "    <tr>\n",
       "      <th>Tuft</th>\n",
       "      <td>0.000000</td>\n",
       "      <td>-1.302</td>\n",
       "      <td>0.558</td>\n",
       "      <td>0.359</td>\n",
       "      <td>0.4125</td>\n",
       "      <td>23.055667</td>\n",
       "      <td>-0.527848</td>\n",
       "    </tr>\n",
       "  </tbody>\n",
       "</table>\n",
       "</div>"
      ],
      "text/plain": [
       "                       Final Parameter  HDI 3%  HDI 97%     SD  \\\n",
       "Cell Type                                                        \n",
       "Endocrine                     0.000000   0.000    0.000  0.000   \n",
       "Enterocyte                    1.547372   1.014    2.099  0.282   \n",
       "Enterocyte.Progenitor         0.000000  -0.483    0.540  0.142   \n",
       "Goblet                        0.000000  -0.320    1.016  0.291   \n",
       "Stem                          0.000000  -0.742    0.301  0.175   \n",
       "TA                            0.000000  -0.817    0.376  0.213   \n",
       "TA.Early                      0.000000  -0.330    0.617  0.150   \n",
       "Tuft                          0.000000  -1.302    0.558  0.359   \n",
       "\n",
       "                       Inclusion probability  Expected Sample  \\\n",
       "Cell Type                                                       \n",
       "Endocrine                             0.0000        32.521831   \n",
       "Enterocyte                            1.0000       383.095296   \n",
       "Enterocyte.Progenitor                 0.2827       125.953350   \n",
       "Goblet                                0.4431        52.662920   \n",
       "Stem                                  0.3021       135.491865   \n",
       "TA                                    0.3548        78.957647   \n",
       "TA.Early                              0.2962       152.461423   \n",
       "Tuft                                  0.4125        23.055667   \n",
       "\n",
       "                       log2-fold change  \n",
       "Cell Type                                \n",
       "Endocrine                     -0.527848  \n",
       "Enterocyte                     1.704538  \n",
       "Enterocyte.Progenitor         -0.527848  \n",
       "Goblet                        -0.527848  \n",
       "Stem                          -0.527848  \n",
       "TA                            -0.527848  \n",
       "TA.Early                      -0.527848  \n",
       "Tuft                          -0.527848  "
      ]
     },
     "execution_count": 12,
     "metadata": {},
     "output_type": "execute_result"
    }
   ],
   "source": [
    "sccoda_data[\"coda\"].varm[\"effect_df_condition[T.Salmonella]\"]"
   ]
  },
  {
   "cell_type": "code",
   "execution_count": 13,
   "metadata": {},
   "outputs": [
    {
     "data": {
      "text/html": [
       "<pre>MuData object with n_obs × n_vars = 9852 × 15223\n",
       "  2 modalities\n",
       "    rna:\t9842 x 15215\n",
       "      obs:\t&#x27;batch&#x27;, &#x27;barcode&#x27;, &#x27;condition&#x27;, &#x27;cell_label&#x27;, &#x27;scCODA_sample_id&#x27;\n",
       "    coda:\t10 x 8\n",
       "      obs:\t&#x27;condition&#x27;, &#x27;batch&#x27;\n",
       "      var:\t&#x27;n_cells&#x27;\n",
       "      uns:\t&#x27;scCODA_params&#x27;\n",
       "      obsm:\t&#x27;covariate_matrix&#x27;, &#x27;sample_counts&#x27;\n",
       "      varm:\t&#x27;intercept_df&#x27;, &#x27;effect_df_condition[T.Hpoly.Day3]&#x27;, &#x27;effect_df_condition[T.Hpoly.Day10]&#x27;, &#x27;effect_df_condition[T.Salmonella]&#x27;</pre>"
      ],
      "text/plain": [
       "MuData object with n_obs × n_vars = 9852 × 15223\n",
       "  2 modalities\n",
       "    rna:\t9842 x 15215\n",
       "      obs:\t'batch', 'barcode', 'condition', 'cell_label', 'scCODA_sample_id'\n",
       "    coda:\t10 x 8\n",
       "      obs:\t'condition', 'batch'\n",
       "      var:\t'n_cells'\n",
       "      uns:\t'scCODA_params'\n",
       "      obsm:\t'covariate_matrix', 'sample_counts'\n",
       "      varm:\t'intercept_df', 'effect_df_condition[T.Hpoly.Day3]', 'effect_df_condition[T.Hpoly.Day10]', 'effect_df_condition[T.Salmonella]'"
      ]
     },
     "execution_count": 13,
     "metadata": {},
     "output_type": "execute_result"
    }
   ],
   "source": [
    "sccoda_data"
   ]
  },
  {
   "cell_type": "code",
   "execution_count": 14,
   "metadata": {},
   "outputs": [],
   "source": [
    "# A smaller FDR value will produce more conservative results, but might miss some effects, \n",
    "# while a larger FDR value selects more effects at the cost of a larger number of false discoveries\n",
    "sccoda_model.set_fdr(sccoda_data, 0.2)"
   ]
  },
  {
   "cell_type": "code",
   "execution_count": 15,
   "metadata": {},
   "outputs": [
    {
     "data": {
      "text/plain": [
       "Covariate                 Cell Type            \n",
       "condition[T.Hpoly.Day3]   Endocrine                False\n",
       "                          Enterocyte               False\n",
       "                          Enterocyte.Progenitor    False\n",
       "                          Goblet                   False\n",
       "                          Stem                     False\n",
       "                          TA                       False\n",
       "                          TA.Early                 False\n",
       "                          Tuft                     False\n",
       "condition[T.Hpoly.Day10]  Endocrine                False\n",
       "                          Enterocyte                True\n",
       "                          Enterocyte.Progenitor    False\n",
       "                          Goblet                   False\n",
       "                          Stem                     False\n",
       "                          TA                       False\n",
       "                          TA.Early                 False\n",
       "                          Tuft                      True\n",
       "condition[T.Salmonella]   Endocrine                False\n",
       "                          Enterocyte                True\n",
       "                          Enterocyte.Progenitor    False\n",
       "                          Goblet                   False\n",
       "                          Stem                     False\n",
       "                          TA                       False\n",
       "                          TA.Early                 False\n",
       "                          Tuft                     False\n",
       "Name: Final Parameter, dtype: bool"
      ]
     },
     "execution_count": 15,
     "metadata": {},
     "output_type": "execute_result"
    }
   ],
   "source": [
    "# To get the binary classification of compositional changes per cell type we use the credible_effects function of scCODA on the result object.\n",
    "sccoda_model.credible_effects(sccoda_data, modality_key=\"coda\")"
   ]
  },
  {
   "cell_type": "code",
   "execution_count": 16,
   "metadata": {},
   "outputs": [
    {
     "data": {
      "text/plain": [
       "<seaborn.axisgrid.FacetGrid at 0x7f1dc90eef10>"
      ]
     },
     "execution_count": 16,
     "metadata": {},
     "output_type": "execute_result"
    },
    {
     "data": {
      "image/png": "[encoded data removed]",
      "text/plain": [
       "<Figure size 1200x300 with 2 Axes>"
      ]
     },
     "metadata": {},
     "output_type": "display_data"
    }
   ],
   "source": [
    "# To plot the fold changes together with the binary classification, we can easily use effects_bar_plot function.\n",
    "pt.pl.coda.effects_barplot(sccoda_data, \"coda\", \"condition\")"
   ]
  },
  {
   "cell_type": "code",
   "execution_count": 20,
   "metadata": {},
   "outputs": [
    {
     "data": {
      "text/html": [
       "<pre>MuData object with n_obs × n_vars = 9852 × 15223\n",
       "  2 modalities\n",
       "    rna:\t9842 x 15215\n",
       "      obs:\t&#x27;batch&#x27;, &#x27;barcode&#x27;, &#x27;condition&#x27;, &#x27;cell_label&#x27;, &#x27;scCODA_sample_id&#x27;\n",
       "    coda:\t10 x 8\n",
       "      obs:\t&#x27;condition&#x27;, &#x27;batch&#x27;\n",
       "      var:\t&#x27;n_cells&#x27;\n",
       "      uns:\t&#x27;scCODA_params&#x27;\n",
       "      obsm:\t&#x27;covariate_matrix&#x27;, &#x27;sample_counts&#x27;\n",
       "      varm:\t&#x27;intercept_df&#x27;, &#x27;effect_df_condition[T.Hpoly.Day3]&#x27;, &#x27;effect_df_condition[T.Hpoly.Day10]&#x27;, &#x27;effect_df_condition[T.Salmonella]&#x27;</pre>"
      ],
      "text/plain": [
       "MuData object with n_obs × n_vars = 9852 × 15223\n",
       "  2 modalities\n",
       "    rna:\t9842 x 15215\n",
       "      obs:\t'batch', 'barcode', 'condition', 'cell_label', 'scCODA_sample_id'\n",
       "    coda:\t10 x 8\n",
       "      obs:\t'condition', 'batch'\n",
       "      var:\t'n_cells'\n",
       "      uns:\t'scCODA_params'\n",
       "      obsm:\t'covariate_matrix', 'sample_counts'\n",
       "      varm:\t'intercept_df', 'effect_df_condition[T.Hpoly.Day3]', 'effect_df_condition[T.Hpoly.Day10]', 'effect_df_condition[T.Salmonella]'"
      ]
     },
     "execution_count": 20,
     "metadata": {},
     "output_type": "execute_result"
    }
   ],
   "source": [
    "sccoda_data"
   ]
  },
  {
   "cell_type": "markdown",
   "metadata": {},
   "source": [
    "# Key Takeaways\n",
    "- If the primary interest lies in compositional changes among known cell-types or states, use scCODA or tascCODA to statistically evaluate changes in abundance.\n",
    "\n",
    "- KNN based methods like DA-Seq or MILO should be used if the data does not cluster distinctly, such as during developmental processes, if we are interested in differences in cell abundances that might appear in transitional states between cell types or in a specific subset of cells of a given cell type."
   ]
  },
  {
   "cell_type": "code",
   "execution_count": 18,
   "metadata": {},
   "outputs": [],
   "source": [
    "import session_info"
   ]
  },
  {
   "cell_type": "code",
   "execution_count": 19,
   "metadata": {},
   "outputs": [
    {
     "data": {
      "text/html": [
       "<details>\n",
       "<summary>Click to view session information</summary>\n",
       "<pre>\n",
       "-----\n",
       "anndata             0.9.2\n",
       "matplotlib          3.6.2\n",
       "mudata              0.2.3\n",
       "numpy               1.24.4\n",
       "pandas              1.5.3\n",
       "pertpy              0.5.0\n",
       "scanpy              1.9.5\n",
       "seaborn             0.11.2\n",
       "session_info        1.0.0\n",
       "-----\n",
       "</pre>\n",
       "<details>\n",
       "<summary>Click to view modules imported as dependencies</summary>\n",
       "<pre>\n",
       "PIL                 9.4.0\n",
       "PyQt5               NA\n",
       "absl                NA\n",
       "adjustText          0.8\n",
       "aiohttp             3.8.5\n",
       "aiosignal           1.3.1\n",
       "annotated_types     0.5.0\n",
       "anyio               NA\n",
       "arrow               1.2.3\n",
       "arviz               0.16.1\n",
       "asttokens           NA\n",
       "async_timeout       4.0.3\n",
       "attr                23.1.0\n",
       "backcall            0.2.0\n",
       "backoff             2.2.1\n",
       "bottleneck          1.3.5\n",
       "bs4                 4.12.2\n",
       "certifi             2023.07.22\n",
       "cffi                1.15.1\n",
       "charset_normalizer  3.2.0\n",
       "chex                0.1.7\n",
       "click               8.1.7\n",
       "comm                0.1.4\n",
       "contextlib2         NA\n",
       "croniter            NA\n",
       "custom_inherit      2.4.1\n",
       "cycler              0.10.0\n",
       "cython_runtime      NA\n",
       "dateutil            2.8.2\n",
       "debugpy             1.6.7\n",
       "decorator           5.1.1\n",
       "decoupler           1.5.0\n",
       "deepdiff            6.5.0\n",
       "docrep              0.3.2\n",
       "ete3                3.1.3\n",
       "etils               1.4.1\n",
       "exceptiongroup      1.0.4\n",
       "executing           0.8.3\n",
       "fastapi             0.103.1\n",
       "flax                0.7.4\n",
       "frozenlist          1.4.0\n",
       "fsspec              2023.9.0\n",
       "h5py                3.9.0\n",
       "idna                3.4\n",
       "igraph              0.10.8\n",
       "importlib_metadata  NA\n",
       "importlib_resources NA\n",
       "ipykernel           6.25.0\n",
       "ipywidgets          8.1.1\n",
       "jax                 0.4.14\n",
       "jaxlib              0.4.14\n",
       "jaxopt              NA\n",
       "jedi                0.18.1\n",
       "jinja2              3.1.2\n",
       "joblib              1.3.2\n",
       "kiwisolver          1.4.4\n",
       "leidenalg           0.10.1\n",
       "lightning           2.0.8\n",
       "lightning_cloud     NA\n",
       "lightning_fabric    2.0.8\n",
       "lightning_utilities 0.9.0\n",
       "llvmlite            0.40.1\n",
       "markupsafe          2.1.3\n",
       "matplotlib_inline   0.1.6\n",
       "mizani              0.9.3\n",
       "ml_collections      NA\n",
       "ml_dtypes           0.2.0\n",
       "mpl_toolkits        NA\n",
       "mpmath              1.3.0\n",
       "msgpack             1.0.5\n",
       "multidict           6.0.4\n",
       "multipart           0.0.6\n",
       "multipledispatch    0.6.0\n",
       "natsort             8.4.0\n",
       "numba               0.57.1\n",
       "numexpr             2.8.4\n",
       "numpyro             0.13.0\n",
       "nvfuser             NA\n",
       "opt_einsum          v3.3.0\n",
       "optax               0.1.7\n",
       "ordered_set         4.1.0\n",
       "ott                 0.4.4\n",
       "packaging           23.1\n",
       "parso               0.8.3\n",
       "patsy               0.5.3\n",
       "pexpect             4.8.0\n",
       "pickleshare         0.7.5\n",
       "pkg_resources       NA\n",
       "platformdirs        3.10.0\n",
       "plotnine            0.12.3\n",
       "ply                 3.11\n",
       "png                 0.20220715.0\n",
       "prompt_toolkit      3.0.36\n",
       "psutil              5.9.0\n",
       "ptyprocess          0.7.0\n",
       "pure_eval           0.2.2\n",
       "pycparser           2.21\n",
       "pydantic            2.1.1\n",
       "pydantic_core       2.4.0\n",
       "pydev_ipython       NA\n",
       "pydevconsole        NA\n",
       "pydevd              2.9.5\n",
       "pydevd_file_utils   NA\n",
       "pydevd_plugins      NA\n",
       "pydevd_tracing      NA\n",
       "pygments            2.15.1\n",
       "pyomo               6.6.2\n",
       "pyparsing           3.0.9\n",
       "pyro                1.8.6\n",
       "pytorch_lightning   2.0.8\n",
       "pytz                2023.3.post1\n",
       "reportlab           4.0.4\n",
       "requests            2.31.0\n",
       "rich                NA\n",
       "rpy2                3.5.14\n",
       "scipy               1.11.2\n",
       "scvi                1.0.3\n",
       "setuptools          68.0.0\n",
       "sip                 NA\n",
       "six                 1.16.0\n",
       "sklearn             1.3.0\n",
       "skmisc              0.3.0\n",
       "sniffio             1.3.0\n",
       "soupsieve           2.5\n",
       "sparse              0.14.0\n",
       "sparsecca           0.3.0\n",
       "stack_data          0.2.0\n",
       "starlette           0.27.0\n",
       "statannotations     0.5.0\n",
       "statsmodels         0.14.0\n",
       "switchlang          0.1.0\n",
       "sympy               1.12\n",
       "texttable           1.6.7\n",
       "threadpoolctl       3.2.0\n",
       "toolz               0.12.0\n",
       "torch               2.0.1+cu117\n",
       "torchmetrics        1.1.2\n",
       "tornado             6.3.2\n",
       "toyplot             1.0.3\n",
       "toytree             2.0.1\n",
       "tqdm                4.66.1\n",
       "traitlets           5.7.1\n",
       "tree                0.1.8\n",
       "typing_extensions   NA\n",
       "tzlocal             NA\n",
       "urllib3             2.0.4\n",
       "uvicorn             0.23.2\n",
       "wcwidth             0.2.5\n",
       "websocket           1.6.3\n",
       "websockets          11.0.3\n",
       "xarray              2023.8.0\n",
       "xarray_einstats     0.6.0\n",
       "yaml                6.0.1\n",
       "yarl                1.9.2\n",
       "zipp                NA\n",
       "zmq                 25.1.0\n",
       "zoneinfo            NA\n",
       "</pre>\n",
       "</details> <!-- seems like this ends pre, so might as well be explicit -->\n",
       "<pre>\n",
       "-----\n",
       "IPython             8.15.0\n",
       "jupyter_client      8.1.0\n",
       "jupyter_core        5.3.0\n",
       "-----\n",
       "Python 3.9.18 (main, Sep 11 2023, 13:41:44) [GCC 11.2.0]\n",
       "Linux-6.2.0-32-generic-x86_64-with-glibc2.35\n",
       "-----\n",
       "Session information updated at 2023-09-20 13:56\n",
       "</pre>\n",
       "</details>"
      ],
      "text/plain": [
       "<IPython.core.display.HTML object>"
      ]
     },
     "execution_count": 19,
     "metadata": {},
     "output_type": "execute_result"
    }
   ],
   "source": [
    "session_info.show()"
   ]
  },
  {
   "cell_type": "markdown",
   "metadata": {},
   "source": [
    "More details about the compopsitional analysis can be found: https://www.sc-best-practices.org/conditions/compositional.html"
   ]
  }
 ],
 "metadata": {
  "kernelspec": {
   "display_name": "sc",
   "language": "python",
   "name": "python3"
  },
  "language_info": {
   "codemirror_mode": {
    "name": "ipython",
    "version": 3
   },
   "file_extension": ".py",
   "mimetype": "text/x-python",
   "name": "python",
   "nbconvert_exporter": "python",
   "pygments_lexer": "ipython3",
   "version": "3.9.18"
  },
  "orig_nbformat": 4
 },
 "nbformat": 4,
 "nbformat_minor": 2
}
